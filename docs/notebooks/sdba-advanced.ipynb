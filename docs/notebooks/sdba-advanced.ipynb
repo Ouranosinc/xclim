{
 "cells": [
  {
   "cell_type": "markdown",
   "metadata": {},
   "source": [
    "# Statistical Downscaling and Bias-Adjustment - Advanced tools\n",
    "\n",
    "The previous notebook covered the most common utilities of `xclim.sdba` for conventional cases. Here, we explore more advanced usage of `xclim.sdba` tools.\n",
    "\n",
    "## Optimization with dask\n",
    "\n",
    "Adjustment processes can be very heavy when we need to compute them over large regions and long timeseries. Using small groupings (like `time.dayofyear`) adds precision and robustness, but also decouples the load and computing complexity. Fortunately, unlike the heroic pioneers of scientific computing who managed to write parallelized FORTRAN, we now have [dask](https://dask.org/). With only a few parameters, we can magically distribute the computing load to multiple workers and threads.\n",
    "\n",
    "A good first read on the use of dask within xarray are the latter's [Optimization tips](https://xarray.pydata.org/en/stable/user-guide/dask.html#optimization-tips).\n",
    "\n",
    "Some `xclim.sdba`-specific tips:\n",
    "\n",
    "* Most adjustment method will need to perform operation on the whole `time` coordinate, so it is best to optimize chunking along the other dimensions. This is often different from how public data is shared, where more universal 3D chunks are used.\n",
    "\n",
    "    Chunking of outputs can be controlled in xarray's [to_netcdf](https://xarray.pydata.org/en/stable/generated/xarray.Dataset.to_netcdf.html?highlight=to_netcdf#xarray.Dataset.to_netcdf). We also suggest using [Zarr](https://zarr.readthedocs.io/en/stable/) files. According to [its creators](https://ui.adsabs.harvard.edu/abs/2018AGUFMIN33A..06A/abstract), `zarr` stores should give better performances, especially because of their better ability for parallel I/O. See [Dataset.to_zarr](https://xarray.pydata.org/en/stable/generated/xarray.Dataset.to_zarr.html?highlight=to_zarr#xarray.Dataset.to_zarr) and this useful [rechunking package](https://rechunker.readthedocs.io).\n",
    "\n",
    "\n",
    "* One of the main bottleneck for adjustments with small groups is that dask needs to build and optimize an enormous task graph. This issue has been greatly reduced with xclim 0.27 and the use of `map_blocks` in the adjustment methods. However, not all adjustment methods use this optimized syntax.\n",
    "\n",
    "    In order to help dask, one can split the processing in parts. For splitting training and adjustment, see [the section below](#Initializing-an-Adjustment-object-from-a-training-dataset).\n",
    "\n",
    "\n",
    "* Another massive bottleneck of parallelization of `xarray` is the thread-locking behaviour of some methods. It is quite difficult to isolate and avoid these locking instances, so one of the best workarounds is to use `dask` configurations with many _processes_ and few _threads_. The former do not share memory and thus are not impacted when a lock is activated from a thread in another worker. However, this adds many memory transfer operations and, by experience, reduces dask's ability to parallelize some pipelines. Such a dask Client is usually created with a large `n_workers` and a small `threads_per_worker`.\n",
    "\n",
    "\n",
    "* Sometimes, datasets have auxiliary coordinates (for example : lat / lon in a rotated pole dataset). Xarray handles these variables as data variables and will **not** load them if dask is used. However, in some operations, `xclim` or `xarray` will trigger access to those variables, triggering computations each time, since they are `dask`-based. To avoid this behaviour, one can load the coordinates, or simply remove them from the inputs."
   ]
  },
  {
   "cell_type": "markdown",
   "metadata": {},
   "source": [
    "## LOESS smoothing and detrending\n",
    "\n",
    "As described in Cleveland (1979), locally weighted linear regressions are multiple regression methods using a nearest-neighbour approach. Instead of using all data points to compute a linear or polynomial regression, LOESS algorithms compute a local regression for each point in the dataset, using only the k-nearest neighbours as selected by a weighting function. This weighting function must fulfill some strict requirements, see the doc of `xclim.sdba.loess.loess_smoothing` for more details.\n",
    "\n",
    "In xclim's implementation, the user can choose between local _constancy_ ($d=0$, local estimates are weighted averages) and local _linearity_ ($d=1$, local estimates are taken from linear regressions). Two weighting functions are currently implemented : \"tricube\" ($w(x) = (1 - x^3)^3$) and \"gaussian\" ($w(x) = e^{-x^2 / 2\\sigma^2}$). Finally, the number of Cleveland's _robustifying iterations_ is controllable through `niter`. After computing an estimate of $y(x)$, the weights are modulated by a function of the distance between the estimate and the points and the procedure is started over. These iterations are made to weaken the effect of outliers on the estimate.\n",
    "\n",
    "The next example shows the application of the LOESS to daily temperature data. The black line and dot are the estimated $y$, outputs of the `sdba.loess.loess_smoothing` function, using local linear regression (passing $d = 1$), a window spanning 20% ($f = 0.2$) of the domain, the \"tricube\" weighting function and only one iteration. The red curve illustrates the weighting function on January 1st 2014, where the red circles are the nearest-neighbours used in the estimation."
   ]
  },
  {
   "cell_type": "code",
   "execution_count": null,
   "metadata": {},
   "outputs": [],
   "source": [
    "from __future__ import annotations\n",
    "\n",
    "import matplotlib.pyplot as plt\n",
    "import nc_time_axis\n",
    "import numpy as np\n",
    "import xarray as xr\n",
    "\n",
    "from xclim.sdba import loess\n",
    "\n",
    "%matplotlib inline"
   ]
  },
  {
   "cell_type": "code",
   "execution_count": null,
   "metadata": {},
   "outputs": [],
   "source": [
    "# Daily temperature data from xarray's tutorials\n",
    "ds = xr.tutorial.open_dataset(\"air_temperature\").resample(time=\"D\").mean()\n",
    "tas = ds.isel(lat=0, lon=0).air\n",
    "\n",
    "# Compute the smoothed series\n",
    "f = 0.2\n",
    "ys = loess.loess_smoothing(tas, d=1, weights=\"tricube\", f=f, niter=1)\n",
    "\n",
    "# Plot data points and smoothed series\n",
    "fig, ax = plt.subplots()\n",
    "ax.plot(tas.time, tas, \"o\", fillstyle=\"none\")\n",
    "ax.plot(tas.time, ys, \"k\")\n",
    "ax.set_xlabel(\"Time\")\n",
    "ax.set_ylabel(\"Temperature [K]\")\n",
    "\n",
    "## The code below calls internal functions to demonstrate how the weights are computed.\n",
    "\n",
    "# LOESS algorithms as implemented here use scaled coordinates.\n",
    "x = tas.time\n",
    "x = (x - x[0]) / (x[-1] - x[0])\n",
    "xi = x[366]\n",
    "ti = tas.time[366]\n",
    "\n",
    "# Weighting function take the distance with all neighbors scaled by the r parameter as input\n",
    "r = int(f * tas.time.size)\n",
    "h = np.sort(np.abs(x - xi))[r]\n",
    "weights = loess._tricube_weighting(np.abs(x - xi).values / h)\n",
    "\n",
    "# Plot nearest neighbors and weighing function\n",
    "wax = ax.twinx()\n",
    "wax.plot(tas.time, weights, color=\"indianred\")\n",
    "ax.plot(\n",
    "    tas.time, tas.where(tas * weights > 0), \"o\", color=\"lightcoral\", fillstyle=\"none\"\n",
    ")\n",
    "\n",
    "ax.plot(ti, ys[366], \"ko\")\n",
    "wax.set_ylabel(\"Weights\")\n",
    "plt.show()"
   ]
  },
  {
   "cell_type": "markdown",
   "metadata": {},
   "source": [
    "LOESS smoothing can suffer from heavy boundary effects. On the previous graph, we can associate the strange bend on the left end of the line to them. The next example shows a stronger case. Usually, $\\frac{f}{2}N$ points on each side should be discarded. On the other hand, LOESS has the advantage of always staying within the bounds of the data.\n",
    "\n",
    "\n",
    "### LOESS Detrending\n",
    "\n",
    "In climate science, it can be used in the detrending process. `xclim` provides `sdba.detrending.LoessDetrend` in order to compute trend with the LOESS smoothing and remove them from timeseries.\n",
    "\n",
    "First we create some toy data with a sinusoidal annual cycle, random noise and a linear temperature increase."
   ]
  },
  {
   "cell_type": "code",
   "execution_count": null,
   "metadata": {},
   "outputs": [],
   "source": [
    "time = xr.cftime_range(\"1990-01-01\", \"2049-12-31\", calendar=\"noleap\")\n",
    "tas = xr.DataArray(\n",
    "    (\n",
    "        10 * np.sin(time.dayofyear * 2 * np.pi / 365)\n",
    "        + 5 * (np.random.random_sample(time.size) - 0.5)  # Annual variability\n",
    "        + np.linspace(0, 1.5, num=time.size)  # Random noise\n",
    "    ),  # 1.5 degC increase in 60 years\n",
    "    dims=(\"time\",),\n",
    "    coords={\"time\": time},\n",
    "    attrs={\"units\": \"degC\"},\n",
    "    name=\"temperature\",\n",
    ")\n",
    "tas.plot()"
   ]
  },
  {
   "cell_type": "markdown",
   "metadata": {},
   "source": [
    "Then we compute the trend on the data. Here, we compute on the whole timeseries (`group='time'`) with the parameters suggested above."
   ]
  },
  {
   "cell_type": "code",
   "execution_count": null,
   "metadata": {},
   "outputs": [],
   "source": [
    "from xclim.sdba.detrending import LoessDetrend\n",
    "\n",
    "# Create the detrending object\n",
    "det = LoessDetrend(group=\"time\", d=0, niter=2, f=0.2)\n",
    "# Fitting returns a new object and computes the trend.\n",
    "fit = det.fit(tas)\n",
    "# Get the detrended series\n",
    "tas_det = fit.detrend(tas)"
   ]
  },
  {
   "cell_type": "code",
   "execution_count": null,
   "metadata": {},
   "outputs": [],
   "source": [
    "fig, ax = plt.subplots()\n",
    "fit.ds.trend.plot(ax=ax, label=\"Computed trend\")\n",
    "ax.plot(time, np.linspace(0, 1.5, num=time.size), label=\"Expected tred\")\n",
    "ax.plot([time[0], time[int(0.1 * time.size)]], [0.4, 0.4], linewidth=6, color=\"gray\")\n",
    "ax.plot([time[-int(0.1 * time.size)], time[-1]], [1.1, 1.1], linewidth=6, color=\"gray\")\n",
    "ax.legend()"
   ]
  },
  {
   "cell_type": "markdown",
   "metadata": {},
   "source": [
    "As said earlier, this example shows how the Loess has strong boundary effects. It is recommended to remove the $\\frac{f}{2}\\cdot N$ outermost points on each side, as shown by the  gray bars in the graph above."
   ]
  },
  {
   "cell_type": "markdown",
   "metadata": {},
   "source": [
    "## Initializing an Adjustment object from a training dataset\n",
    "\n",
    "For large scale uses, when the training step deserves its own computation and write to disk, or simply when there are multiples `sim` to be adjusted with the same training, it is helpful to be able to instantiate the Adjustment objects from the training dataset itself. This trick relies on a global attribute \"adj_params\" set on the training dataset."
   ]
  },
  {
   "cell_type": "code",
   "execution_count": null,
   "metadata": {},
   "outputs": [],
   "source": [
    "import numpy as np\n",
    "import xarray as xr\n",
    "\n",
    "# Create toy data for the example, here fake temperature timeseries\n",
    "t = xr.cftime_range(\"2000-01-01\", \"2030-12-31\", freq=\"D\", calendar=\"noleap\")\n",
    "ref = xr.DataArray(\n",
    "    (\n",
    "        -20 * np.cos(2 * np.pi * t.dayofyear / 365)\n",
    "        + 2 * np.random.random_sample((t.size,))\n",
    "        + 273.15\n",
    "        + 0.1 * (t - t[0]).days / 365\n",
    "    ),  # \"warming\" of 1K per decade,\n",
    "    dims=(\"time\",),\n",
    "    coords={\"time\": t},\n",
    "    attrs={\"units\": \"K\"},\n",
    ")\n",
    "sim = xr.DataArray(\n",
    "    (\n",
    "        -18 * np.cos(2 * np.pi * t.dayofyear / 365)\n",
    "        + 2 * np.random.random_sample((t.size,))\n",
    "        + 273.15\n",
    "        + 0.11 * (t - t[0]).days / 365\n",
    "    ),  # \"warming\" of 1.1K per decade\n",
    "    dims=(\"time\",),\n",
    "    coords={\"time\": t},\n",
    "    attrs={\"units\": \"K\"},\n",
    ")\n",
    "\n",
    "ref = ref.sel(time=slice(None, \"2015-01-01\"))\n",
    "hist = sim.sel(time=slice(None, \"2015-01-01\"))"
   ]
  },
  {
   "cell_type": "code",
   "execution_count": null,
   "metadata": {},
   "outputs": [],
   "source": [
    "from xclim.sdba.adjustment import QuantileDeltaMapping\n",
    "\n",
    "QDM = QuantileDeltaMapping.train(\n",
    "    ref, hist, nquantiles=15, kind=\"+\", group=\"time.dayofyear\"\n",
    ")\n",
    "QDM"
   ]
  },
  {
   "cell_type": "markdown",
   "metadata": {},
   "source": [
    "The trained `QDM` exposes the training data in the `ds` attribute, Here, we will write it to disk, read it back and initialize a new object from it. Notice the `adj_params` in the dataset, that has the same value as the repr string printed just above. Also, notice the `_xclim_adjustment` attribute that contains a JSON string, so we can rebuild the adjustment object later."
   ]
  },
  {
   "cell_type": "code",
   "execution_count": null,
   "metadata": {},
   "outputs": [],
   "source": [
    "QDM.ds"
   ]
  },
  {
   "cell_type": "code",
   "execution_count": null,
   "metadata": {},
   "outputs": [],
   "source": [
    "QDM.ds.to_netcdf(\"QDM_training.nc\")\n",
    "ds = xr.open_dataset(\"QDM_training.nc\")\n",
    "QDM2 = QuantileDeltaMapping.from_dataset(ds)\n",
    "QDM2"
   ]
  },
  {
   "cell_type": "markdown",
   "metadata": {},
   "source": [
    "In the case above, creating a full object from the dataset doesn't make the most sense since we are in the same python session, with the \"old\" object still available. This method effective when we reload the training data in a different python session, say on another computer. **However, take note that there is no retro-compatibility insurance.** If the `QuantileDeltaMapping` class was to change in a new xclim version, one would not be able to create the new object from a dataset saved with the old one.\n",
    "\n",
    "For the case where we stay in the same python session, it is still useful to trigger the dask computations. For small datasets, that could mean a simple `QDM.ds.load()`, but sometimes even the training data is too large to be full loaded in memory. In that case, we could also do:"
   ]
  },
  {
   "cell_type": "code",
   "execution_count": null,
   "metadata": {},
   "outputs": [],
   "source": [
    "QDM.ds.to_netcdf(\"QDM_training2.nc\")\n",
    "ds = xr.open_dataset(\"QDM_training2.nc\")\n",
    "ds.attrs[\"title\"] = \"This is the dataset, but read from disk.\"\n",
    "QDM.set_dataset(ds)\n",
    "QDM.ds"
   ]
  },
  {
   "cell_type": "code",
   "execution_count": null,
   "metadata": {},
   "outputs": [],
   "source": [
    "QDM2.adjust(sim)"
   ]
  },
  {
   "cell_type": "markdown",
   "metadata": {},
   "source": [
    "## Retrieving extra output diagnostics\n",
    "\n",
    "To fully understand what is happening during the bias-adjustment process, sdba can output _diagnostic_ variables, giving more visibility to what the adjustment is doing behind the scene. This behaviour, a `verbose` option, is controlled by the `sdba_extra_output` option, set with `xclim.set_options`. When `True`, `train` calls are instructed to include additional variables to the training datasets. In addition, the `adjust` calls will always output a dataset, with `scen` and, depending on the algorithm, other diagnostics variables. See the documentation of each `Adjustment` objects to see what extra variables are available.\n",
    "\n",
    "For the moment, this feature is still under construction and only a few `Adjustment` actually provide these extra outputs. Please open issues on the GitHub repo if you have needs or ideas of interesting diagnostic variables.\n",
    "\n",
    "For example, `QDM.adjust` adds `sim_q`, which gives the quantile of each element of `sim` within its group."
   ]
  },
  {
   "cell_type": "code",
   "execution_count": null,
   "metadata": {},
   "outputs": [],
   "source": [
    "from xclim import set_options\n",
    "\n",
    "with set_options(sdba_extra_output=True):\n",
    "    QDM = QuantileDeltaMapping.train(\n",
    "        ref, hist, nquantiles=15, kind=\"+\", group=\"time.dayofyear\"\n",
    "    )\n",
    "    out = QDM.adjust(sim)\n",
    "\n",
    "out.sim_q"
   ]
  },
  {
   "cell_type": "markdown",
   "metadata": {},
   "source": [
    "## Moving window for adjustments\n",
    "\n",
    "Some Adjustment methods require that the adjusted data (`sim`) be of the same length (same number of points) than the training data (`ref` and `hist`). These requirements often ensure conservation of statistical properties and a better representation of the climate change signal over the long adjusted timeseries.\n",
    "\n",
    "In opposition to a conventional \"rolling window\", here it is the _years_ that are the base units of the window, not the elements themselves. `xclim` implements `sdba.construct_moving_yearly_window` and `sdba.unpack_moving_yearly_window` to manipulate data in that goal. The \"construct\" function cuts the data in overlapping windows of a certain length (in years) and stacks them along a new `\"movingdim\"` dimension, alike to xarray's `da.rolling(time=win).construct('movingdim')`, but with yearly steps. The step between each window can also be controlled. This argument is an indicator of how many years overlap between each window. With a value of 1 (the default), a window will have `window - 1` years overlapping with the previous one. `step = window` will result in no overlap at all.\n",
    "\n",
    "By default, the result is chunked along this `'movingdim'` dimension. For this reason, the method is expected to be more computationally efficient (when using `dask`) than looping over the windows.\n",
    "\n",
    "Note that this results in two restrictions:\n",
    "\n",
    "1. The constructed array has the same \"time\" axis for all windows. This is a problem if the actual _year_ is of importance for the adjustment, but this is not the case for any of xclim's current adjustment methods.\n",
    "2. The input timeseries must be in a calendar with uniform year lengths. For daily data, this means only the \"360_day\", \"noleap\" and \"all_leap\" calendars are supported.\n",
    "\n",
    "The \"unpack\" function does the opposite : it concatenates the windows together to recreate the original timeseries.\n",
    "The time points that are not part of a window will not appear in the reconstructed timeseries.\n",
    "If `append_ends` is True, the reconstructed timeseries will go from the first time point of the first window to the last time point of the last window. In the middle, the central `step` years are kept from each window.\n",
    "If `append_ends` is False, only the central `step` years are kept from each window. Which means the final timeseries has  `(window - step) / 2` years missing on either side, with the extra year missing on the right in case of an odd `(window - step)`. We are missing data, but the contribution from each window is equal.\n",
    "\n",
    "Here, as `ref` and `hist` cover 15 years, we will use a window of 15 on sim. With a step of two (2), this means the first window goes from 2000 to 2014 (inclusive). The last window goes from 2016 to 2030. `window - step = 13`, so six (6) years will be missing at the beginning of the final `scen` and seven (7) years at the end."
   ]
  },
  {
   "cell_type": "code",
   "execution_count": null,
   "metadata": {},
   "outputs": [],
   "source": [
    "QDM = QuantileDeltaMapping.train(\n",
    "    ref, hist, nquantiles=15, kind=\"+\", group=\"time.dayofyear\"\n",
    ")\n",
    "\n",
    "scen_nowin = QDM.adjust(sim)"
   ]
  },
  {
   "cell_type": "code",
   "execution_count": null,
   "metadata": {},
   "outputs": [],
   "source": [
    "sim"
   ]
  },
  {
   "cell_type": "code",
   "execution_count": null,
   "metadata": {},
   "outputs": [],
   "source": [
    "from xclim.sdba import construct_moving_yearly_window, unpack_moving_yearly_window\n",
    "\n",
    "sim_win = construct_moving_yearly_window(sim, window=15, step=2)\n",
    "sim_win"
   ]
  },
  {
   "cell_type": "markdown",
   "metadata": {},
   "source": [
    "Here, we retrieve the full timeseries."
   ]
  },
  {
   "cell_type": "code",
   "execution_count": null,
   "metadata": {},
   "outputs": [],
   "source": [
    "scen_win = unpack_moving_yearly_window(QDM.adjust(sim_win), append_ends=True)\n",
    "scen_win"
   ]
  },
  {
   "cell_type": "markdown",
   "metadata": {},
   "source": [
    "Whereas here, we have gaps at the edges."
   ]
  },
  {
   "cell_type": "code",
   "execution_count": null,
   "metadata": {},
   "outputs": [],
   "source": [
    "scen_win = unpack_moving_yearly_window(QDM.adjust(sim_win), append_ends=False)\n",
    "scen_win"
   ]
  },
  {
   "cell_type": "markdown",
   "metadata": {},
   "source": [
    "Here is another short example, with an uneven number of years. Here `sim` goes from 2000 to 2029 (30 years instead of 31). With a step of 2 and a window of 15, the first window goes again from 2000 to 2014, but the last one is now from 2014 to 2028. The next window would be 2016-2030, but that last year doesn't exist."
   ]
  },
  {
   "cell_type": "code",
   "execution_count": null,
   "metadata": {},
   "outputs": [],
   "source": [
    "sim_win = construct_moving_yearly_window(\n",
    "    sim.sel(time=slice(\"2000\", \"2029\")), window=15, step=2\n",
    ")\n",
    "sim_win"
   ]
  },
  {
   "cell_type": "markdown",
   "metadata": {},
   "source": [
    "Here, we don't recover the full timeseries, even when we append the ends, because 2029 is not part of a window."
   ]
  },
  {
   "cell_type": "code",
   "execution_count": null,
   "metadata": {},
   "outputs": [],
   "source": [
    "sim2 = unpack_moving_yearly_window(sim_win, append_ends=True)\n",
    "sim2"
   ]
  },
  {
   "cell_type": "markdown",
   "metadata": {},
   "source": [
    "Without appending the ends, the final timeseries is from 2006 to 2021, 6 years missing at the beginning, like last time and **8** years missing at the end."
   ]
  },
  {
   "cell_type": "code",
   "execution_count": null,
   "metadata": {},
   "outputs": [],
   "source": [
    "sim2 = unpack_moving_yearly_window(sim_win, append_ends=False)\n",
    "sim2"
   ]
  },
  {
   "cell_type": "markdown",
   "metadata": {},
   "source": [
    "## Full example: Multivariate adjustment in the additive space\n",
    "\n",
    "The following example shows a complete bias-adjustment workflow using the `PrincipalComponents` method in a multi-variate configuration. Moreover, it uses the trick showed by [Alavoine et Grenier (2022)](https://doi.org/10.31223/X5C34C) to transform \"multiplicative\" variable to the \"additive\" space using log and logit transformations. This way, we can perform multi-variate adjustment with variables that couldn't be used in the same _kind_ of adjustment, like \"tas\" and \"hurs\".\n",
    "\n",
    "We will transform the variables that need it to the additive space, adding some jitter in the process to avoid $log(0)$ situations. Then, we will stack the different variables into a single `DataArray`, allowing us to use `PrincipalComponents` in a multi-variate way. Following the PCA, a simple quantile-mapping method is used, both adjustment acting on the residuals, while the mean of the simulated trend is adjusted on its own. Each step will be explained.\n",
    "\n",
    "First, open the data, convert the calendar and the units. Because we will perform adjustments on \"dayofyear\" groups (with a window), keeping standard calendars results in an extra \"dayofyear\" with only a quarter of the data. It's usual to transform to a \"noleap\" calendar, which drops the 29th of February, as it only has a small impact on the data."
   ]
  },
  {
   "cell_type": "code",
   "execution_count": null,
   "metadata": {},
   "outputs": [],
   "source": [
    "import xclim.sdba as sdba\n",
    "from xclim.core.calendar import convert_calendar\n",
    "from xclim.core.units import convert_units_to\n",
    "from xclim.testing import open_dataset\n",
    "\n",
    "group = sdba.Grouper(\"time.dayofyear\", window=31)\n",
    "\n",
    "dref = convert_calendar(open_dataset(\"sdba/ahccd_1950-2013.nc\"), \"noleap\").sel(\n",
    "    time=slice(\"1981\", \"2010\")\n",
    ")\n",
    "dsim = open_dataset(\"sdba/CanESM2_1950-2100.nc\")\n",
    "\n",
    "dref = dref.assign(\n",
    "    tasmax=convert_units_to(dref.tasmax, \"K\"),\n",
    ")\n",
    "dsim = dsim.assign(pr=convert_units_to(dsim.pr, \"mm/d\"))"
   ]
  },
  {
   "cell_type": "markdown",
   "metadata": {},
   "source": [
    "### 1. Jitter, additive space transformation and variable stacking\n",
    "Here, `tasmax` is already ready to be adjusted in an additive way, because all data points are far from the physical zero (0 K). This is not the case for `pr`, which is why we want to transform that variable to the additive space, to avoid splitting our workflow in two. For `pr` the \"log\" transformation is simply:\n",
    "\n",
    "$$ pr' = \\ln\\left(pr - b\\right) $$\n",
    "\n",
    "Where $b$ is the lower bound, here 0 mm/d. However, we could have exact zeros (0 mm/d) in the datasets, which will translate into $-\\infty$. To avoid this, we simply replace the smallest values by a random distribution of very small, but not problematic, values. In the following, all values below 0.1 mm/d are replaced by a uniform random distribution of values within the range (0, 0.1) mm/d (bounds excluded).\n",
    "\n",
    "Finally, the variables are stacked together into a single `DataArray`."
   ]
  },
  {
   "cell_type": "code",
   "execution_count": null,
   "metadata": {},
   "outputs": [],
   "source": [
    "dref_as = dref.assign(\n",
    "    pr=sdba.processing.to_additive_space(\n",
    "        sdba.processing.jitter(dref.pr, lower=\"0.1 mm/d\", minimum=\"0 mm/d\"),\n",
    "        lower_bound=\"0 mm/d\",\n",
    "        trans=\"log\",\n",
    "    )\n",
    ")\n",
    "ref = sdba.stack_variables(dref_as)\n",
    "\n",
    "dsim_as = dsim.assign(\n",
    "    pr=sdba.processing.to_additive_space(\n",
    "        sdba.processing.jitter(dsim.pr, lower=\"0.1 mm/d\", minimum=\"0 mm/d\"),\n",
    "        lower_bound=\"0 mm/d\",\n",
    "        trans=\"log\",\n",
    "    )\n",
    ")\n",
    "sim = sdba.stack_variables(dsim_as)\n",
    "sim"
   ]
  },
  {
   "cell_type": "markdown",
   "metadata": {},
   "source": [
    "### 2. Get residuals and trends\n",
    "The adjustment will be performed on residuals only. The adjusted timeseries `sim` will be detrended with the LOESS routine described above. Because of the short length of  `ref` and `hist` and the potential boundary effects of using LOESS with them, we compute the 30-year mean. In other words, instead of _detrending_ inputs, we are _normalizing_ those inputs.\n",
    "\n",
    "While the residuals are adjusted with `PrincipalComponents` and `EmpiricalQuantileMapping`, the trend of  `sim` still needs to be offset according to the means of `ref` and `hist`. This is similar to what `DetrendedQuantileMapping` does. The offset step could have been done on the trend itself or at the end on `scen`, it doesn't really matter. We do it here because it keeps it close to where the `scaling` is computed."
   ]
  },
  {
   "cell_type": "code",
   "execution_count": null,
   "metadata": {},
   "outputs": [],
   "source": [
    "ref_res, ref_norm = sdba.processing.normalize(ref, group=group, kind=\"+\")\n",
    "hist_res, hist_norm = sdba.processing.normalize(\n",
    "    sim.sel(time=slice(\"1981\", \"2010\")), group=group, kind=\"+\"\n",
    ")\n",
    "scaling = sdba.utils.get_correction(hist_norm, ref_norm, kind=\"+\")"
   ]
  },
  {
   "cell_type": "code",
   "execution_count": null,
   "metadata": {},
   "outputs": [],
   "source": [
    "sim_scaled = sdba.utils.apply_correction(\n",
    "    sim, sdba.utils.broadcast(scaling, sim, group=group), kind=\"+\"\n",
    ")\n",
    "\n",
    "loess = sdba.detrending.LoessDetrend(group=group, f=0.2, d=0, kind=\"+\", niter=1)\n",
    "simfit = loess.fit(sim_scaled)\n",
    "sim_res = simfit.detrend(sim_scaled)"
   ]
  },
  {
   "cell_type": "markdown",
   "metadata": {},
   "source": [
    "### 3. Adjustments\n",
    "Following, Alavoine et Grenier (2022), we decided to perform the multivariate Principal Components adjustment first and then re-adjust with the simple Quantile-Mapping."
   ]
  },
  {
   "cell_type": "code",
   "execution_count": null,
   "metadata": {},
   "outputs": [],
   "source": [
    "PCA = sdba.adjustment.PrincipalComponents.train(\n",
    "    ref_res, hist_res, group=group, crd_dim=\"multivar\", best_orientation=\"simple\"\n",
    ")\n",
    "\n",
    "scen1_res = PCA.adjust(sim_res)"
   ]
  },
  {
   "cell_type": "code",
   "execution_count": null,
   "metadata": {},
   "outputs": [],
   "source": [
    "EQM = sdba.adjustment.EmpiricalQuantileMapping.train(\n",
    "    ref_res,\n",
    "    scen1_res.sel(time=slice(\"1981\", \"2010\")),\n",
    "    group=group,\n",
    "    nquantiles=50,\n",
    "    kind=\"+\",\n",
    ")\n",
    "\n",
    "scen2_res = EQM.adjust(scen1_res, interp=\"linear\", extrapolation=\"constant\")"
   ]
  },
  {
   "cell_type": "markdown",
   "metadata": {},
   "source": [
    "### 4. Re-trend and transform back to the physical space\n",
    "Add back the trend (which includes the scaling), unstack the variables to a dataset and transform `pr` back to the physical space. All functions have conserved and handled the attributes, so we don't need to repeat the additive space bounds. The annual cycle of both variables on the reference period in Vancouver is plotted to confirm the adjustment adds a positive effect."
   ]
  },
  {
   "cell_type": "code",
   "execution_count": null,
   "metadata": {},
   "outputs": [],
   "source": [
    "scen = simfit.retrend(scen2_res)\n",
    "dscen_as = sdba.unstack_variables(scen)\n",
    "dscen = dscen_as.assign(pr=sdba.processing.from_additive_space(dscen_as.pr))"
   ]
  },
  {
   "cell_type": "code",
   "execution_count": null,
   "metadata": {},
   "outputs": [],
   "source": [
    "dref.tasmax.sel(time=slice(\"1981\", \"2010\"), location=\"Vancouver\").groupby(\n",
    "    \"time.dayofyear\"\n",
    ").mean().plot(label=\"obs\")\n",
    "dsim.tasmax.sel(time=slice(\"1981\", \"2010\"), location=\"Vancouver\").groupby(\n",
    "    \"time.dayofyear\"\n",
    ").mean().plot(label=\"raw\")\n",
    "dscen.tasmax.sel(time=slice(\"1981\", \"2010\"), location=\"Vancouver\").groupby(\n",
    "    \"time.dayofyear\"\n",
    ").mean().plot(label=\"scen\")\n",
    "plt.legend()"
   ]
  },
  {
   "cell_type": "code",
   "execution_count": null,
   "metadata": {},
   "outputs": [],
   "source": [
    "dref.pr.sel(time=slice(\"1981\", \"2010\"), location=\"Vancouver\").groupby(\n",
    "    \"time.dayofyear\"\n",
    ").mean().plot(label=\"obs\")\n",
    "dsim.pr.sel(time=slice(\"1981\", \"2010\"), location=\"Vancouver\").groupby(\n",
    "    \"time.dayofyear\"\n",
    ").mean().plot(label=\"raw\")\n",
    "dscen.pr.sel(time=slice(\"1981\", \"2010\"), location=\"Vancouver\").groupby(\n",
    "    \"time.dayofyear\"\n",
    ").mean().plot(label=\"scen\")\n",
    "plt.legend()"
   ]
  },
  {
   "cell_type": "markdown",
   "metadata": {},
   "source": [
    "## Tests for sdba\n",
    "\n",
    "It can be useful to perform diagnostic tests on adjusted simulations to assess if the bias correction method is working properly, or to compare two different bias correction techniques.\n",
    "\n",
    "A diagnostic test includes calculations of a property (mean, 20-year return value, annual cycle amplitude, ...) on the simulation and on the scenario (adjusted simulation), then a measure (bias, relative bias, ratio, ...) of the  difference. Usually, the property collapse the time dimension of the simulation/scenario and returns one value by grid point.\n",
    "\n",
    "You'll find those in ``xclim.sdba.properties`` and ``xclim.sdba.measures``, where they are implemented as special subclasses of xclim's ``Indicator``, which means they can be worked with the same way as conventional indicators (used in YAML modules for example)."
   ]
  },
  {
   "cell_type": "code",
   "execution_count": null,
   "metadata": {},
   "outputs": [],
   "source": [
    "from matplotlib import pyplot as plt\n",
    "\n",
    "import xclim as xc\n",
    "from xclim import sdba\n",
    "from xclim.testing import open_dataset\n",
    "\n",
    "# load test data\n",
    "hist = open_dataset(\"sdba/CanESM2_1950-2100.nc\").sel(time=slice(\"1950\", \"1980\")).tasmax\n",
    "ref = open_dataset(\"sdba/nrcan_1950-2013.nc\").sel(time=slice(\"1950\", \"1980\")).tasmax\n",
    "sim = (\n",
    "    open_dataset(\"sdba/CanESM2_1950-2100.nc\").sel(time=slice(\"1980\", \"2010\")).tasmax\n",
    ")  # biased\n",
    "\n",
    "# learn the bias in historical simulation compared to reference\n",
    "QM = sdba.EmpiricalQuantileMapping.train(\n",
    "    ref, hist, nquantiles=50, group=\"time\", kind=\"+\"\n",
    ")\n",
    "\n",
    "# correct the bias in the future\n",
    "scen = QM.adjust(sim, extrapolation=\"constant\", interp=\"nearest\")\n",
    "ref_future = (\n",
    "    open_dataset(\"sdba/nrcan_1950-2013.nc\").sel(time=slice(\"1980\", \"2010\")).tasmax\n",
    ")  # truth\n",
    "\n",
    "plt.figure(figsize=(15, 5))\n",
    "lw = 0.3\n",
    "sim.isel(location=1).plot(label=\"sim\", linewidth=lw)\n",
    "scen.isel(location=1).plot(label=\"scen\", linewidth=lw)\n",
    "hist.isel(location=1).plot(label=\"hist\", linewidth=lw)\n",
    "ref.isel(location=1).plot(label=\"ref\", linewidth=lw)\n",
    "ref_future.isel(location=1).plot(label=\"ref_future\", linewidth=lw)\n",
    "leg = plt.legend()\n",
    "for legobj in leg.legendHandles:\n",
    "    legobj.set_linewidth(2.0)"
   ]
  },
  {
   "cell_type": "code",
   "execution_count": null,
   "metadata": {},
   "outputs": [],
   "source": [
    "# calculate the mean warm Spell Length Distribution\n",
    "sim_prop = sdba.properties.spell_length_distribution(\n",
    "    da=sim, thresh=\"28 degC\", op=\">\", stat=\"mean\", group=\"time\"\n",
    ")\n",
    "\n",
    "\n",
    "scen_prop = sdba.properties.spell_length_distribution(\n",
    "    da=scen, thresh=\"28 degC\", op=\">\", stat=\"mean\", group=\"time\"\n",
    ")\n",
    "\n",
    "ref_prop = sdba.properties.spell_length_distribution(\n",
    "    da=ref_future, thresh=\"28 degC\", op=\">\", stat=\"mean\", group=\"time\"\n",
    ")\n",
    "# measure the difference between the prediction and the reference with an absolute bias of the properties\n",
    "measure_sim = sdba.measures.bias(sim_prop, ref_prop)\n",
    "measure_scen = sdba.measures.bias(scen_prop, ref_prop)\n",
    "\n",
    "plt.figure(figsize=(5, 3))\n",
    "plt.plot(measure_sim.location, measure_sim.values, \".\", label=\"biased model (sim)\")\n",
    "plt.plot(measure_scen.location, measure_scen.values, \".\", label=\"adjusted model (scen)\")\n",
    "plt.title(\n",
    "    \"Bias of the mean of the warm spell \\n length distribution compared to observations\"\n",
    ")\n",
    "plt.legend()\n",
    "plt.ylim(-2.5, 2.5)"
   ]
  },
  {
   "cell_type": "markdown",
   "metadata": {},
   "source": [
    "It is possible the change the 'group' of the property from 'time' to 'time.season' or 'time.month'.\n",
    " This will return 4 or 12 values per grid point, respectively."
   ]
  },
  {
   "cell_type": "code",
   "execution_count": null,
   "metadata": {},
   "outputs": [],
   "source": [
    "# calculate the mean warm Spell Length Distribution\n",
    "sim_prop = sdba.properties.spell_length_distribution(\n",
    "    da=sim, thresh=\"28 degC\", op=\">\", stat=\"mean\", group=\"time.season\"\n",
    ")\n",
    "\n",
    "scen_prop = sdba.properties.spell_length_distribution(\n",
    "    da=scen, thresh=\"28 degC\", op=\">\", stat=\"mean\", group=\"time.season\"\n",
    ")\n",
    "\n",
    "ref_prop = sdba.properties.spell_length_distribution(\n",
    "    da=ref_future, thresh=\"28 degC\", op=\">\", stat=\"mean\", group=\"time.season\"\n",
    ")\n",
    "# Properties are often associated with the same measures. This correspondance is implemented in xclim:\n",
    "measure = sdba.properties.spell_length_distribution.get_measure()\n",
    "measure_sim = measure(sim_prop, ref_prop)\n",
    "measure_scen = measure(scen_prop, ref_prop)\n",
    "\n",
    "fig, axs = plt.subplots(2, 2, figsize=(9, 6))\n",
    "axs = axs.ravel()\n",
    "for i in range(4):\n",
    "    axs[i].plot(\n",
    "        measure_sim.location, measure_sim.values[:, i], \".\", label=\"biased model (sim)\"\n",
    "    )\n",
    "    axs[i].plot(\n",
    "        measure_scen.location,\n",
    "        measure_scen.isel(season=i).values,\n",
    "        \".\",\n",
    "        label=\"adjusted model (scen)\",\n",
    "    )\n",
    "    axs[i].set_title(measure_scen.season.values[i])\n",
    "    axs[i].legend(loc=\"lower right\")\n",
    "    axs[i].set_ylim(-2.5, 2.5)\n",
    "fig.suptitle(\n",
    "    \"Bias of the mean of the warm spell length distribution compared to observations\"\n",
    ")\n",
    "plt.tight_layout()\n"
   ]
  }
 ],
 "metadata": {
  "kernelspec": {
   "display_name": "Python 3 (ipykernel)",
   "language": "python",
   "name": "python3"
  },
  "language_info": {
   "codemirror_mode": {
    "name": "ipython",
    "version": 3
   },
   "file_extension": ".py",
   "mimetype": "text/x-python",
   "name": "python",
   "nbconvert_exporter": "python",
   "pygments_lexer": "ipython3",
   "version": "3.10.9"
  },
  "toc": {
   "base_numbering": 1,
   "nav_menu": {},
   "number_sections": true,
   "sideBar": true,
   "skip_h1_title": false,
   "title_cell": "Table of Contents",
   "title_sidebar": "Contents",
   "toc_cell": false,
   "toc_position": {},
   "toc_section_display": true,
   "toc_window_display": false
  }
 },
 "nbformat": 4,
 "nbformat_minor": 4
}
