{
 "cells": [
  {
   "cell_type": "markdown",
   "metadata": {},
   "source": [
    "# Mapped modules\n",
    "\n",
    "`xclim` gives users the ability to generate their own modules as one-to-one mappings with the existing indices library. These mappings can help in emulating existing libraries (such as ICCLIM), with the added benefit of CF-compliant metadata, multilingual metadata support, and optimized calculations using federated resources (using Dask). This can be used for example to tailor existing indices with predefined thresholds without having to rewrite indices.\n",
    "\n",
    "Presently, xclim is capable of approximating the indices developed in ICCLIM (https://icclim.readthedocs.io/en/latest/intro.html) and is open to contributions of new indices and library mappings.\n",
    "\n",
    "This notebook serves as an example of how one might go about creating their own library of mapped indices."
   ]
  },
  {
   "cell_type": "markdown",
   "metadata": {},
   "source": [
    "We'll begin by examining how the mapped modules behave"
   ]
  },
  {
   "cell_type": "code",
   "execution_count": null,
   "metadata": {},
   "outputs": [],
   "source": [
    "# importing libraries\n",
    "\n",
    "import xarray as xr\n",
    "xr.set_options(display_style='html')\n",
    "\n",
    "import xclim\n",
    "from xclim import indices\n",
    "from xclim import icclim\n",
    "from xclim import subset\n",
    "import numpy as np\n",
    "\n",
    "import matplotlib.pyplot as plt\n",
    "\n",
    "%matplotlib inline"
   ]
  },
  {
   "cell_type": "code",
   "execution_count": null,
   "metadata": {},
   "outputs": [],
   "source": [
    "ds = xr.tutorial.open_dataset('air_temperature')\n",
    "daily_tas = ds.air.resample(time='D').mean(keep_attrs=True)\n",
    "\n",
    "fig, axes = plt.subplots(ncols=2, figsize=(12,5))\n",
    "\n",
    "daily_tas.sel(lat=45, lon=-71, method=\"nearest\").plot(ax=axes[0], color=\"purple\")\n",
    "daily_tas.sel(lat=45, lon=-71, method=\"nearest\").plot.hist(ax=axes[1], color=\"green\")\n"
   ]
  },
  {
   "cell_type": "code",
   "execution_count": null,
   "metadata": {},
   "outputs": [],
   "source": [
    "# The following comparisons for Growing Degree Days from xclim.indices and xclim.icclim should be the same.\n",
    "\n",
    "gdd_xclim = indices.growing_degree_days(daily_tas, freq=\"MS\").compute()\n",
    "gdd_icclim = icclim.GD4(daily_tas, freq=\"MS\").compute()\n",
    "\n",
    "fig, axes = plt.subplots(ncols=2, figsize=(12,5))\n",
    "\n",
    "gdd_icclim.sel(lat=45, lon=-71, method=\"nearest\").plot(ax=axes[0], color=\"cyan\")\n",
    "gdd_xclim.sel(lat=45, lon=-71, method=\"nearest\").plot(ax=axes[1], color=\"orange\")\n"
   ]
  },
  {
   "cell_type": "code",
   "execution_count": null,
   "metadata": {},
   "outputs": [],
   "source": [
    "# Assert that the values are the same between both the original and the mapping of the indice.\n",
    "\n",
    "if np.alltrue(gdd_icclim.values == gdd_xclim.values):\n",
    "    print(\"Datasets hold the same values!\")"
   ]
  },
  {
   "cell_type": "code",
   "execution_count": null,
   "metadata": {},
   "outputs": [],
   "source": [
    "# Let's look more closely at the ICCLIM module\n",
    "from xclim import icclim\n",
    "import inspect\n",
    "\n",
    "print(icclim.__doc__)\n",
    "for i in inspect.getmembers(icclim):\n",
    "    if i[0][0] != '_':\n",
    "        print(f\"{i[0]} : {i[1]}\")"
   ]
  },
  {
   "cell_type": "markdown",
   "metadata": {},
   "source": [
    "## Creating your own custom mapped module\n",
    "\n",
    "As we can see from the layout of ICCLIM, the module is effectively several wrapped instances of existing indices, with a majority comprising unchanged indices and several composed of indices with different threshold values.\n",
    "\n",
    "These mappings can be found in `xclim/xclim/__init__.py` and can be create using the `build_module` function. A mapping requires two types of information:\n",
    "\n",
    "* A dictionary of mapped indices\n",
    "* A docstring, usually written in ReStructuredText format\n",
    "\n",
    "Let's try creating our own custom indices for our specific purposes:"
   ]
  },
  {
   "cell_type": "code",
   "execution_count": null,
   "metadata": {},
   "outputs": [],
   "source": [
    "from xclim.indicators import build_module\n",
    "from xclim.core.utils import wrapped_partial\n",
    "\n",
    "def awesome_module(mode: str = \"ignore\"):\n",
    "    mapping = dict(\n",
    "        egg_cooking_season=wrapped_partial(indices.maximum_consecutive_tx_days, thresh=\"35 degC\"),\n",
    "        precipitation_above_14mm=wrapped_partial(indices.wetdays, thresh=\"14.0 mm/day\"),\n",
    "        sweater_weather=indices.tg_min\n",
    "    )\n",
    "    mod = build_module(\n",
    "        \"xclim.awesome\",\n",
    "        mapping,\n",
    "        doc=\"\"\"\n",
    "            =========================\n",
    "            My Awesome Custom indices\n",
    "            =========================\n",
    "            There are only 3 indices that really matter when you come down to brass tacks.\n",
    "            This mapping library exposes them to users who want to perform real deal \n",
    "            climate science. Note that none of the checks performed by the `xclim.utils.Indicator` \n",
    "            class (like with `xclim.atmos` indicators) are performed in this module.\n",
    "\n",
    "            \"\"\",\n",
    "        mode=mode,\n",
    "    )\n",
    "    return mod\n",
    "\n",
    "AWESOME = awesome_module()"
   ]
  },
  {
   "cell_type": "code",
   "execution_count": null,
   "metadata": {},
   "outputs": [],
   "source": [
    "# Let's look at our new awesome module\n",
    "from xclim import awesome\n",
    "import inspect\n",
    "\n",
    "print(awesome.__doc__)\n",
    "for i in inspect.getmembers(awesome):\n",
    "    if i[0][0] != '_':\n",
    "        print(f\"{i[0]} : {i[1]}\")"
   ]
  },
  {
   "cell_type": "code",
   "execution_count": null,
   "metadata": {},
   "outputs": [],
   "source": [
    "sweater_weather_day_temperature = awesome.sweater_weather(daily_tas).compute()\n",
    "\n",
    "fig, axes = plt.subplots(ncols=2, figsize=(12,5))\n",
    "\n",
    "sweater_weather_day_temperature.isel(time=0).plot(ax=axes[0])\n",
    "sweater_weather_day_temperature.isel(time=0).plot.hist(ax=axes[1], color=\"red\")\n"
   ]
  },
  {
   "cell_type": "markdown",
   "metadata": {},
   "source": [
    "We can also use this to recreate existing indice libraries such as the indicators used by the Prairie Climate Centre's Climate Atlas of Canada (https://climateatlas.ca/variables). \n",
    "\n",
    "Here's how we could go about creating a good deal of them:"
   ]
  },
  {
   "cell_type": "code",
   "execution_count": null,
   "metadata": {},
   "outputs": [],
   "source": [
    "def __build_pcc(mode: str = \"warn\"):\n",
    "    \n",
    "    # The following indices are not implemented here:\n",
    "        # average_length_of_heat_waves\n",
    "        # corn_heat_units\n",
    "        # maximum_temperature\n",
    "        # minimum_temperature\n",
    "\n",
    "    mapping = dict(\n",
    "        coldest_minimum_temperature=indices.tn_min,\n",
    "        cooling_degree_days=indices.cooling_degree_days,\n",
    "        date_of_first_fall_frost=wrapped_partial(\n",
    "            indices.growing_season_end, thresh=\"0 degC\", mid_date=\"07-15\", window=1\n",
    "        ),\n",
    "        date_of_last_spring_frost=indices.last_spring_frost,\n",
    "        days_above_32_celsius=wrapped_partial(\n",
    "            indices.tx_days_above, thresh=\"32.0 degC\"\n",
    "        ),\n",
    "        days_above_34_celsius=wrapped_partial(\n",
    "            indices.tx_days_above, thresh=\"34.0 degC\"\n",
    "        ),\n",
    "        dry_days=indices.dry_days,\n",
    "        freeze_thaw_cycles=wrapped_partial(\n",
    "            indices.daily_freezethaw_cycles,\n",
    "            thresh_tasmax=\"0 degC\",\n",
    "            thresh_tasmin=\"-1.0 degC\",\n",
    "        ),\n",
    "        freezing_degree_days=wrapped_partial(\n",
    "            indices.heating_degree_days, thresh=\"0 degC\"\n",
    "        ),\n",
    "        frost_days=indices.frost_days,\n",
    "        frost_free_season=indices.maximum_consecutive_frost_free_days,\n",
    "        growing_degree_days_base_4_celsius=wrapped_partial(\n",
    "            indices.growing_degree_days, thresh=\"4.0 degC\"\n",
    "        ),\n",
    "        growing_degree_days_base_5_celsius=wrapped_partial(\n",
    "            indices.growing_degree_days, thresh=\"5.0 degC\"\n",
    "        ),\n",
    "        growing_degree_days_base_10_celsius=wrapped_partial(\n",
    "            indices.growing_degree_days, thresh=\"10.0 degC\"\n",
    "        ),\n",
    "        growing_degree_days_base_15_celsius=wrapped_partial(\n",
    "            indices.growing_degree_days, thresh=\"15.0 degC\"\n",
    "        ),\n",
    "        heating_degree_days=wrapped_partial(\n",
    "            indices.heating_degree_days, thresh=\"18.0 degC\"\n",
    "        ),\n",
    "        heavy_precipitation_days_10mm=wrapped_partial(\n",
    "            indices.wetdays, thresh=\"10.0 mm/day\"\n",
    "        ),\n",
    "        heavy_precipitation_days_20mm=wrapped_partial(\n",
    "            indices.wetdays, thresh=\"20.0 mm/day\"\n",
    "        ),\n",
    "        hot_season=wrapped_partial(\n",
    "            indices.maximum_consecutive_tx_days, thresh=\"30.0 degC\"\n",
    "        ),\n",
    "        icing_days=indices.ice_days,\n",
    "        longest_spell_of_30_celsius_days=indices.hot_spell_max_length,\n",
    "        max_1_day_precipitation=indices.max_1day_precipitation_amount,\n",
    "        max_3_day_precipitation=wrapped_partial(\n",
    "            indices.max_n_day_precipitation_amount, window=3\n",
    "        ),\n",
    "        max_5_day_precipitation=wrapped_partial(\n",
    "            indices.max_n_day_precipitation_amount, window=5\n",
    "        ),\n",
    "        mean_temperature=indices.tas,\n",
    "        mild_winter_days=wrapped_partial(indices.tn_days_below, thresh=\"-5.0 degC\"),\n",
    "        number_of_heat_waves=indices.hot_spell_frequency,\n",
    "        summer_days=indices.tx_days_above,\n",
    "        tropical_nights=wrapped_partial(\n",
    "            indices.tropical_nights\n",
    "        ),  \n",
    "        very_cold_days=wrapped_partial(indices.tn_days_below, thresh=\"-30.0 degC\"),\n",
    "        very_hot_days=wrapped_partial(indices.tx_days_above, thresh=\"-30.0 degC\"),\n",
    "        warmest_maximum_temperature=indices.tx_max,\n",
    "        wet_days=wrapped_partial(indices.wetdays, thresh=\"0.2 mm/day\"),\n",
    "        winter_days=wrapped_partial(indices.tn_days_below, thresh=\"-15.0 degC\"),\n",
    "    )\n",
    "    mod = build_module(\n",
    "        \"xclim.pcc\",\n",
    "        mapping,\n",
    "        doc=\"\"\"\n",
    "            ==============================\n",
    "            Prairie Climate Centre indices\n",
    "            ==============================\n",
    "            The Prairie Climate Centre (`PCC`_) defines a set of 23 core climate `indices`_.\n",
    "            They have been made accessible directly in xclim by their climate atlas names.\n",
    "            However, the methods in this module are only wrappers around the corresponding\n",
    "            methods of `xclim.indices`. Note that none of the checks performed by\n",
    "            the `xclim.utils.Indicator` class (like with `xclim.atmos` indicators)\n",
    "            are performed in this module.\n",
    "\n",
    "            .. _PCC: http://prairieclimatecentre.ca/\n",
    "            .. _indices: https://climateatlas.ca/variables\n",
    "            \"\"\",\n",
    "        mode=mode,\n",
    "    )\n",
    "    return mod\n",
    "\n",
    "PCC = __build_pcc()"
   ]
  },
  {
   "cell_type": "code",
   "execution_count": null,
   "metadata": {},
   "outputs": [],
   "source": [
    "from xclim import pcc\n",
    "import inspect\n",
    "\n",
    "print(pcc.__doc__)\n",
    "for i in inspect.getmembers(pcc):\n",
    "    if i[0][0] != '_':\n",
    "        print(f\"{i[0]} : {i[1]}\")"
   ]
  },
  {
   "cell_type": "code",
   "execution_count": null,
   "metadata": {},
   "outputs": [],
   "source": [
    "# Let's see what the documentation will look like\n",
    "\n",
    "help(pcc)"
   ]
  }
 ],
 "metadata": {
  "kernelspec": {
   "display_name": "Python 3",
   "language": "python",
   "name": "python3"
  },
  "language_info": {
   "codemirror_mode": {
    "name": "ipython",
    "version": 3
   },
   "file_extension": ".py",
   "mimetype": "text/x-python",
   "name": "python",
   "nbconvert_exporter": "python",
   "pygments_lexer": "ipython3",
   "version": "3.7.6"
  }
 },
 "nbformat": 4,
 "nbformat_minor": 2
}
