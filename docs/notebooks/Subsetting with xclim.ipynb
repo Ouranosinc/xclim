{
 "cells": [
  {
   "cell_type": "markdown",
   "metadata": {},
   "source": [
    "Subsetting utilities\n",
    "================\n",
    "\n",
    "`xclim` comes with some utilities to perform common tasks that are either not implemented in xarray, or that are implemented but do not have the generality needed for climate science work. Here we show examples of the [`xclim.subset`](../api.rst#module-xclim.subset) submodule."
   ]
  },
  {
   "cell_type": "code",
   "execution_count": null,
   "metadata": {},
   "outputs": [],
   "source": [
    "import xarray as xr\n",
    "xr.set_options(display_style='html')\n",
    "import xclim as xc\n",
    "from xclim import subset\n",
    "\n",
    "# import plotting stuff\n",
    "import matplotlib.pyplot as plt\n",
    "%matplotlib inline\n",
    "plt.style.use('seaborn')\n",
    "plt.rcParams['figure.figsize'] = (13, 5)"
   ]
  },
  {
   "cell_type": "code",
   "execution_count": null,
   "metadata": {},
   "outputs": [],
   "source": [
    "ds = xr.tutorial.open_dataset('air_temperature')\n",
    "ds.coords"
   ]
  },
  {
   "cell_type": "code",
   "execution_count": null,
   "metadata": {},
   "outputs": [],
   "source": [
    "ds.air.isel(time=0).plot()  # Simple index-selection with xarray"
   ]
  },
  {
   "cell_type": "markdown",
   "metadata": {},
   "source": [
    "## subset_bbox : using a latitude-longitude bounding box\n",
    "\n",
    "In the previous example notebook, we used xarray's `.sel()` to cut a lat-lon subset of our data. xclim offers the same utility, but with more generality. For example, if we mindlessly try xarray's method on our dataset:"
   ]
  },
  {
   "cell_type": "code",
   "execution_count": null,
   "metadata": {},
   "outputs": [],
   "source": [
    "ds.sel(lat=slice(45, 50), lon=slice(-60, -55)).coords"
   ]
  },
  {
   "cell_type": "markdown",
   "metadata": {},
   "source": [
    "As you can see, `lat` and `lon` are empty. In this dataset, the lats are defined in descending order and lons are in the range \\[0, 360[ instead of [-180, 180[, which is why xarray's method did not return the expected result. xclim understands these nuances:"
   ]
  },
  {
   "cell_type": "code",
   "execution_count": null,
   "metadata": {},
   "outputs": [],
   "source": [
    "subset.subset_bbox(ds, lat_bnds=[45, 50], lon_bnds=[-60, -55]).coords"
   ]
  },
  {
   "cell_type": "markdown",
   "metadata": {},
   "source": [
    "### When lat and lon are 2-D\n",
    "`subset_bbox` also manages cases where the lat-lon coordinates are not sorted 1D vectors, for example with this more complex dataset:\n",
    "\n",
    "<div class=\"alert alert-warning\">\n",
    "\n",
    "Most `subset` methods expect the input dataset / dataarray to have `lat` and `lon` as variables. It may be able to understand your data if other common names are used (like `latitude`, or `lons`), but we reccomend renaming the variables before using the tool (like in this example).\n",
    "\n",
    "</div>"
   ]
  },
  {
   "cell_type": "code",
   "execution_count": null,
   "metadata": {},
   "outputs": [],
   "source": [
    "ds_roms = xr.tutorial.open_dataset('ROMS_example').rename(lon_rho='lon', lat_rho='lat')\n",
    "salt = ds_roms.salt.isel(ocean_time=0, s_rho=0)\n",
    "\n",
    "fig, (axEtaXi, axLatLon) = plt.subplots(1, 2)\n",
    "salt.plot(cmap=plt.cm.gray_r, ax=axEtaXi, add_colorbar=False)\n",
    "axLatLon.pcolormesh(salt.lon, salt.lat, salt)\n",
    "axLatLon.set_xlabel(salt.lon.long_name)\n",
    "axLatLon.set_ylabel(salt.lat.long_name)"
   ]
  },
  {
   "cell_type": "code",
   "execution_count": null,
   "metadata": {},
   "outputs": [],
   "source": [
    "%autoreload"
   ]
  },
  {
   "cell_type": "code",
   "execution_count": null,
   "metadata": {},
   "outputs": [],
   "source": [
    "salt_bb = subset.subset_bbox(salt, lat_bnds=[28, 30], lon_bnds=[-91, -88])\n",
    "\n",
    "fig, (axEtaXi, axLatLon) = plt.subplots(1, 2)\n",
    "salt_bb.plot(cmap=plt.cm.gray_r, ax=axEtaXi, add_colorbar=False)\n",
    "axLatLon.pcolormesh(salt_bb.lon, salt_bb.lat, salt_bb)\n",
    "axLatLon.set_xlabel(salt_bb.lon.long_name)\n",
    "axLatLon.set_ylabel(salt_bb.lat.long_name)"
   ]
  },
  {
   "cell_type": "markdown",
   "metadata": {},
   "source": [
    "### Add time subsetting"
   ]
  },
  {
   "cell_type": "code",
   "execution_count": null,
   "metadata": {},
   "outputs": [],
   "source": [
    "ds2 = subset.subset_bbox(ds, lat_bnds=lat_bnds, lon_bnds=lon_bnds,\n",
    "                         start_date='2015-01', end_date='2030-05')\n",
    "ds2.tasmax"
   ]
  },
  {
   "cell_type": "markdown",
   "metadata": {},
   "source": [
    "### Selecting a single grid point \n",
    "`subset_gridpoint` can be used for selecting single locations. As other function of this submodule, it mostly replicated the behavior of `xarray.DataArray.sel()`. In this case, it adds a `tolerance` parameter so that it finds the nearest point from the given coordinate within this distance, or else it raises an error."
   ]
  },
  {
   "cell_type": "code",
   "execution_count": null,
   "metadata": {},
   "outputs": [],
   "source": [
    "lon_pt = -70.0\n",
    "lat_pt = 50.0\n",
    "\n",
    "ds3 = subset.subset_gridpoint(ds, lon=lon_pt, lat=lat_pt, tolerance=10000,\n",
    "                              start_date='1993', end_date='2020')\n",
    "ds3.tasmax"
   ]
  },
  {
   "cell_type": "markdown",
   "metadata": {},
   "source": [
    "#### Create a plot  of subsetted data\n",
    "xarray provide a very simple plotting interface to easily explore our data.\n",
    "\n",
    "*(While not doing any computation, this operation needs to download the data first.)*"
   ]
  },
  {
   "cell_type": "code",
   "execution_count": null,
   "metadata": {},
   "outputs": [],
   "source": [
    "ds3.tasmax.plot()"
   ]
  }
 ],
 "metadata": {
  "kernelspec": {
   "display_name": "Python 3",
   "language": "python",
   "name": "python3"
  },
  "language_info": {
   "codemirror_mode": {
    "name": "ipython",
    "version": 3
   },
   "file_extension": ".py",
   "mimetype": "text/x-python",
   "name": "python",
   "nbconvert_exporter": "python",
   "pygments_lexer": "ipython3",
   "version": "3.7.5"
  }
 },
 "nbformat": 4,
 "nbformat_minor": 2
}
