{
 "cells": [
  {
   "cell_type": "markdown",
   "metadata": {},
   "source": [
    "Usage\n",
    "=====\n",
    "\n",
    "Basic example\n",
    "-------------\n",
    "To use xclim in a project:"
   ]
  },
  {
   "cell_type": "code",
   "execution_count": null,
   "metadata": {},
   "outputs": [],
   "source": [
    "import xclim"
   ]
  },
  {
   "cell_type": "markdown",
   "metadata": {},
   "source": [
    "To open NetCDF (`.nc`) climate data sets, use [xarray](https://xarray.pydata.org/). For the examples, we will use a tutorial dataset available in xarray."
   ]
  },
  {
   "cell_type": "code",
   "execution_count": null,
   "metadata": {},
   "outputs": [],
   "source": [
    "import xarray as xr\n",
    "# For fancy html display, not usually needed \n",
    "xr.set_options(display_style='html', display_width=50)\n",
    "\n",
    "# ds = xr.open_dataset(\"your_file.nc\")\n",
    "ds = xr.tutorial.open_dataset('air_temperature')\n",
    "ds"
   ]
  },
  {
   "cell_type": "markdown",
   "metadata": {},
   "source": [
    "<div class=\"alert alert-info\">\n",
    "\n",
    "Calculations are performed on the variable of interest present within the data set (in this example, **air**) and not the data set itself, so be sure to specify this when using xclim's indices and other calls.\n",
    "\n",
    "</div>"
   ]
  },
  {
   "cell_type": "markdown",
   "metadata": {},
   "source": [
    "To perform a simple climate indice calculation:"
   ]
  },
  {
   "cell_type": "code",
   "execution_count": null,
   "metadata": {},
   "outputs": [],
   "source": [
    "gdd = xclim.indices.growing_degree_days(ds.air, thresh='10.0 degC', freq='MS')\n",
    "gdd"
   ]
  },
  {
   "cell_type": "markdown",
   "metadata": {},
   "source": [
    "To plot a time slice of the output, we recommend the following:"
   ]
  },
  {
   "cell_type": "code",
   "execution_count": null,
   "metadata": {},
   "outputs": [],
   "source": [
    "import matplotlib.pyplot\n",
    "%matplotlib inline\n",
    "\n",
    "# for a summary statistics histogram\n",
    "gdd.plot()"
   ]
  },
  {
   "cell_type": "code",
   "execution_count": null,
   "metadata": {},
   "outputs": [],
   "source": [
    "# for a specific geographical coordinate\n",
    "gdd.isel(lon=-20, lat=10).plot()"
   ]
  },
  {
   "cell_type": "code",
   "execution_count": null,
   "metadata": {},
   "outputs": [],
   "source": [
    "# for a specific time period\n",
    "gdd.sel(time='2013-07').plot()"
   ]
  },
  {
   "cell_type": "markdown",
   "metadata": {},
   "source": [
    "For more examples, see the directions suggested by [xarray's plotting documentation](https://xarray.pydata.org/en/stable/plotting.html>)\n",
    "\n",
    "To save the data as a new NetCDF:"
   ]
  },
  {
   "cell_type": "code",
   "execution_count": null,
   "metadata": {},
   "outputs": [],
   "source": [
    "gdd.to_netcdf('monthly_growing_degree_days_data.nc')"
   ]
  },
  {
   "cell_type": "markdown",
   "metadata": {},
   "source": [
    "<div class=\"alert alert-info\">\n",
    "    \n",
    "You can also save as different formats such as by leveraging the functions already built into the xarray dataset instance. For more information see: [xarray's documentation](https://xarray.pydata.org/en/stable/generated/xarray.Dataset.html)\n",
    "\n",
    "</div>"
   ]
  },
  {
   "cell_type": "markdown",
   "metadata": {},
   "source": [
    "Checks and metadata consistency\n",
    "-------------------------------------------------\n",
    "\n",
    "The `xclim.atmos`, `xclim.land` and `xclim.seaIce` modules are tools for running error-detection checks and ensuring consistent metadata when running an indice calculation. Some of the processes involve:\n",
    "\n",
    "* Checking for missing data and incomplete periods.\n",
    "* Writing [Climate and Forecast Convention](http://cfconventions.org/) compliant metadata based on the variables and indices calculated.\n",
    "* Identifying periods where missing data significantly impacts the calculation and omits calculations for those periods.\n",
    "* Appending process history and maintaining the historical provenance of file metadata.\n",
    "\n",
    "Those modules are best used for producing NetCDF that will be shared with users. See [Climate Indicators](../indicators.rst) for a list of available indicators."
   ]
  },
  {
   "cell_type": "markdown",
   "metadata": {},
   "source": [
    "<div class=\"alert alert-warning\">\n",
    " \n",
    "These three modules were written to work with daily data only. They will fail otherwise. To use it with our example dataset, we first need to resample the temperatures to a daily frequency. See [xarray's](http://xarray.pydata.org/en/stable/time-series.html#resampling-and-grouped-operations) and [pandas'](https://pandas.pydata.org/docs/user_guide/timeseries.html#resampling) documentation on the subject.\n",
    "    \n",
    "</div>"
   ]
  },
  {
   "cell_type": "markdown",
   "metadata": {},
   "source": [
    "Recomputing the same climatic indicator as previously on our toy data gives a fuller output. Notice the warnings about missing CF-compliant attributes in the input dataset."
   ]
  },
  {
   "cell_type": "code",
   "execution_count": null,
   "metadata": {},
   "outputs": [],
   "source": [
    "# Resample to a daily frequency. keep_attrs=True needed to propagate the units attribute\n",
    "daily_tas = ds.air.resample(time='D').mean(keep_attrs=True)\n",
    "gdd_atmos = xclim.atmos.growing_degree_days(daily_tas, thresh='10.0 degC', freq='MS')\n",
    "gdd_atmos"
   ]
  }
 ],
 "metadata": {
  "kernelspec": {
   "display_name": "Python 3",
   "language": "python",
   "name": "python3"
  },
  "language_info": {
   "codemirror_mode": {
    "name": "ipython",
    "version": 3
   },
   "file_extension": ".py",
   "mimetype": "text/x-python",
   "name": "python",
   "nbconvert_exporter": "python",
   "pygments_lexer": "ipython3",
   "version": "3.7.5"
  }
 },
 "nbformat": 4,
 "nbformat_minor": 2
}
