{
 "cells": [
  {
   "cell_type": "markdown",
   "metadata": {},
   "source": [
    "# Introduction à  Xarray"
   ]
  },
  {
   "cell_type": "markdown",
   "metadata": {},
   "source": [
    "Nous allons donner un exemple pratique de l'utilisation du module python **xarray** (aussi désigné par l'abréviation **xr**) qui est une pièce importante du module **xclim**. Pour ce faire nous allons faire une moyenne climatique saisonnière à partir de moyennes mensuelles en utilisant deux méthode:\n",
    "\n",
    "1. En ne tenant pas compte du nombre de jours dans chaque mois\n",
    "2. En pondérant les moyennes mensuelles par le nombre de jours dans chaque mois\n",
    "\n",
    "Nous terminons en comparant le résulat des deux méthodes"
   ]
  },
  {
   "cell_type": "markdown",
   "metadata": {},
   "source": [
    "## Importation des modules nécessaires"
   ]
  },
  {
   "cell_type": "code",
   "execution_count": null,
   "metadata": {},
   "outputs": [],
   "source": [
    "from __future__ import annotations\n",
    "\n",
    "import matplotlib.pyplot as plt\n",
    "import xarray as xr"
   ]
  },
  {
   "cell_type": "markdown",
   "metadata": {},
   "source": [
    "## Ouverture du fichier et extraction des données\n",
    "\n",
    "on commence par ouvrir un fichier de moyenne mensuelle de température. Ce fichier contient un **xr.Dataset** qui contient plusieurs variables dont **tas**, la température à 2m.\n",
    "\n",
    "\n"
   ]
  },
  {
   "cell_type": "code",
   "execution_count": null,
   "metadata": {},
   "outputs": [],
   "source": [
    "f_gcm = \"<path_to_file>/tas_Amon_CanESM2_historical_r1i1p1_185001-200512.nc\"\n",
    "ds_gcm = xr.open_dataset(f_gcm)\n",
    "ds_gcm"
   ]
  },
  {
   "cell_type": "markdown",
   "metadata": {},
   "source": [
    "On extrait ensuite le xr.DataArray de 'tas' du xr.Dataset"
   ]
  },
  {
   "cell_type": "code",
   "execution_count": null,
   "metadata": {},
   "outputs": [],
   "source": [
    "tas_gcm = ds_gcm.tas\n",
    "tas_gcm"
   ]
  },
  {
   "cell_type": "markdown",
   "metadata": {},
   "source": [
    "On peut voir que **tas** a plusieurs coordonnées (lon, lat et time) et que la coordonnée time contient un attribut **season**. On peut se servir de cet attribut pour sélectionner les mois d'été (c. à d. **JJA**) seulement. On utilise ensuite l'attribut **time.dt.year** pour faire une sélection des années qui nous intéressent (1950-200 dans cet exemple)."
   ]
  },
  {
   "cell_type": "code",
   "execution_count": null,
   "metadata": {},
   "outputs": [],
   "source": [
    "tas_gcm.time\n",
    "tas_gcm.time.dt.season"
   ]
  },
  {
   "cell_type": "code",
   "execution_count": null,
   "metadata": {},
   "outputs": [],
   "source": [
    "# on extrait les mois d'été seulement\n",
    "#\n",
    "tas_gcm_jja = tas_gcm.sel(time=tas_gcm.time.dt.season == \"JJA\")\n",
    "\n",
    "tas_gcm_jja.time.dt.month"
   ]
  },
  {
   "cell_type": "code",
   "execution_count": null,
   "metadata": {},
   "outputs": [],
   "source": [
    "# on selectionne la periode 1950-2000\n",
    "#\n",
    "tas_gcm_jja_com = tas_gcm_jja.sel(\n",
    "    time=(tas_gcm_jja.time.dt.year >= 1950) & (tas_gcm_jja.time.dt.year <= 2000)\n",
    ")\n",
    "\n",
    "# raccourci : on pourrait aussi utiliser:\n",
    "#\n",
    "# tas_gcm_jja_com = tas_gcm_jja.sel(time=slice('1950','2000'))\n",
    "\n",
    "tas_gcm_jja_com.time.dt.year"
   ]
  },
  {
   "cell_type": "markdown",
   "metadata": {},
   "source": [
    "## Calcul de la moyenne saisonnière en utilisant la première méthode\n",
    "\n",
    "`tas_gcm_jja_com` contient maintenant les moyennes mensuelles pour tous les mois de **JJA** entre 1950 et 2000. On peut donc faire la moyenne saisonnière de l'été en utilisant la première méthode (c. à d. aucune pondération par le nombre de jours dans chaque mois)"
   ]
  },
  {
   "cell_type": "code",
   "execution_count": null,
   "metadata": {},
   "outputs": [],
   "source": [
    "# on calcule la moyenne climatique en utilisant\n",
    "# le même poids pour chaque mois\n",
    "#\n",
    "moy_gcm1 = tas_gcm_jja_com.mean(dim=\"time\")"
   ]
  },
  {
   "cell_type": "markdown",
   "metadata": {},
   "source": [
    "## Calcul de la moyenne saisonnière en utilisant la 2e méthode\n",
    "\n",
    "On utilise maintenant la 2e méthode et on tient compte du nombre de jours dans chaque mois. \n",
    "\n",
    "On commence par générer un vecteur contenant le nombre de jours dans chaque mois pour une année de 365 jours (le GCM CanESM2 utilisé pour générer les données utilisées utilise un tel calendrier)."
   ]
  },
  {
   "cell_type": "code",
   "execution_count": null,
   "metadata": {},
   "outputs": [],
   "source": [
    "# on calcule le poids de chaques mois selon le nb de jours du mois dans une\n",
    "# annee non bissextile\n",
    "#\n",
    "liste_nb_jours = [31, 28, 31, 30, 31, 30, 31, 31, 30, 31, 30, 31]\n",
    "nb_jours = [liste_nb_jours[mois - 1] for mois in tas_gcm_jja_com.time.dt.month.values]\n",
    "nb_jours"
   ]
  },
  {
   "cell_type": "markdown",
   "metadata": {},
   "source": [
    "On utilise ensuite ces poids pour pondérer les moyennes mensuelles de chaque mois de `tas_gcm_jja_com`."
   ]
  },
  {
   "cell_type": "code",
   "execution_count": null,
   "metadata": {},
   "outputs": [],
   "source": [
    "# on calcule la moyenne ponderee par le nombre de jours dans le mois\n",
    "#\n",
    "# on ajoute le poids au coordonnees de tas_gcm_jja_com\n",
    "tas_gcm_jja_com[\"poids\"] = (\"time\", nb_jours)\n",
    "\n",
    "# on calcule la somme ponderée des moyennes mensuelles\n",
    "numerateur = (tas_gcm_jja_com * tas_gcm_jja_com.poids).sum(dim=\"time\")\n",
    "\n",
    "# on calcule la somme des poids\n",
    "denominateur = tas_gcm_jja_com.poids.sum(dim=\"time\")\n",
    "\n",
    "# on calcule la moyenne ponderée\n",
    "moy_gcm2 = numerateur / denominateur"
   ]
  },
  {
   "cell_type": "markdown",
   "metadata": {},
   "source": [
    "## Affichage des différences entre les résultats des deux méthodes\n",
    "\n",
    "On peut maintenant calculer la différences entre les moyennes obtenues en utilisant les deux méthodes. On fait une figure de cette différence et on en affiche les valeurs min et max."
   ]
  },
  {
   "cell_type": "code",
   "execution_count": null,
   "metadata": {},
   "outputs": [],
   "source": [
    "# difference entre moy_gcm1 et moy_gcm2\n",
    "#\n",
    "diff = (moy_gcm1 - moy_gcm2).values\n",
    "plt.pcolormesh(diff)\n",
    "plt.colorbar()\n",
    "plt.title(\"differences entre les moyennes saisonnières\")\n",
    "plt.show()\n",
    "print(f\"différences min/max = {diff.min():.2f}/{diff.max():.2f} (deg C)\")"
   ]
  }
 ],
 "metadata": {
  "kernelspec": {
   "display_name": "Python 3",
   "language": "python",
   "name": "python3"
  },
  "language_info": {
   "codemirror_mode": {
    "name": "ipython",
    "version": 3
   },
   "file_extension": ".py",
   "mimetype": "text/x-python",
   "name": "python",
   "nbconvert_exporter": "python",
   "pygments_lexer": "ipython3",
   "version": "3.6.7"
  }
 },
 "nbformat": 4,
 "nbformat_minor": 2
}
