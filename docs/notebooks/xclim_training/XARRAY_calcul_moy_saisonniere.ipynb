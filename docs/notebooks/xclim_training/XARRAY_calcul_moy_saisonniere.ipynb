{
 "cells": [
  {
   "cell_type": "markdown",
   "metadata": {},
   "source": [
    "# Introduction à  Xarray"
   ]
  },
  {
   "cell_type": "markdown",
   "metadata": {},
   "source": [
    "Nous allons donner un exemple pratique de l'utilisation du module python **xarray** (aussi désigné par l'abréviation **xr**) qui est une pièce importante du module **xclim**. Pour ce faire nous allons faire une moyenne climatique saisonnière à partir de moyennes mensuelles en utilisant deux méthode:\n",
    "\n",
    "1. En ne tenant pas compte du nombre de jours dans chaque mois\n",
    "2. En pondérant les moyennes mensuelles par le nombre de jours dans chaque mois\n",
    "\n",
    "Nous terminons en comparant le résulat des deux méthodes"
   ]
  },
  {
   "cell_type": "markdown",
   "metadata": {},
   "source": [
    "## Importation des modules nécessaires"
   ]
  },
  {
   "cell_type": "code",
   "execution_count": 1,
   "metadata": {},
   "outputs": [],
   "source": [
    "import xarray as xr\n",
    "import matplotlib.pyplot as plt\n"
   ]
  },
  {
   "cell_type": "markdown",
   "metadata": {},
   "source": [
    "## Ouverture du fichier et extraction des données\n",
    "\n",
    "on commence par ouvrir un fichier de moyenne mensuelle de température. Ce fichier contient un **xr.Dataset** qui contient plusieurs variables dont **tas**, la température à 2m.\n",
    "\n",
    "\n"
   ]
  },
  {
   "cell_type": "code",
   "execution_count": 2,
   "metadata": {},
   "outputs": [
    {
     "data": {
      "text/plain": [
       "<xarray.Dataset>\n",
       "Dimensions:    (bnds: 2, lat: 64, lon: 128, time: 1872)\n",
       "Coordinates:\n",
       "  * time       (time) object 1850-01-16 12:00:00 ... 2005-12-16 12:00:00\n",
       "  * lat        (lat) float64 -87.86 -85.1 -82.31 -79.53 ... 82.31 85.1 87.86\n",
       "  * lon        (lon) float64 0.0 2.812 5.625 8.438 ... 348.8 351.6 354.4 357.2\n",
       "    height     float64 ...\n",
       "Dimensions without coordinates: bnds\n",
       "Data variables:\n",
       "    time_bnds  (time, bnds) object ...\n",
       "    lat_bnds   (lat, bnds) float64 ...\n",
       "    lon_bnds   (lon, bnds) float64 ...\n",
       "    tas        (time, lat, lon) float32 ...\n",
       "Attributes:\n",
       "    institution:            CCCma (Canadian Centre for Climate Modelling and ...\n",
       "    institute_id:           CCCma\n",
       "    experiment_id:          historical\n",
       "    source:                 CanESM2 2010 atmosphere: CanAM4 (AGCM15i, T63L35)...\n",
       "    model_id:               CanESM2\n",
       "    forcing:                GHG,Oz,SA,BC,OC,LU,Sl,Vl (GHG includes CO2,CH4,N2...\n",
       "    parent_experiment_id:   piControl\n",
       "    parent_experiment_rip:  r1i1p1\n",
       "    branch_time:            171915.0\n",
       "    contact:                cccma_info@ec.gc.ca\n",
       "    references:             http://www.cccma.ec.gc.ca/models\n",
       "    initialization_method:  1\n",
       "    physics_version:        1\n",
       "    tracking_id:            7ddaef12-497a-4354-bfd9-f113ef6dfaee\n",
       "    branch_time_YMDH:       2321:01:01:00\n",
       "    CCCma_runid:            IGM\n",
       "    CCCma_parent_runid:     IGA\n",
       "    CCCma_data_licence:     1) GRANT OF LICENCE - The Government of Canada (E...\n",
       "    product:                output\n",
       "    experiment:             historical\n",
       "    frequency:              mon\n",
       "    creation_date:          2011-03-16T18:49:59Z\n",
       "    history:                2011-03-16T18:49:59Z CMOR rewrote data to comply ...\n",
       "    Conventions:            CF-1.4\n",
       "    project_id:             CMIP5\n",
       "    table_id:               Table Amon (31 January 2011) 53b766a395ac41696af4...\n",
       "    title:                  CanESM2 model output prepared for CMIP5 historical\n",
       "    parent_experiment:      pre-industrial control\n",
       "    modeling_realm:         atmos\n",
       "    realization:            1\n",
       "    cmor_version:           2.5.4"
      ]
     },
     "execution_count": 2,
     "metadata": {},
     "output_type": "execute_result"
    }
   ],
   "source": [
    "f_gcm = ('<path_to_file>/tas_Amon_CanESM2_historical_r1i1p1_185001-200512.nc')\n",
    "ds_gcm = xr.open_dataset(f_gcm)\n",
    "ds_gcm"
   ]
  },
  {
   "cell_type": "markdown",
   "metadata": {},
   "source": [
    "On extrait ensuite le xr.DataArray de 'tas' du xr.Dataset"
   ]
  },
  {
   "cell_type": "code",
   "execution_count": 3,
   "metadata": {},
   "outputs": [
    {
     "data": {
      "text/plain": [
       "<xarray.DataArray 'tas' (time: 1872, lat: 64, lon: 128)>\n",
       "[15335424 values with dtype=float32]\n",
       "Coordinates:\n",
       "  * time     (time) object 1850-01-16 12:00:00 ... 2005-12-16 12:00:00\n",
       "  * lat      (lat) float64 -87.86 -85.1 -82.31 -79.53 ... 79.53 82.31 85.1 87.86\n",
       "  * lon      (lon) float64 0.0 2.812 5.625 8.438 ... 348.8 351.6 354.4 357.2\n",
       "    height   float64 ...\n",
       "Attributes:\n",
       "    standard_name:     air_temperature\n",
       "    long_name:         Near-Surface Air Temperature\n",
       "    units:             K\n",
       "    original_name:     ST\n",
       "    cell_methods:      time: mean (interval: 15 minutes)\n",
       "    cell_measures:     area: areacella\n",
       "    history:           2011-03-16T18:49:59Z altered by CMOR: Treated scalar d...\n",
       "    associated_files:  baseURL: http://cmip-pcmdi.llnl.gov/CMIP5/dataLocation..."
      ]
     },
     "execution_count": 3,
     "metadata": {},
     "output_type": "execute_result"
    }
   ],
   "source": [
    "tas_gcm = ds_gcm.tas\n",
    "tas_gcm\n"
   ]
  },
  {
   "cell_type": "markdown",
   "metadata": {},
   "source": [
    "On peut voir que **tas** a plusieurs coordonnées (lon, lat et time) et que la coordonnée time contient un attribut **season**. On peut se servir de cet attribut pour sélectionner les mois d'été (c. à d. **JJA**) seulement. On utilise ensuite l'attribut **time.dt.year** pour faire une sélection des années qui nous intéressent (1950-200 dans cet exemple)."
   ]
  },
  {
   "cell_type": "code",
   "execution_count": 4,
   "metadata": {
    "scrolled": true
   },
   "outputs": [
    {
     "data": {
      "text/plain": [
       "<xarray.DataArray 'season' (time: 1872)>\n",
       "array(['DJF', 'DJF', 'MAM', ..., 'SON', 'SON', 'DJF'], dtype='<U3')\n",
       "Coordinates:\n",
       "  * time     (time) object 1850-01-16 12:00:00 ... 2005-12-16 12:00:00\n",
       "    height   float64 ..."
      ]
     },
     "execution_count": 4,
     "metadata": {},
     "output_type": "execute_result"
    }
   ],
   "source": [
    "tas_gcm.time\n",
    "tas_gcm.time.dt.season"
   ]
  },
  {
   "cell_type": "code",
   "execution_count": 5,
   "metadata": {
    "scrolled": true
   },
   "outputs": [
    {
     "data": {
      "text/plain": [
       "<xarray.DataArray 'month' (time: 468)>\n",
       "array([6, 7, 8, ..., 6, 7, 8])\n",
       "Coordinates:\n",
       "  * time     (time) object 1850-06-16 00:00:00 ... 2005-08-16 12:00:00\n",
       "    height   float64 ..."
      ]
     },
     "execution_count": 5,
     "metadata": {},
     "output_type": "execute_result"
    }
   ],
   "source": [
    "# on extrait les mois d'été seulement\n",
    "#\n",
    "tas_gcm_jja = tas_gcm.sel(time = tas_gcm.time.dt.season == 'JJA')\n",
    "\n",
    "tas_gcm_jja.time.dt.month"
   ]
  },
  {
   "cell_type": "code",
   "execution_count": 6,
   "metadata": {},
   "outputs": [
    {
     "data": {
      "text/plain": [
       "<xarray.DataArray 'year' (time: 153)>\n",
       "array([1950, 1950, 1950, 1951, 1951, 1951, 1952, 1952, 1952, 1953, 1953, 1953,\n",
       "       1954, 1954, 1954, 1955, 1955, 1955, 1956, 1956, 1956, 1957, 1957, 1957,\n",
       "       1958, 1958, 1958, 1959, 1959, 1959, 1960, 1960, 1960, 1961, 1961, 1961,\n",
       "       1962, 1962, 1962, 1963, 1963, 1963, 1964, 1964, 1964, 1965, 1965, 1965,\n",
       "       1966, 1966, 1966, 1967, 1967, 1967, 1968, 1968, 1968, 1969, 1969, 1969,\n",
       "       1970, 1970, 1970, 1971, 1971, 1971, 1972, 1972, 1972, 1973, 1973, 1973,\n",
       "       1974, 1974, 1974, 1975, 1975, 1975, 1976, 1976, 1976, 1977, 1977, 1977,\n",
       "       1978, 1978, 1978, 1979, 1979, 1979, 1980, 1980, 1980, 1981, 1981, 1981,\n",
       "       1982, 1982, 1982, 1983, 1983, 1983, 1984, 1984, 1984, 1985, 1985, 1985,\n",
       "       1986, 1986, 1986, 1987, 1987, 1987, 1988, 1988, 1988, 1989, 1989, 1989,\n",
       "       1990, 1990, 1990, 1991, 1991, 1991, 1992, 1992, 1992, 1993, 1993, 1993,\n",
       "       1994, 1994, 1994, 1995, 1995, 1995, 1996, 1996, 1996, 1997, 1997, 1997,\n",
       "       1998, 1998, 1998, 1999, 1999, 1999, 2000, 2000, 2000])\n",
       "Coordinates:\n",
       "  * time     (time) object 1950-06-16 00:00:00 ... 2000-08-16 12:00:00\n",
       "    height   float64 ..."
      ]
     },
     "execution_count": 6,
     "metadata": {},
     "output_type": "execute_result"
    }
   ],
   "source": [
    "# on selectionne la periode 1950-2000\n",
    "#\n",
    "tas_gcm_jja_com = tas_gcm_jja.sel(time = (tas_gcm_jja.time.dt.year >= 1950) & (tas_gcm_jja.time.dt.year <= 2000))\n",
    "\n",
    "# raccourci : on pourrait aussi utiliser:\n",
    "#\n",
    "#tas_gcm_jja_com = tas_gcm_jja.sel(time=slice('1950','2000'))\n",
    "\n",
    "tas_gcm_jja_com.time.dt.year"
   ]
  },
  {
   "cell_type": "markdown",
   "metadata": {},
   "source": [
    "## Calcul de la moyenne saisonnière en utilisant la première méthode\n",
    "\n",
    "`tas_gcm_jja_com` contient maintenant les moyennes mensuelles pour tous les mois de **JJA** entre 1950 et 2000. On peut donc faire la moyenne saisonnière de l'été en utilisant la première méthode (c. à d. aucune pondération par le nombre de jours dans chaque mois)"
   ]
  },
  {
   "cell_type": "code",
   "execution_count": 7,
   "metadata": {
    "scrolled": true
   },
   "outputs": [],
   "source": [
    "# on calcule la moyenne climatique en utilisant\n",
    "# le même poids pour chaque mois\n",
    "#\n",
    "moy_gcm1 = tas_gcm_jja_com.mean(dim='time')\n",
    "\n"
   ]
  },
  {
   "cell_type": "markdown",
   "metadata": {},
   "source": [
    "## Calcul de la moyenne saisonnière en utilisant la 2e méthode\n",
    "\n",
    "On utilise maintenant la 2e méthode et on tient compte du nombre de jours dans chaque mois. \n",
    "\n",
    "On commence par générer un vecteur contenant le nombre de jours dans chaque mois pour une année de 365 jours (le GCM CanESM2 utilisé pour générer les données utilisées utilise un tel calendrier)."
   ]
  },
  {
   "cell_type": "code",
   "execution_count": 8,
   "metadata": {
    "scrolled": false
   },
   "outputs": [
    {
     "data": {
      "text/plain": [
       "[30,\n",
       " 31,\n",
       " 31,\n",
       " 30,\n",
       " 31,\n",
       " 31,\n",
       " 30,\n",
       " 31,\n",
       " 31,\n",
       " 30,\n",
       " 31,\n",
       " 31,\n",
       " 30,\n",
       " 31,\n",
       " 31,\n",
       " 30,\n",
       " 31,\n",
       " 31,\n",
       " 30,\n",
       " 31,\n",
       " 31,\n",
       " 30,\n",
       " 31,\n",
       " 31,\n",
       " 30,\n",
       " 31,\n",
       " 31,\n",
       " 30,\n",
       " 31,\n",
       " 31,\n",
       " 30,\n",
       " 31,\n",
       " 31,\n",
       " 30,\n",
       " 31,\n",
       " 31,\n",
       " 30,\n",
       " 31,\n",
       " 31,\n",
       " 30,\n",
       " 31,\n",
       " 31,\n",
       " 30,\n",
       " 31,\n",
       " 31,\n",
       " 30,\n",
       " 31,\n",
       " 31,\n",
       " 30,\n",
       " 31,\n",
       " 31,\n",
       " 30,\n",
       " 31,\n",
       " 31,\n",
       " 30,\n",
       " 31,\n",
       " 31,\n",
       " 30,\n",
       " 31,\n",
       " 31,\n",
       " 30,\n",
       " 31,\n",
       " 31,\n",
       " 30,\n",
       " 31,\n",
       " 31,\n",
       " 30,\n",
       " 31,\n",
       " 31,\n",
       " 30,\n",
       " 31,\n",
       " 31,\n",
       " 30,\n",
       " 31,\n",
       " 31,\n",
       " 30,\n",
       " 31,\n",
       " 31,\n",
       " 30,\n",
       " 31,\n",
       " 31,\n",
       " 30,\n",
       " 31,\n",
       " 31,\n",
       " 30,\n",
       " 31,\n",
       " 31,\n",
       " 30,\n",
       " 31,\n",
       " 31,\n",
       " 30,\n",
       " 31,\n",
       " 31,\n",
       " 30,\n",
       " 31,\n",
       " 31,\n",
       " 30,\n",
       " 31,\n",
       " 31,\n",
       " 30,\n",
       " 31,\n",
       " 31,\n",
       " 30,\n",
       " 31,\n",
       " 31,\n",
       " 30,\n",
       " 31,\n",
       " 31,\n",
       " 30,\n",
       " 31,\n",
       " 31,\n",
       " 30,\n",
       " 31,\n",
       " 31,\n",
       " 30,\n",
       " 31,\n",
       " 31,\n",
       " 30,\n",
       " 31,\n",
       " 31,\n",
       " 30,\n",
       " 31,\n",
       " 31,\n",
       " 30,\n",
       " 31,\n",
       " 31,\n",
       " 30,\n",
       " 31,\n",
       " 31,\n",
       " 30,\n",
       " 31,\n",
       " 31,\n",
       " 30,\n",
       " 31,\n",
       " 31,\n",
       " 30,\n",
       " 31,\n",
       " 31,\n",
       " 30,\n",
       " 31,\n",
       " 31,\n",
       " 30,\n",
       " 31,\n",
       " 31,\n",
       " 30,\n",
       " 31,\n",
       " 31,\n",
       " 30,\n",
       " 31,\n",
       " 31,\n",
       " 30,\n",
       " 31,\n",
       " 31]"
      ]
     },
     "execution_count": 8,
     "metadata": {},
     "output_type": "execute_result"
    }
   ],
   "source": [
    "# on calcule le poids de chaques mois selon le nb de jours du mois dans une\n",
    "# annee non bissextile\n",
    "#\n",
    "liste_nb_jours = [31, 28, 31, 30, 31, 30, 31, 31, 30, 31, 30, 31]\n",
    "nb_jours = [ liste_nb_jours[mois-1] for mois in \n",
    "            tas_gcm_jja_com.time.dt.month.values]\n",
    "nb_jours"
   ]
  },
  {
   "cell_type": "markdown",
   "metadata": {},
   "source": [
    "On utilise ensuite ces poids pour pondérer les moyennes mensuelles de chaque mois de `tas_gcm_jja_com`."
   ]
  },
  {
   "cell_type": "code",
   "execution_count": 9,
   "metadata": {},
   "outputs": [],
   "source": [
    "# on calcule la moyenne ponderee par le nombre de jours dans le mois\n",
    "#\n",
    "# on ajoute le poids au coordonnees de tas_gcm_jja_com\n",
    "tas_gcm_jja_com['poids'] = ('time', nb_jours)\n",
    "\n",
    "# on calcule la somme ponderée des moyennes mensuelles\n",
    "numerateur = (tas_gcm_jja_com * tas_gcm_jja_com.poids).\\\n",
    "sum(dim='time')\n",
    "\n",
    "# on calcule la somme des poids\n",
    "denominateur = tas_gcm_jja_com.poids.sum(dim='time')\n",
    "\n",
    "# on calcule la moyenne ponderée\n",
    "moy_gcm2 = numerateur/denominateur"
   ]
  },
  {
   "cell_type": "markdown",
   "metadata": {},
   "source": [
    "## Affichage des différences entre les résultats des deux méthodes\n",
    "\n",
    "On peut maintenant calculer la différences entre les moyennes obtenues en utilisant les deux méthodes. On fait une figure de cette différence et on en affiche les valeurs min et max."
   ]
  },
  {
   "cell_type": "code",
   "execution_count": 10,
   "metadata": {},
   "outputs": [
    {
     "data": {
      "image/png": "[encoded data removed]",
      "text/plain": [
       "<Figure size 432x288 with 2 Axes>"
      ]
     },
     "metadata": {
      "needs_background": "light"
     },
     "output_type": "display_data"
    },
    {
     "name": "stdout",
     "output_type": "stream",
     "text": [
      "différences min/max = -0.08/0.09 (deg C)\n"
     ]
    }
   ],
   "source": [
    "# difference entre moy_gcm1 et moy_gcm2\n",
    "#\n",
    "diff = (moy_gcm1 - moy_gcm2).values\n",
    "plt.pcolormesh(diff)\n",
    "plt.colorbar()\n",
    "plt.title('differences entre les moyennes saisonnières')\n",
    "plt.show()\n",
    "print('différences min/max = {:.2f}/{:.2f} (deg C)'.\\\n",
    "      format(diff.min(), diff.max()))\n",
    "                                                        "
   ]
  }
 ],
 "metadata": {
  "kernelspec": {
   "display_name": "Python 3",
   "language": "python",
   "name": "python3"
  },
  "language_info": {
   "codemirror_mode": {
    "name": "ipython",
    "version": 3
   },
   "file_extension": ".py",
   "mimetype": "text/x-python",
   "name": "python",
   "nbconvert_exporter": "python",
   "pygments_lexer": "ipython3",
   "version": "3.6.7"
  }
 },
 "nbformat": 4,
 "nbformat_minor": 2
}
