{
 "cells": [
  {
   "cell_type": "markdown",
   "metadata": {},
   "source": [
    "# Instructions\n",
    "\n",
    "## Installation d'outils pour Windows\n",
    "\n",
    "1. Installer MobaXterm: https://mobaxterm.mobatek.net/download-home-edition.html\n",
    "\n",
    "\n",
    "## Sur le serveur\n",
    "\n",
    "1. Ouvrir une session sur doris ou neree\n",
    "2. Charger le module `Anaconda`\n",
    "3. Ouvrir l'environnement `python36`\n",
    "4. Lancer un serveur de notebook jupyter avec le port désigné (8888 dans l'exemple) : voir liste ci-dessous pour le port à utiliser\n",
    "5. Copier l'URL commençant par http://localhost:\n",
    "\n",
    "### Liste de ports par poste de travail pour la formation\n",
    "1. Poste 1 : JP=8890 ; DP=8790\n",
    "\n",
    "2. Poste 2 : JP=8891 ; DP=8791\n",
    "\n",
    "3. Poste 3 : JP=8892 ; DP=8792\n",
    "\n",
    "4. Poste 4 : JP=8893 ; DP=8793\n",
    "\n",
    "5. Poste 5 : JP=8894 ; DP=8794\n",
    "\n",
    "6. Poste 6 : JP=8895 ; DP=8795\n",
    "\n",
    "7. Poste 7 : JP=8896 ; DP=8796\n",
    "\n",
    "8. Poste 8 : JP=8897 ; DP=8797\n",
    "\n",
    "9. Poste 9 : JP=8898 ; DP=8798\n",
    "\n",
    "10. Poste 10 : JP=8899 ; DP=8799\n"
   ]
  },
  {
   "cell_type": "code",
   "execution_count": null,
   "metadata": {},
   "outputs": [],
   "source": [
    "$ ssh user@server  \n",
    "$ git clone https://github.com/Ouranosinc/xclim.git\n",
    "$ cd xclim\n",
    "$ git checkout xclim_training\n",
    "$ cd docs/notebooks/xclim_training/\n",
    "$ module load Anaconda\n",
    "$ export OMP_NUM_THREADS=4\n",
    "$ source activate python36\n",
    "$ jupyter notebook --no-browser --port {JP}    "
   ]
  },
  {
   "cell_type": "markdown",
   "metadata": {},
   "source": [
    "## Sur votre machine\n",
    "\n",
    "1. Créer un tunnel entre le serveur et votre laptop (un port pour le notebook {JP} et un port pour le dashboard {DP} \n",
    "2. Accéder à Jupyter dans un navigateur via l'URL  http://localhost:{JP}"
   ]
  },
  {
   "cell_type": "code",
   "execution_count": null,
   "metadata": {},
   "outputs": [],
   "source": [
    "$ ssh -N -L{JP}:localhost:{JP} -L{DP}:localhost:{DP} user@server"
   ]
  },
  {
   "cell_type": "markdown",
   "metadata": {},
   "source": [
    "## À la fin de la formation\n",
    "\n",
    "1. Fermer Jupyter sur le serveur (CTRL-C)\n",
    "2. Fermer le tunnel sur votre machine"
   ]
  },
  {
   "cell_type": "code",
   "execution_count": null,
   "metadata": {},
   "outputs": [],
   "source": [
    "$ ps aux | grep localhost \n",
    "$ kill -9 <PID du process correspondant>"
   ]
  }
 ],
 "metadata": {
  "kernelspec": {
   "display_name": "Python 3",
   "language": "python",
   "name": "python3"
  },
  "language_info": {
   "codemirror_mode": {
    "name": "ipython",
    "version": 3
   },
   "file_extension": ".py",
   "mimetype": "text/x-python",
   "name": "python",
   "nbconvert_exporter": "python",
   "pygments_lexer": "ipython3",
   "version": "3.6.7"
  }
 },
 "nbformat": 4,
 "nbformat_minor": 2
}
