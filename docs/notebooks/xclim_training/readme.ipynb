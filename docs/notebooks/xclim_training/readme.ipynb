{
 "cells": [
  {
   "cell_type": "markdown",
   "metadata": {},
   "source": [
    "# Instructions\n",
    "\n",
    "## Installation d'outils pour Windows\n",
    "\n",
    "1. Installer MobaXterm: https://mobaxterm.mobatek.net/download-home-edition.html\n",
    "2. Configurer le VPN: ... \n",
    "\n",
    "\n",
    "## Sur le serveur\n",
    "\n",
    "1. Ouvrir une session sur doris ou neree\n",
    "2. Charger le module `Anaconda`\n",
    "3. Ouvrir l'environnement `python36`\n",
    "4. Lancer un serveur de notebook jupyter avec le port désigné (8888 dans l'exemple)\n",
    "5. Copier l'URL commençant par http://localhost:"
   ]
  },
  {
   "cell_type": "raw",
   "metadata": {},
   "source": [
    "$ ssh user@doris\n",
    "$ module load Anaconda\n",
    "$ source activate python36\n",
    "$ jupyter notebook --no-browser --port 8888"
   ]
  },
  {
   "cell_type": "markdown",
   "metadata": {},
   "source": [
    "## Sur votre machine\n",
    "\n",
    "1. Créer un tunnel entre le serveur et votre laptop\n",
    "2. Accéder à Jupyter dans un navigateur via l'URL copié plus tôt "
   ]
  },
  {
   "cell_type": "raw",
   "metadata": {},
   "source": [
    "$ ssh -N -f -L localhost:8888:localhost:8888 user@doris"
   ]
  },
  {
   "cell_type": "markdown",
   "metadata": {},
   "source": [
    "---"
   ]
  },
  {
   "cell_type": "markdown",
   "metadata": {},
   "source": [
    "## À la fin de la formation\n",
    "\n",
    "1. Fermer Jupyter sur le serveur (CTRL-C)\n",
    "2. Fermer le tunnel sur votre machine"
   ]
  },
  {
   "cell_type": "raw",
   "metadata": {},
   "source": [
    "$ ps aux | grep localhost \n",
    "$ kill -9 <PID du process correspondant>"
   ]
  }
 ],
 "metadata": {
  "kernelspec": {
   "display_name": "Python 3",
   "language": "python",
   "name": "python3"
  },
  "language_info": {
   "codemirror_mode": {
    "name": "ipython",
    "version": 3
   },
   "file_extension": ".py",
   "mimetype": "text/x-python",
   "name": "python",
   "nbconvert_exporter": "python",
   "pygments_lexer": "ipython3",
   "version": "3.6.6"
  }
 },
 "nbformat": 4,
 "nbformat_minor": 2
}
