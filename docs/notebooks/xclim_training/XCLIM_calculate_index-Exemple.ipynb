{
 "cells": [
  {
   "cell_type": "markdown",
   "metadata": {},
   "source": [
    "# Computing climate indicators\n",
    "\n",
    "This notebook will get you started on the use of `xclim` to subset netCDF arrays and compute climate indicators, taking advantage of parallel processing capabilities offered by `xarray` and `dask`. \n",
    "\n",
    "`xarray` is a python package making it easy to work with n-dimensional arrays. It labels axes with their names (time, lat, lon, level) instead of indices (0,1,2,3), reducing the likelihood of bugs and making the code easier to understand. One of the key strengths of `xarray` is that it knows how to deal with non-standard calendars (I'm looking at you 360_days) and can easily resample daily time series to weekly, monthly, seasonal or annual periods.  Finally, `xarray` is tightly inegrated with `dask`, a package that can automatically parallelize operations.\n"
   ]
  },
  {
   "cell_type": "code",
   "execution_count": null,
   "metadata": {},
   "outputs": [],
   "source": [
    "# XCLIM and xarray\n",
    "from __future__ import annotations\n",
    "\n",
    "import glob\n",
    "\n",
    "# file handling libraries\n",
    "import os\n",
    "import tempfile\n",
    "import time\n",
    "from pathlib import Path\n",
    "\n",
    "import dask\n",
    "import numpy as np\n",
    "import xarray as xr\n",
    "\n",
    "import xclim.atmos as atmos\n",
    "import xclim.indices as indices\n",
    "\n",
    "# Output folder\n",
    "outfolder = Path(tempfile.mkdtemp())"
   ]
  },
  {
   "cell_type": "markdown",
   "metadata": {},
   "source": [
    "## 1. Setting up the Dask client - Parallel processing / workers\n",
    "\n",
    "First we create a pool of workers that will wait for jobs. The `xarray` library will automatically connect to these workers and and dispatch them jobs that can be run in parallel. \n",
    "\n",
    "The dashboard link lets you see in real time how busy those workers are. "
   ]
  },
  {
   "cell_type": "code",
   "execution_count": null,
   "metadata": {},
   "outputs": [],
   "source": [
    "from distributed import Client\n",
    "\n",
    "client = Client(\n",
    "    n_workers=2, threads_per_worker=10, dashboard_address=8788, memory_limit=\"6GB\"\n",
    ")\n",
    "# client=Client(n_workers=1)\n",
    "client"
   ]
  },
  {
   "cell_type": "markdown",
   "metadata": {},
   "source": [
    "## 2. Finding data files "
   ]
  },
  {
   "cell_type": "code",
   "execution_count": null,
   "metadata": {},
   "outputs": [],
   "source": [
    "infolder = \"<path_to_data>/cb-oura-1.0/\"\n",
    "\n",
    "# Get list of files for tasmax\n",
    "rcps = [\"rcp45\", \"rcp85\"]\n",
    "v = \"tasmax\"\n",
    "r = rcps[0]\n",
    "search_str = os.path.join(infolder, f\"{v}*CanESM*{r}*.nc\")\n",
    "sim_files = sorted(glob.glob(search_str))\n",
    "print(len(sim_files))"
   ]
  },
  {
   "cell_type": "markdown",
   "metadata": {},
   "source": [
    "## 3. Creating xarray datasets\n",
    "\n",
    "To open a netCDF file with `xarray`, we use `xr.open_dataset(<path to file>)`. But by default, the entire file is stored in one chunk, so there is no parallelism. To trigger parallel computations, we need to explicitly specify the *chunk* size. \n",
    "\n",
    "`Dask`' parallelism is based on memory chunks. We need to tell `xarray` to split our netCDF array into chunks of a given size, and operations on each chunk of the array will automatically be dispatched to the workers. "
   ]
  },
  {
   "cell_type": "code",
   "execution_count": null,
   "metadata": {},
   "outputs": [],
   "source": [
    "# This file is opened as one big chunk: no parallel processing.\n",
    "ds = xr.open_dataset(sim_files[0])\n",
    "print(ds.tasmax)"
   ]
  },
  {
   "cell_type": "code",
   "execution_count": null,
   "metadata": {},
   "outputs": [],
   "source": [
    "# Chunked in memory along the time dimension.\n",
    "# Note that the data type is a 'dask.array'. xarray will automatically use client workers\n",
    "ds = xr.open_dataset(sim_files[0], chunks={\"time\": 31})\n",
    "print(ds.tasmax)\n",
    "ds.tasmax.chunks"
   ]
  },
  {
   "cell_type": "markdown",
   "metadata": {},
   "source": [
    "### 3.1. Multifile dataset\n",
    "netCDF files are often split into periods to keep file size manageable. A single dataset can be split in dozens of individual files. `xarray` has a function `open_mfdataset` that can open and aggregate a list of files and construct a unique *logical* dataset. `open_mfdataset` can aggregate files over coordinates (time, lat, lon) and variables. \n",
    "\n",
    "Note that opening a multi-file dataset automatically chunks the array (one chunk per file).\n",
    "\n",
    "Note also that because `xarray` reads every file metadata to place it in a logical order, it can take a while to load. "
   ]
  },
  {
   "cell_type": "code",
   "execution_count": null,
   "metadata": {},
   "outputs": [],
   "source": [
    "# Create multi-file data & chunks\n",
    "ds = xr.open_mfdataset(sim_files, chunks={\"time\": 365, \"lat\": 50 * 2, \"lon\": 56 * 2})\n",
    "ds = ds.drop(\"time_vectors\")\n",
    "ds = ds.drop(\"ts\")\n",
    "print(ds)"
   ]
  },
  {
   "cell_type": "markdown",
   "metadata": {},
   "source": [
    "## 4. Subsetting utilities\n",
    "\n",
    "### subset_bbox : using a latitude-longitude bounding box"
   ]
  },
  {
   "cell_type": "code",
   "execution_count": null,
   "metadata": {},
   "outputs": [],
   "source": [
    "from clisops.core import subset\n",
    "\n",
    "lat_bnds = [45, 60]\n",
    "lon_bnds = [-55, -82]\n",
    "\n",
    "ds1 = subset.subset_bbox(ds, lat_bnds=lat_bnds, lon_bnds=lon_bnds)\n",
    "print(ds1)"
   ]
  },
  {
   "cell_type": "markdown",
   "metadata": {},
   "source": [
    "### Add start and/or end years\n",
    "\n",
    "Note that in the next release, we'll use datetime objects instead of a year integer to specify start and end points."
   ]
  },
  {
   "cell_type": "code",
   "execution_count": null,
   "metadata": {},
   "outputs": [],
   "source": [
    "ds2 = subset.subset_bbox(\n",
    "    ds, lat_bnds=lat_bnds, lon_bnds=lon_bnds, start_yr=1981, end_yr=2010\n",
    ")\n",
    "print(ds2)\n",
    "print(\" \")\n",
    "\n",
    "# subset years only\n",
    "ds2 = subset.subset_bbox(ds, start_yr=1981, end_yr=2010)\n",
    "print(ds2)"
   ]
  },
  {
   "cell_type": "markdown",
   "metadata": {},
   "source": [
    "### Select a single grid point "
   ]
  },
  {
   "cell_type": "code",
   "execution_count": null,
   "metadata": {},
   "outputs": [],
   "source": [
    "lon_pt = -70.0\n",
    "lat_pt = 50.0\n",
    "\n",
    "ds3 = subset.subset_gridpoint(ds, lon=lon_pt, lat=lat_pt, start_yr=1981)\n",
    "print(ds3)"
   ]
  },
  {
   "cell_type": "markdown",
   "metadata": {},
   "source": [
    "### Nothing has been computed so far !\n",
    "\n",
    "If you look at the output of those operations, they're identified as `dask.array` objects. What happens is that `dask` creates a chain of operations that when executed, will yield the values we want. But as long as we don't explicitly ask for a value, no computation will occur. \n",
    "\n",
    "You can trigger computations by using the `load` or `compute` method, or writing the output to disk. "
   ]
  },
  {
   "cell_type": "markdown",
   "metadata": {},
   "source": [
    "## 5. Climate index calculation & resampling frequencies\n",
    "\n",
    "`xclim` has two layers for the calculation of indicators. The bottom layer is composed of a list of functions that take a `xarray.DataArray` as an input and return an `xarray.DataArray` as output. You'll find these functions in `xclim.indices`. The indicator's logic is contained in this function, as well as potential unit conversions, but it doesn't check if the time frequency is daily, and doesn't not adjust the meta data of the output array. \n",
    "\n",
    "The second layer are class instances that you'll find organized by *realm*. So far, there is only one realm (atmospheric) available in `xclim.atmos`, but we'll be working on `ice` and `land` indicators in 2020. Before running computations, these classes check the input data is a daily average of the expected variable: \n",
    "1. If an indicator expects a daily mean and you pass it a daily max, a `warning` will be raised. \n",
    "2. After the computation, it also checks the number of values per period to make sure there are not missing values or `NaN` in the input data. If there are, the output is going to be set to `NaN`. \n",
    "3. The output units are set correctly as well as other properties of the output array, complying as much as possible with CF conventions. \n",
    "\n",
    "For new users, we suggest you use the classes found in `xclim.atmos`. If you know what you're doing and you want to circumvent the built-in checks, then you can use the `xclim.indices` directly. \n",
    "\n",
    "All `xclim` indicators convert daily data to lower time frequencies, such as monthly or annual values. This is done using `xarray.DataArray.resample` method. Resampling creates a grouped object over which you apply a reduction operation (e.g. mean, min, max). The list of available frequency is given in the link below, but the most often used are: \n",
    "\n",
    "- YS: annual starting in January\n",
    "- YS-JUL: annual starting in July\n",
    "- MS: monthly\n",
    "- QS-DEC: seasonal starting in December\n",
    "- 7D: 7 day (weekly)\n",
    "\n",
    "\n",
    "http://pandas.pydata.org/pandas-docs/stable/user_guide/timeseries.html#timeseries-offset-aliases  \n",
    "Note - not all offsets in the link are supported by cftime objects in `xarray`\n",
    "\n",
    "\n",
    "In the example below, we're computing the **annual maximum temperature of the daily maximum temperature (tx_max)**"
   ]
  },
  {
   "cell_type": "code",
   "execution_count": null,
   "metadata": {},
   "outputs": [],
   "source": [
    "fr = \"YS\"\n",
    "ds1.tasmax.attrs[\"cell_methods\"] = \"time: maximum within days\"\n",
    "out = atmos.tx_max(ds1.tasmax, freq=fr)\n",
    "print(\"Number of time-steps using freq == \", fr, \" : \", len(out.time), \"\\n\")\n",
    "print(out.time)"
   ]
  },
  {
   "cell_type": "markdown",
   "metadata": {},
   "source": [
    "### Example output using `atmos` vs `indices` modules\n",
    "The `atmos` module adds CF metadata attributes to the output variable"
   ]
  },
  {
   "cell_type": "code",
   "execution_count": null,
   "metadata": {},
   "outputs": [],
   "source": [
    "out30d = atmos.tx_days_above(ds1.tasmax, thresh=\"25 C\", freq=fr)\n",
    "print(\n",
    "    \"output atmos : \\n\",\n",
    "    out30d,\n",
    "    \"\\n\\n\\n\",\n",
    ")\n",
    "\n",
    "out30d = indices.tx_days_above(ds1.tasmax, thresh=\"25 C\", freq=fr)\n",
    "print(\"output indices : \\n\", out30d)"
   ]
  },
  {
   "cell_type": "code",
   "execution_count": null,
   "metadata": {},
   "outputs": [],
   "source": [
    "# We have created an xarray data-array - We can insert this into an output dataset object\n",
    "# Create an xarray dataset object - copy original dataset global attrs\n",
    "dsOut = xr.Dataset(data_vars=None, coords=out.coords, attrs=ds1.attrs)\n",
    "# Add our climate index as a data variable to the dataset\n",
    "dsOut[out.name] = out\n",
    "print(dsOut)"
   ]
  },
  {
   "cell_type": "markdown",
   "metadata": {},
   "source": [
    "## 7. xclim computations are *lazy*\n",
    "\n",
    "Up until now we have ony created a schedule of tasks with a small preview, not done any actual computations. As mentionned above, writing the output to disk will trigger the cascade of computations on all the chunks. "
   ]
  },
  {
   "cell_type": "code",
   "execution_count": null,
   "metadata": {},
   "outputs": [],
   "source": [
    "outfile = outfolder / \"test_tx_max.nc\"\n",
    "start = time.time()\n",
    "dsOut.to_netcdf(outfile, format=\"NETCDF4\")\n",
    "end = time.time()\n",
    "print(\"calculation took \", end - start, \"s\")"
   ]
  },
  {
   "cell_type": "markdown",
   "metadata": {},
   "source": [
    "### Optimizing the chunk size\n",
    "\n",
    "You can improve performance by being smart about chunk sizes. If chunks are too small, there is a lot of time lost in overhead. If chunks are too large, you may end up exceeding the individual worker memory limit. "
   ]
  },
  {
   "cell_type": "code",
   "execution_count": null,
   "metadata": {},
   "outputs": [],
   "source": [
    "print(ds1)"
   ]
  },
  {
   "cell_type": "code",
   "execution_count": null,
   "metadata": {},
   "outputs": [],
   "source": [
    "ds1 = ds1.chunk(chunks={\"time\": 365, \"lon\": -1, \"lat\": -1})\n",
    "print(ds1)"
   ]
  },
  {
   "cell_type": "code",
   "execution_count": null,
   "metadata": {},
   "outputs": [],
   "source": [
    "out = atmos.tx_max(ds1.tasmax, freq=fr)\n",
    "dsOut = xr.Dataset(data_vars=None, coords=out.coords, attrs=ds1.attrs)\n",
    "dsOut[out.name] = out\n",
    "\n",
    "start = time.time()\n",
    "\n",
    "dsOut.to_netcdf(outfile, format=\"NETCDF4\")\n",
    "\n",
    "end = time.time()\n",
    "print(\"calculation took \", end - start, \"s\")"
   ]
  },
  {
   "cell_type": "markdown",
   "metadata": {},
   "source": [
    "### XCLIM unit handling \n",
    "\n",
    "A lot of effort has been placed into automatic handling of input data units.  `xclim` will automatically detect the input variable(s) units (e.g. °C versus K or mm/s versus mm/day etc.) and adjust on-the-fly in order to calculate indices in the consistent manner.  This comes with the obvious caveat that input data requires metadata attribute for units\n",
    "\n",
    "In the example below, we compute weekly total precipitation in mm using inputs of mm/s and mm/d."
   ]
  },
  {
   "cell_type": "code",
   "execution_count": null,
   "metadata": {},
   "outputs": [],
   "source": [
    "dsPr = xr.open_dataset(sim_files[0].replace(\"tasmax\", \"pr\"), chunks={\"time\": 31}).drop(\n",
    "    [\"ts\", \"time_vectors\"]\n",
    ")\n",
    "dsPr = subset.subset_gridpoint(dsPr, lon=lon_pt, lat=lat_pt)\n",
    "\n",
    "# Create a copy of the data converted to mm d-1\n",
    "dsPr_mmd = dsPr.copy()\n",
    "dsPr_mmd[\"pr\"].values = dsPr.pr.values * 3600 * 24\n",
    "dsPr_mmd.pr.attrs[\"units\"] = \"mm d-1\"\n",
    "\n",
    "print(dsPr.pr.values[0:31], \"\\n\")\n",
    "print(dsPr_mmd.pr.values[0:31])"
   ]
  },
  {
   "cell_type": "code",
   "execution_count": null,
   "metadata": {},
   "outputs": [],
   "source": [
    "out1 = atmos.precip_accumulation(dsPr.pr, freq=\"MS\")\n",
    "print(\n",
    "    \"1. results using inputs in mm/s : \\n\\n\",\n",
    "    \"units :\",\n",
    "    out1.units,\n",
    "    \"\\n\",\n",
    "    out1.values,\n",
    "    \"\\n\",\n",
    ")\n",
    "\n",
    "out2 = atmos.precip_accumulation(dsPr_mmd.pr, freq=\"MS\")\n",
    "print(\n",
    "    \"2. results using inputs in mm/d : \\n\\n\",\n",
    "    \"units :\",\n",
    "    out2.units,\n",
    "    \"\\n\",\n",
    "    out2.values,\n",
    "    \"\\n\",\n",
    ")"
   ]
  },
  {
   "cell_type": "markdown",
   "metadata": {},
   "source": [
    "#### Threshold indices\n",
    "\n",
    "`xclim` unit handling also applies to threshold indicators. Users can provide threshold in units of choice and `xclim` will adjust automatically.  For example determining the number of days with tasmax > 20°C users can define a threshold input of '20 C' or '20 degC' even if input data is in Kelvin.  Alernatively users could send provide a threshold in Kelvin '293.15 K' (if they really wanted to)"
   ]
  },
  {
   "cell_type": "code",
   "execution_count": null,
   "metadata": {},
   "outputs": [],
   "source": [
    "# Original data in Kelvin\n",
    "dsTasmax = xr.open_dataset(sim_files[0], chunks={\"time\": 31}).drop(\n",
    "    [\"ts\", \"time_vectors\"]\n",
    ")\n",
    "dsTasmax.tasmax.attrs[\"cell_methods\"] = \"time: maximum within days\"\n",
    "dsTasmax = subset.subset_gridpoint(dsTasmax, lon=lon_pt, lat=lat_pt)\n",
    "\n",
    "# Create a copy of the data converted to C\n",
    "dsTasmax_C = dsTasmax.copy()\n",
    "dsTasmax_C[\"tasmax\"].values = dsTasmax.tasmax.values - 273.15\n",
    "dsTasmax_C.tasmax.attrs[\"units\"] = \"C\"\n",
    "\n",
    "print(dsTasmax.tasmax.values[0:31], \"\\n\")\n",
    "print(dsTasmax_C.tasmax.values[0:31])"
   ]
  },
  {
   "cell_type": "code",
   "execution_count": null,
   "metadata": {},
   "outputs": [],
   "source": [
    "# Using Kelvin data\n",
    "out1 = atmos.tx_days_above(dsTasmax.tasmax, thresh=\"20 C\", freq=\"MS\")\n",
    "print(\"1. results using inputs in °K  : threshold in °C: \\n\\n\", out1.values, \"\\n\")\n",
    "\n",
    "# Using Celsius data\n",
    "out2 = atmos.tx_days_above(dsTasmax_C.tasmax, thresh=\"20 C\", freq=\"MS\")\n",
    "print(\"2. results using inputs in °C : threshold in °C\\n\\n\", out2.values)\n",
    "\n",
    "# Using Celsius but with threshold in Kelvin\n",
    "out3 = atmos.tx_days_above(dsTasmax_C.tasmax, thresh=\"293.15 K\", freq=\"MS\")\n",
    "print(\"\\n3. results using inputs in °C : threshold in K: \\n\\n\", out3.values)"
   ]
  },
  {
   "cell_type": "code",
   "execution_count": null,
   "metadata": {},
   "outputs": [],
   "source": []
  }
 ],
 "metadata": {
  "kernelspec": {
   "display_name": "Python 3",
   "language": "python",
   "name": "python3"
  },
  "language_info": {
   "codemirror_mode": {
    "name": "ipython",
    "version": 3
   },
   "file_extension": ".py",
   "mimetype": "text/x-python",
   "name": "python",
   "nbconvert_exporter": "python",
   "pygments_lexer": "ipython3",
   "version": "3.6.7"
  }
 },
 "nbformat": 4,
 "nbformat_minor": 2
}
