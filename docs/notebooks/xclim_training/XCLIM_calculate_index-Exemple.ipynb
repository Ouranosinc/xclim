{
 "cells": [
  {
   "cell_type": "markdown",
   "metadata": {},
   "source": [
    "## Import libraries"
   ]
  },
  {
   "cell_type": "code",
   "execution_count": 6,
   "metadata": {},
   "outputs": [],
   "source": [
    "# XCLIM and xarray\n",
    "import xclim.indices as xci\n",
    "import xclim.atmos as atmos\n",
    "import numpy as np\n",
    "import xarray as xr\n",
    "import dask\n",
    "\n",
    "# file handling libraries\n",
    "import os\n",
    "import glob\n",
    "import time"
   ]
  },
  {
   "cell_type": "markdown",
   "metadata": {},
   "source": [
    "## 1. Setting up the Dask client - Parallel processing / workers\n",
    "\n",
    "We create a pool of workers that will wait for jobs. The xarray library will automatically connect to these workers and and dispatch jobs that can be run in parallel. "
   ]
  },
  {
   "cell_type": "code",
   "execution_count": 7,
   "metadata": {},
   "outputs": [
    {
     "name": "stderr",
     "output_type": "stream",
     "text": [
      "DEBUG:asyncio:Using selector: EpollSelector\n",
      "DEBUG:asyncio:Using selector: EpollSelector\n"
     ]
    },
    {
     "data": {
      "text/html": [
       "<table style=\"border: 2px solid white;\">\n",
       "<tr>\n",
       "<td style=\"vertical-align: top; border: 0px solid white\">\n",
       "<h3>Client</h3>\n",
       "<ul>\n",
       "  <li><b>Scheduler: </b>tcp://127.0.0.1:33109\n",
       "  <li><b>Dashboard: </b><a href='http://127.0.0.1:35955/status' target='_blank'>http://127.0.0.1:35955/status</a>\n",
       "</ul>\n",
       "</td>\n",
       "<td style=\"vertical-align: top; border: 0px solid white\">\n",
       "<h3>Cluster</h3>\n",
       "<ul>\n",
       "  <li><b>Workers: </b>2</li>\n",
       "  <li><b>Cores: </b>24</li>\n",
       "  <li><b>Memory: </b>12.00 GB</li>\n",
       "</ul>\n",
       "</td>\n",
       "</tr>\n",
       "</table>"
      ],
      "text/plain": [
       "<Client: scheduler='tcp://127.0.0.1:33109' processes=2 cores=24>"
      ]
     },
     "execution_count": 7,
     "metadata": {},
     "output_type": "execute_result"
    }
   ],
   "source": [
    "from distributed import Client\n",
    "client=Client(n_workers=2, threads_per_worker=12, dashboard_address=8787, memory_limit='6GB') \n",
    "#client=Client(n_workers=1)\n",
    "client"
   ]
  },
  {
   "cell_type": "markdown",
   "metadata": {},
   "source": [
    "## 2. Finding data files "
   ]
  },
  {
   "cell_type": "code",
   "execution_count": 8,
   "metadata": {},
   "outputs": [
    {
     "name": "stdout",
     "output_type": "stream",
     "text": [
      "151\n"
     ]
    }
   ],
   "source": [
    "infolder = '/scen3/scenario/netcdf/ouranos/cb-oura-1.0/'\n",
    "outfolder = '/scen3/logan/testdata/XCLIM_workshop/Exercise1/'\n",
    "if not os.path.exists(outfolder):\n",
    "    os.makedirs(outfolder)\n",
    "rcps = ['rcp45','rcp85']\n",
    "v = 'tasmax'\n",
    "r = rcps[0]\n",
    "# Get list of files for tasmax\n",
    "search_str = os.path.join(infolder, '{v}*CanESM*{r}*.nc'.format(v=v,r=r))\n",
    "sim_files= sorted(glob.glob(search_str))\n",
    "print(len(sim_files))"
   ]
  },
  {
   "cell_type": "markdown",
   "metadata": {},
   "source": [
    "## 3. Creating xarray datasets & dask chunks\n",
    "\n",
    "The parallelism is entirely based on memory chunks. We tell xarray to split our netCDF array into chunks, and operations on each chunk of the array will automatically be dispatched to the workers we created. "
   ]
  },
  {
   "cell_type": "markdown",
   "metadata": {},
   "source": [
    "### Default (unchunked)"
   ]
  },
  {
   "cell_type": "code",
   "execution_count": 9,
   "metadata": {},
   "outputs": [
    {
     "name": "stdout",
     "output_type": "stream",
     "text": [
      "<xarray.DataArray 'tasmax' (time: 365, lat: 700, lon: 1064)>\n",
      "[271852000 values with dtype=float32]\n",
      "Coordinates:\n",
      "  * time     (time) object 1950-01-01 00:00:00 ... 1950-12-31 00:00:00\n",
      "  * lat      (lat) float32 83.28931 83.20598 83.12265 ... 25.12497 25.04164\n",
      "  * lon      (lon) float32 -141.04314 -140.9598 ... -52.54667 -52.46334\n",
      "Attributes:\n",
      "    units:          K\n",
      "    long_name:      air_temperature\n",
      "    standard_name:  air_temperature\n"
     ]
    }
   ],
   "source": [
    "ds = xr.open_dataset(sim_files[0])\n",
    "print(ds.tasmax)"
   ]
  },
  {
   "cell_type": "markdown",
   "metadata": {},
   "source": [
    "### Chunked in memory - Data-type is now 'Dask array'.  Xarray will automatically use client workers "
   ]
  },
  {
   "cell_type": "code",
   "execution_count": 10,
   "metadata": {},
   "outputs": [
    {
     "name": "stdout",
     "output_type": "stream",
     "text": [
      "<xarray.DataArray 'tasmax' (time: 365, lat: 700, lon: 1064)>\n",
      "dask.array<shape=(365, 700, 1064), dtype=float32, chunksize=(31, 700, 1064)>\n",
      "Coordinates:\n",
      "  * time     (time) object 1950-01-01 00:00:00 ... 1950-12-31 00:00:00\n",
      "  * lat      (lat) float32 83.28931 83.20598 83.12265 ... 25.12497 25.04164\n",
      "  * lon      (lon) float32 -141.04314 -140.9598 ... -52.54667 -52.46334\n",
      "Attributes:\n",
      "    units:          K\n",
      "    long_name:      air_temperature\n",
      "    standard_name:  air_temperature\n"
     ]
    }
   ],
   "source": [
    "ds = xr.open_dataset(sim_files[0], chunks={'time':31})\n",
    "print(ds.tasmax)"
   ]
  },
  {
   "cell_type": "markdown",
   "metadata": {},
   "source": [
    "## 4. Multifile dataset - treat 151 yearly netcdf files as a single dataset\n",
    "\n",
    "Opening a multi-file dataset automatically chunks the array (one chunk per file). "
   ]
  },
  {
   "cell_type": "code",
   "execution_count": 11,
   "metadata": {},
   "outputs": [
    {
     "data": {
      "text/plain": [
       "['/scen3/scenario/netcdf/ouranos/cb-oura-1.0/tasmax_day_CanESM2_rcp45_r1i1p1_na10kgrid_qm-moving-50bins-detrend_1950.nc',\n",
       " '/scen3/scenario/netcdf/ouranos/cb-oura-1.0/tasmax_day_CanESM2_rcp45_r1i1p1_na10kgrid_qm-moving-50bins-detrend_1951.nc',\n",
       " '/scen3/scenario/netcdf/ouranos/cb-oura-1.0/tasmax_day_CanESM2_rcp45_r1i1p1_na10kgrid_qm-moving-50bins-detrend_1952.nc',\n",
       " '/scen3/scenario/netcdf/ouranos/cb-oura-1.0/tasmax_day_CanESM2_rcp45_r1i1p1_na10kgrid_qm-moving-50bins-detrend_1953.nc',\n",
       " '/scen3/scenario/netcdf/ouranos/cb-oura-1.0/tasmax_day_CanESM2_rcp45_r1i1p1_na10kgrid_qm-moving-50bins-detrend_1954.nc',\n",
       " '/scen3/scenario/netcdf/ouranos/cb-oura-1.0/tasmax_day_CanESM2_rcp45_r1i1p1_na10kgrid_qm-moving-50bins-detrend_1955.nc',\n",
       " '/scen3/scenario/netcdf/ouranos/cb-oura-1.0/tasmax_day_CanESM2_rcp45_r1i1p1_na10kgrid_qm-moving-50bins-detrend_1956.nc',\n",
       " '/scen3/scenario/netcdf/ouranos/cb-oura-1.0/tasmax_day_CanESM2_rcp45_r1i1p1_na10kgrid_qm-moving-50bins-detrend_1957.nc',\n",
       " '/scen3/scenario/netcdf/ouranos/cb-oura-1.0/tasmax_day_CanESM2_rcp45_r1i1p1_na10kgrid_qm-moving-50bins-detrend_1958.nc',\n",
       " '/scen3/scenario/netcdf/ouranos/cb-oura-1.0/tasmax_day_CanESM2_rcp45_r1i1p1_na10kgrid_qm-moving-50bins-detrend_1959.nc',\n",
       " '/scen3/scenario/netcdf/ouranos/cb-oura-1.0/tasmax_day_CanESM2_rcp45_r1i1p1_na10kgrid_qm-moving-50bins-detrend_1960.nc',\n",
       " '/scen3/scenario/netcdf/ouranos/cb-oura-1.0/tasmax_day_CanESM2_rcp45_r1i1p1_na10kgrid_qm-moving-50bins-detrend_1961.nc',\n",
       " '/scen3/scenario/netcdf/ouranos/cb-oura-1.0/tasmax_day_CanESM2_rcp45_r1i1p1_na10kgrid_qm-moving-50bins-detrend_1962.nc',\n",
       " '/scen3/scenario/netcdf/ouranos/cb-oura-1.0/tasmax_day_CanESM2_rcp45_r1i1p1_na10kgrid_qm-moving-50bins-detrend_1963.nc',\n",
       " '/scen3/scenario/netcdf/ouranos/cb-oura-1.0/tasmax_day_CanESM2_rcp45_r1i1p1_na10kgrid_qm-moving-50bins-detrend_1964.nc',\n",
       " '/scen3/scenario/netcdf/ouranos/cb-oura-1.0/tasmax_day_CanESM2_rcp45_r1i1p1_na10kgrid_qm-moving-50bins-detrend_1965.nc',\n",
       " '/scen3/scenario/netcdf/ouranos/cb-oura-1.0/tasmax_day_CanESM2_rcp45_r1i1p1_na10kgrid_qm-moving-50bins-detrend_1966.nc',\n",
       " '/scen3/scenario/netcdf/ouranos/cb-oura-1.0/tasmax_day_CanESM2_rcp45_r1i1p1_na10kgrid_qm-moving-50bins-detrend_1967.nc',\n",
       " '/scen3/scenario/netcdf/ouranos/cb-oura-1.0/tasmax_day_CanESM2_rcp45_r1i1p1_na10kgrid_qm-moving-50bins-detrend_1968.nc',\n",
       " '/scen3/scenario/netcdf/ouranos/cb-oura-1.0/tasmax_day_CanESM2_rcp45_r1i1p1_na10kgrid_qm-moving-50bins-detrend_1969.nc',\n",
       " '/scen3/scenario/netcdf/ouranos/cb-oura-1.0/tasmax_day_CanESM2_rcp45_r1i1p1_na10kgrid_qm-moving-50bins-detrend_1970.nc',\n",
       " '/scen3/scenario/netcdf/ouranos/cb-oura-1.0/tasmax_day_CanESM2_rcp45_r1i1p1_na10kgrid_qm-moving-50bins-detrend_1971.nc',\n",
       " '/scen3/scenario/netcdf/ouranos/cb-oura-1.0/tasmax_day_CanESM2_rcp45_r1i1p1_na10kgrid_qm-moving-50bins-detrend_1972.nc',\n",
       " '/scen3/scenario/netcdf/ouranos/cb-oura-1.0/tasmax_day_CanESM2_rcp45_r1i1p1_na10kgrid_qm-moving-50bins-detrend_1973.nc',\n",
       " '/scen3/scenario/netcdf/ouranos/cb-oura-1.0/tasmax_day_CanESM2_rcp45_r1i1p1_na10kgrid_qm-moving-50bins-detrend_1974.nc',\n",
       " '/scen3/scenario/netcdf/ouranos/cb-oura-1.0/tasmax_day_CanESM2_rcp45_r1i1p1_na10kgrid_qm-moving-50bins-detrend_1975.nc',\n",
       " '/scen3/scenario/netcdf/ouranos/cb-oura-1.0/tasmax_day_CanESM2_rcp45_r1i1p1_na10kgrid_qm-moving-50bins-detrend_1976.nc',\n",
       " '/scen3/scenario/netcdf/ouranos/cb-oura-1.0/tasmax_day_CanESM2_rcp45_r1i1p1_na10kgrid_qm-moving-50bins-detrend_1977.nc',\n",
       " '/scen3/scenario/netcdf/ouranos/cb-oura-1.0/tasmax_day_CanESM2_rcp45_r1i1p1_na10kgrid_qm-moving-50bins-detrend_1978.nc',\n",
       " '/scen3/scenario/netcdf/ouranos/cb-oura-1.0/tasmax_day_CanESM2_rcp45_r1i1p1_na10kgrid_qm-moving-50bins-detrend_1979.nc',\n",
       " '/scen3/scenario/netcdf/ouranos/cb-oura-1.0/tasmax_day_CanESM2_rcp45_r1i1p1_na10kgrid_qm-moving-50bins-detrend_1980.nc',\n",
       " '/scen3/scenario/netcdf/ouranos/cb-oura-1.0/tasmax_day_CanESM2_rcp45_r1i1p1_na10kgrid_qm-moving-50bins-detrend_1981.nc',\n",
       " '/scen3/scenario/netcdf/ouranos/cb-oura-1.0/tasmax_day_CanESM2_rcp45_r1i1p1_na10kgrid_qm-moving-50bins-detrend_1982.nc',\n",
       " '/scen3/scenario/netcdf/ouranos/cb-oura-1.0/tasmax_day_CanESM2_rcp45_r1i1p1_na10kgrid_qm-moving-50bins-detrend_1983.nc',\n",
       " '/scen3/scenario/netcdf/ouranos/cb-oura-1.0/tasmax_day_CanESM2_rcp45_r1i1p1_na10kgrid_qm-moving-50bins-detrend_1984.nc',\n",
       " '/scen3/scenario/netcdf/ouranos/cb-oura-1.0/tasmax_day_CanESM2_rcp45_r1i1p1_na10kgrid_qm-moving-50bins-detrend_1985.nc',\n",
       " '/scen3/scenario/netcdf/ouranos/cb-oura-1.0/tasmax_day_CanESM2_rcp45_r1i1p1_na10kgrid_qm-moving-50bins-detrend_1986.nc',\n",
       " '/scen3/scenario/netcdf/ouranos/cb-oura-1.0/tasmax_day_CanESM2_rcp45_r1i1p1_na10kgrid_qm-moving-50bins-detrend_1987.nc',\n",
       " '/scen3/scenario/netcdf/ouranos/cb-oura-1.0/tasmax_day_CanESM2_rcp45_r1i1p1_na10kgrid_qm-moving-50bins-detrend_1988.nc',\n",
       " '/scen3/scenario/netcdf/ouranos/cb-oura-1.0/tasmax_day_CanESM2_rcp45_r1i1p1_na10kgrid_qm-moving-50bins-detrend_1989.nc',\n",
       " '/scen3/scenario/netcdf/ouranos/cb-oura-1.0/tasmax_day_CanESM2_rcp45_r1i1p1_na10kgrid_qm-moving-50bins-detrend_1990.nc',\n",
       " '/scen3/scenario/netcdf/ouranos/cb-oura-1.0/tasmax_day_CanESM2_rcp45_r1i1p1_na10kgrid_qm-moving-50bins-detrend_1991.nc',\n",
       " '/scen3/scenario/netcdf/ouranos/cb-oura-1.0/tasmax_day_CanESM2_rcp45_r1i1p1_na10kgrid_qm-moving-50bins-detrend_1992.nc',\n",
       " '/scen3/scenario/netcdf/ouranos/cb-oura-1.0/tasmax_day_CanESM2_rcp45_r1i1p1_na10kgrid_qm-moving-50bins-detrend_1993.nc',\n",
       " '/scen3/scenario/netcdf/ouranos/cb-oura-1.0/tasmax_day_CanESM2_rcp45_r1i1p1_na10kgrid_qm-moving-50bins-detrend_1994.nc',\n",
       " '/scen3/scenario/netcdf/ouranos/cb-oura-1.0/tasmax_day_CanESM2_rcp45_r1i1p1_na10kgrid_qm-moving-50bins-detrend_1995.nc',\n",
       " '/scen3/scenario/netcdf/ouranos/cb-oura-1.0/tasmax_day_CanESM2_rcp45_r1i1p1_na10kgrid_qm-moving-50bins-detrend_1996.nc',\n",
       " '/scen3/scenario/netcdf/ouranos/cb-oura-1.0/tasmax_day_CanESM2_rcp45_r1i1p1_na10kgrid_qm-moving-50bins-detrend_1997.nc',\n",
       " '/scen3/scenario/netcdf/ouranos/cb-oura-1.0/tasmax_day_CanESM2_rcp45_r1i1p1_na10kgrid_qm-moving-50bins-detrend_1998.nc',\n",
       " '/scen3/scenario/netcdf/ouranos/cb-oura-1.0/tasmax_day_CanESM2_rcp45_r1i1p1_na10kgrid_qm-moving-50bins-detrend_1999.nc',\n",
       " '/scen3/scenario/netcdf/ouranos/cb-oura-1.0/tasmax_day_CanESM2_rcp45_r1i1p1_na10kgrid_qm-moving-50bins-detrend_2000.nc',\n",
       " '/scen3/scenario/netcdf/ouranos/cb-oura-1.0/tasmax_day_CanESM2_rcp45_r1i1p1_na10kgrid_qm-moving-50bins-detrend_2001.nc',\n",
       " '/scen3/scenario/netcdf/ouranos/cb-oura-1.0/tasmax_day_CanESM2_rcp45_r1i1p1_na10kgrid_qm-moving-50bins-detrend_2002.nc',\n",
       " '/scen3/scenario/netcdf/ouranos/cb-oura-1.0/tasmax_day_CanESM2_rcp45_r1i1p1_na10kgrid_qm-moving-50bins-detrend_2003.nc',\n",
       " '/scen3/scenario/netcdf/ouranos/cb-oura-1.0/tasmax_day_CanESM2_rcp45_r1i1p1_na10kgrid_qm-moving-50bins-detrend_2004.nc',\n",
       " '/scen3/scenario/netcdf/ouranos/cb-oura-1.0/tasmax_day_CanESM2_rcp45_r1i1p1_na10kgrid_qm-moving-50bins-detrend_2005.nc',\n",
       " '/scen3/scenario/netcdf/ouranos/cb-oura-1.0/tasmax_day_CanESM2_rcp45_r1i1p1_na10kgrid_qm-moving-50bins-detrend_2006.nc',\n",
       " '/scen3/scenario/netcdf/ouranos/cb-oura-1.0/tasmax_day_CanESM2_rcp45_r1i1p1_na10kgrid_qm-moving-50bins-detrend_2007.nc',\n",
       " '/scen3/scenario/netcdf/ouranos/cb-oura-1.0/tasmax_day_CanESM2_rcp45_r1i1p1_na10kgrid_qm-moving-50bins-detrend_2008.nc',\n",
       " '/scen3/scenario/netcdf/ouranos/cb-oura-1.0/tasmax_day_CanESM2_rcp45_r1i1p1_na10kgrid_qm-moving-50bins-detrend_2009.nc',\n",
       " '/scen3/scenario/netcdf/ouranos/cb-oura-1.0/tasmax_day_CanESM2_rcp45_r1i1p1_na10kgrid_qm-moving-50bins-detrend_2010.nc',\n",
       " '/scen3/scenario/netcdf/ouranos/cb-oura-1.0/tasmax_day_CanESM2_rcp45_r1i1p1_na10kgrid_qm-moving-50bins-detrend_2011.nc',\n",
       " '/scen3/scenario/netcdf/ouranos/cb-oura-1.0/tasmax_day_CanESM2_rcp45_r1i1p1_na10kgrid_qm-moving-50bins-detrend_2012.nc',\n",
       " '/scen3/scenario/netcdf/ouranos/cb-oura-1.0/tasmax_day_CanESM2_rcp45_r1i1p1_na10kgrid_qm-moving-50bins-detrend_2013.nc',\n",
       " '/scen3/scenario/netcdf/ouranos/cb-oura-1.0/tasmax_day_CanESM2_rcp45_r1i1p1_na10kgrid_qm-moving-50bins-detrend_2014.nc',\n",
       " '/scen3/scenario/netcdf/ouranos/cb-oura-1.0/tasmax_day_CanESM2_rcp45_r1i1p1_na10kgrid_qm-moving-50bins-detrend_2015.nc',\n",
       " '/scen3/scenario/netcdf/ouranos/cb-oura-1.0/tasmax_day_CanESM2_rcp45_r1i1p1_na10kgrid_qm-moving-50bins-detrend_2016.nc',\n",
       " '/scen3/scenario/netcdf/ouranos/cb-oura-1.0/tasmax_day_CanESM2_rcp45_r1i1p1_na10kgrid_qm-moving-50bins-detrend_2017.nc',\n",
       " '/scen3/scenario/netcdf/ouranos/cb-oura-1.0/tasmax_day_CanESM2_rcp45_r1i1p1_na10kgrid_qm-moving-50bins-detrend_2018.nc',\n",
       " '/scen3/scenario/netcdf/ouranos/cb-oura-1.0/tasmax_day_CanESM2_rcp45_r1i1p1_na10kgrid_qm-moving-50bins-detrend_2019.nc',\n",
       " '/scen3/scenario/netcdf/ouranos/cb-oura-1.0/tasmax_day_CanESM2_rcp45_r1i1p1_na10kgrid_qm-moving-50bins-detrend_2020.nc',\n",
       " '/scen3/scenario/netcdf/ouranos/cb-oura-1.0/tasmax_day_CanESM2_rcp45_r1i1p1_na10kgrid_qm-moving-50bins-detrend_2021.nc',\n",
       " '/scen3/scenario/netcdf/ouranos/cb-oura-1.0/tasmax_day_CanESM2_rcp45_r1i1p1_na10kgrid_qm-moving-50bins-detrend_2022.nc',\n",
       " '/scen3/scenario/netcdf/ouranos/cb-oura-1.0/tasmax_day_CanESM2_rcp45_r1i1p1_na10kgrid_qm-moving-50bins-detrend_2023.nc',\n",
       " '/scen3/scenario/netcdf/ouranos/cb-oura-1.0/tasmax_day_CanESM2_rcp45_r1i1p1_na10kgrid_qm-moving-50bins-detrend_2024.nc',\n",
       " '/scen3/scenario/netcdf/ouranos/cb-oura-1.0/tasmax_day_CanESM2_rcp45_r1i1p1_na10kgrid_qm-moving-50bins-detrend_2025.nc',\n",
       " '/scen3/scenario/netcdf/ouranos/cb-oura-1.0/tasmax_day_CanESM2_rcp45_r1i1p1_na10kgrid_qm-moving-50bins-detrend_2026.nc',\n",
       " '/scen3/scenario/netcdf/ouranos/cb-oura-1.0/tasmax_day_CanESM2_rcp45_r1i1p1_na10kgrid_qm-moving-50bins-detrend_2027.nc',\n",
       " '/scen3/scenario/netcdf/ouranos/cb-oura-1.0/tasmax_day_CanESM2_rcp45_r1i1p1_na10kgrid_qm-moving-50bins-detrend_2028.nc',\n",
       " '/scen3/scenario/netcdf/ouranos/cb-oura-1.0/tasmax_day_CanESM2_rcp45_r1i1p1_na10kgrid_qm-moving-50bins-detrend_2029.nc',\n",
       " '/scen3/scenario/netcdf/ouranos/cb-oura-1.0/tasmax_day_CanESM2_rcp45_r1i1p1_na10kgrid_qm-moving-50bins-detrend_2030.nc',\n",
       " '/scen3/scenario/netcdf/ouranos/cb-oura-1.0/tasmax_day_CanESM2_rcp45_r1i1p1_na10kgrid_qm-moving-50bins-detrend_2031.nc',\n",
       " '/scen3/scenario/netcdf/ouranos/cb-oura-1.0/tasmax_day_CanESM2_rcp45_r1i1p1_na10kgrid_qm-moving-50bins-detrend_2032.nc',\n",
       " '/scen3/scenario/netcdf/ouranos/cb-oura-1.0/tasmax_day_CanESM2_rcp45_r1i1p1_na10kgrid_qm-moving-50bins-detrend_2033.nc',\n",
       " '/scen3/scenario/netcdf/ouranos/cb-oura-1.0/tasmax_day_CanESM2_rcp45_r1i1p1_na10kgrid_qm-moving-50bins-detrend_2034.nc',\n",
       " '/scen3/scenario/netcdf/ouranos/cb-oura-1.0/tasmax_day_CanESM2_rcp45_r1i1p1_na10kgrid_qm-moving-50bins-detrend_2035.nc',\n",
       " '/scen3/scenario/netcdf/ouranos/cb-oura-1.0/tasmax_day_CanESM2_rcp45_r1i1p1_na10kgrid_qm-moving-50bins-detrend_2036.nc',\n",
       " '/scen3/scenario/netcdf/ouranos/cb-oura-1.0/tasmax_day_CanESM2_rcp45_r1i1p1_na10kgrid_qm-moving-50bins-detrend_2037.nc',\n",
       " '/scen3/scenario/netcdf/ouranos/cb-oura-1.0/tasmax_day_CanESM2_rcp45_r1i1p1_na10kgrid_qm-moving-50bins-detrend_2038.nc',\n",
       " '/scen3/scenario/netcdf/ouranos/cb-oura-1.0/tasmax_day_CanESM2_rcp45_r1i1p1_na10kgrid_qm-moving-50bins-detrend_2039.nc',\n",
       " '/scen3/scenario/netcdf/ouranos/cb-oura-1.0/tasmax_day_CanESM2_rcp45_r1i1p1_na10kgrid_qm-moving-50bins-detrend_2040.nc',\n",
       " '/scen3/scenario/netcdf/ouranos/cb-oura-1.0/tasmax_day_CanESM2_rcp45_r1i1p1_na10kgrid_qm-moving-50bins-detrend_2041.nc',\n",
       " '/scen3/scenario/netcdf/ouranos/cb-oura-1.0/tasmax_day_CanESM2_rcp45_r1i1p1_na10kgrid_qm-moving-50bins-detrend_2042.nc',\n",
       " '/scen3/scenario/netcdf/ouranos/cb-oura-1.0/tasmax_day_CanESM2_rcp45_r1i1p1_na10kgrid_qm-moving-50bins-detrend_2043.nc',\n",
       " '/scen3/scenario/netcdf/ouranos/cb-oura-1.0/tasmax_day_CanESM2_rcp45_r1i1p1_na10kgrid_qm-moving-50bins-detrend_2044.nc',\n",
       " '/scen3/scenario/netcdf/ouranos/cb-oura-1.0/tasmax_day_CanESM2_rcp45_r1i1p1_na10kgrid_qm-moving-50bins-detrend_2045.nc',\n",
       " '/scen3/scenario/netcdf/ouranos/cb-oura-1.0/tasmax_day_CanESM2_rcp45_r1i1p1_na10kgrid_qm-moving-50bins-detrend_2046.nc',\n",
       " '/scen3/scenario/netcdf/ouranos/cb-oura-1.0/tasmax_day_CanESM2_rcp45_r1i1p1_na10kgrid_qm-moving-50bins-detrend_2047.nc',\n",
       " '/scen3/scenario/netcdf/ouranos/cb-oura-1.0/tasmax_day_CanESM2_rcp45_r1i1p1_na10kgrid_qm-moving-50bins-detrend_2048.nc',\n",
       " '/scen3/scenario/netcdf/ouranos/cb-oura-1.0/tasmax_day_CanESM2_rcp45_r1i1p1_na10kgrid_qm-moving-50bins-detrend_2049.nc',\n",
       " '/scen3/scenario/netcdf/ouranos/cb-oura-1.0/tasmax_day_CanESM2_rcp45_r1i1p1_na10kgrid_qm-moving-50bins-detrend_2050.nc',\n",
       " '/scen3/scenario/netcdf/ouranos/cb-oura-1.0/tasmax_day_CanESM2_rcp45_r1i1p1_na10kgrid_qm-moving-50bins-detrend_2051.nc',\n",
       " '/scen3/scenario/netcdf/ouranos/cb-oura-1.0/tasmax_day_CanESM2_rcp45_r1i1p1_na10kgrid_qm-moving-50bins-detrend_2052.nc',\n",
       " '/scen3/scenario/netcdf/ouranos/cb-oura-1.0/tasmax_day_CanESM2_rcp45_r1i1p1_na10kgrid_qm-moving-50bins-detrend_2053.nc',\n",
       " '/scen3/scenario/netcdf/ouranos/cb-oura-1.0/tasmax_day_CanESM2_rcp45_r1i1p1_na10kgrid_qm-moving-50bins-detrend_2054.nc',\n",
       " '/scen3/scenario/netcdf/ouranos/cb-oura-1.0/tasmax_day_CanESM2_rcp45_r1i1p1_na10kgrid_qm-moving-50bins-detrend_2055.nc',\n",
       " '/scen3/scenario/netcdf/ouranos/cb-oura-1.0/tasmax_day_CanESM2_rcp45_r1i1p1_na10kgrid_qm-moving-50bins-detrend_2056.nc',\n",
       " '/scen3/scenario/netcdf/ouranos/cb-oura-1.0/tasmax_day_CanESM2_rcp45_r1i1p1_na10kgrid_qm-moving-50bins-detrend_2057.nc',\n",
       " '/scen3/scenario/netcdf/ouranos/cb-oura-1.0/tasmax_day_CanESM2_rcp45_r1i1p1_na10kgrid_qm-moving-50bins-detrend_2058.nc',\n",
       " '/scen3/scenario/netcdf/ouranos/cb-oura-1.0/tasmax_day_CanESM2_rcp45_r1i1p1_na10kgrid_qm-moving-50bins-detrend_2059.nc',\n",
       " '/scen3/scenario/netcdf/ouranos/cb-oura-1.0/tasmax_day_CanESM2_rcp45_r1i1p1_na10kgrid_qm-moving-50bins-detrend_2060.nc',\n",
       " '/scen3/scenario/netcdf/ouranos/cb-oura-1.0/tasmax_day_CanESM2_rcp45_r1i1p1_na10kgrid_qm-moving-50bins-detrend_2061.nc',\n",
       " '/scen3/scenario/netcdf/ouranos/cb-oura-1.0/tasmax_day_CanESM2_rcp45_r1i1p1_na10kgrid_qm-moving-50bins-detrend_2062.nc',\n",
       " '/scen3/scenario/netcdf/ouranos/cb-oura-1.0/tasmax_day_CanESM2_rcp45_r1i1p1_na10kgrid_qm-moving-50bins-detrend_2063.nc',\n",
       " '/scen3/scenario/netcdf/ouranos/cb-oura-1.0/tasmax_day_CanESM2_rcp45_r1i1p1_na10kgrid_qm-moving-50bins-detrend_2064.nc',\n",
       " '/scen3/scenario/netcdf/ouranos/cb-oura-1.0/tasmax_day_CanESM2_rcp45_r1i1p1_na10kgrid_qm-moving-50bins-detrend_2065.nc',\n",
       " '/scen3/scenario/netcdf/ouranos/cb-oura-1.0/tasmax_day_CanESM2_rcp45_r1i1p1_na10kgrid_qm-moving-50bins-detrend_2066.nc',\n",
       " '/scen3/scenario/netcdf/ouranos/cb-oura-1.0/tasmax_day_CanESM2_rcp45_r1i1p1_na10kgrid_qm-moving-50bins-detrend_2067.nc',\n",
       " '/scen3/scenario/netcdf/ouranos/cb-oura-1.0/tasmax_day_CanESM2_rcp45_r1i1p1_na10kgrid_qm-moving-50bins-detrend_2068.nc',\n",
       " '/scen3/scenario/netcdf/ouranos/cb-oura-1.0/tasmax_day_CanESM2_rcp45_r1i1p1_na10kgrid_qm-moving-50bins-detrend_2069.nc',\n",
       " '/scen3/scenario/netcdf/ouranos/cb-oura-1.0/tasmax_day_CanESM2_rcp45_r1i1p1_na10kgrid_qm-moving-50bins-detrend_2070.nc',\n",
       " '/scen3/scenario/netcdf/ouranos/cb-oura-1.0/tasmax_day_CanESM2_rcp45_r1i1p1_na10kgrid_qm-moving-50bins-detrend_2071.nc',\n",
       " '/scen3/scenario/netcdf/ouranos/cb-oura-1.0/tasmax_day_CanESM2_rcp45_r1i1p1_na10kgrid_qm-moving-50bins-detrend_2072.nc',\n",
       " '/scen3/scenario/netcdf/ouranos/cb-oura-1.0/tasmax_day_CanESM2_rcp45_r1i1p1_na10kgrid_qm-moving-50bins-detrend_2073.nc',\n",
       " '/scen3/scenario/netcdf/ouranos/cb-oura-1.0/tasmax_day_CanESM2_rcp45_r1i1p1_na10kgrid_qm-moving-50bins-detrend_2074.nc',\n",
       " '/scen3/scenario/netcdf/ouranos/cb-oura-1.0/tasmax_day_CanESM2_rcp45_r1i1p1_na10kgrid_qm-moving-50bins-detrend_2075.nc',\n",
       " '/scen3/scenario/netcdf/ouranos/cb-oura-1.0/tasmax_day_CanESM2_rcp45_r1i1p1_na10kgrid_qm-moving-50bins-detrend_2076.nc',\n",
       " '/scen3/scenario/netcdf/ouranos/cb-oura-1.0/tasmax_day_CanESM2_rcp45_r1i1p1_na10kgrid_qm-moving-50bins-detrend_2077.nc',\n",
       " '/scen3/scenario/netcdf/ouranos/cb-oura-1.0/tasmax_day_CanESM2_rcp45_r1i1p1_na10kgrid_qm-moving-50bins-detrend_2078.nc',\n",
       " '/scen3/scenario/netcdf/ouranos/cb-oura-1.0/tasmax_day_CanESM2_rcp45_r1i1p1_na10kgrid_qm-moving-50bins-detrend_2079.nc',\n",
       " '/scen3/scenario/netcdf/ouranos/cb-oura-1.0/tasmax_day_CanESM2_rcp45_r1i1p1_na10kgrid_qm-moving-50bins-detrend_2080.nc',\n",
       " '/scen3/scenario/netcdf/ouranos/cb-oura-1.0/tasmax_day_CanESM2_rcp45_r1i1p1_na10kgrid_qm-moving-50bins-detrend_2081.nc',\n",
       " '/scen3/scenario/netcdf/ouranos/cb-oura-1.0/tasmax_day_CanESM2_rcp45_r1i1p1_na10kgrid_qm-moving-50bins-detrend_2082.nc',\n",
       " '/scen3/scenario/netcdf/ouranos/cb-oura-1.0/tasmax_day_CanESM2_rcp45_r1i1p1_na10kgrid_qm-moving-50bins-detrend_2083.nc',\n",
       " '/scen3/scenario/netcdf/ouranos/cb-oura-1.0/tasmax_day_CanESM2_rcp45_r1i1p1_na10kgrid_qm-moving-50bins-detrend_2084.nc',\n",
       " '/scen3/scenario/netcdf/ouranos/cb-oura-1.0/tasmax_day_CanESM2_rcp45_r1i1p1_na10kgrid_qm-moving-50bins-detrend_2085.nc',\n",
       " '/scen3/scenario/netcdf/ouranos/cb-oura-1.0/tasmax_day_CanESM2_rcp45_r1i1p1_na10kgrid_qm-moving-50bins-detrend_2086.nc',\n",
       " '/scen3/scenario/netcdf/ouranos/cb-oura-1.0/tasmax_day_CanESM2_rcp45_r1i1p1_na10kgrid_qm-moving-50bins-detrend_2087.nc',\n",
       " '/scen3/scenario/netcdf/ouranos/cb-oura-1.0/tasmax_day_CanESM2_rcp45_r1i1p1_na10kgrid_qm-moving-50bins-detrend_2088.nc',\n",
       " '/scen3/scenario/netcdf/ouranos/cb-oura-1.0/tasmax_day_CanESM2_rcp45_r1i1p1_na10kgrid_qm-moving-50bins-detrend_2089.nc',\n",
       " '/scen3/scenario/netcdf/ouranos/cb-oura-1.0/tasmax_day_CanESM2_rcp45_r1i1p1_na10kgrid_qm-moving-50bins-detrend_2090.nc',\n",
       " '/scen3/scenario/netcdf/ouranos/cb-oura-1.0/tasmax_day_CanESM2_rcp45_r1i1p1_na10kgrid_qm-moving-50bins-detrend_2091.nc',\n",
       " '/scen3/scenario/netcdf/ouranos/cb-oura-1.0/tasmax_day_CanESM2_rcp45_r1i1p1_na10kgrid_qm-moving-50bins-detrend_2092.nc',\n",
       " '/scen3/scenario/netcdf/ouranos/cb-oura-1.0/tasmax_day_CanESM2_rcp45_r1i1p1_na10kgrid_qm-moving-50bins-detrend_2093.nc',\n",
       " '/scen3/scenario/netcdf/ouranos/cb-oura-1.0/tasmax_day_CanESM2_rcp45_r1i1p1_na10kgrid_qm-moving-50bins-detrend_2094.nc',\n",
       " '/scen3/scenario/netcdf/ouranos/cb-oura-1.0/tasmax_day_CanESM2_rcp45_r1i1p1_na10kgrid_qm-moving-50bins-detrend_2095.nc',\n",
       " '/scen3/scenario/netcdf/ouranos/cb-oura-1.0/tasmax_day_CanESM2_rcp45_r1i1p1_na10kgrid_qm-moving-50bins-detrend_2096.nc',\n",
       " '/scen3/scenario/netcdf/ouranos/cb-oura-1.0/tasmax_day_CanESM2_rcp45_r1i1p1_na10kgrid_qm-moving-50bins-detrend_2097.nc',\n",
       " '/scen3/scenario/netcdf/ouranos/cb-oura-1.0/tasmax_day_CanESM2_rcp45_r1i1p1_na10kgrid_qm-moving-50bins-detrend_2098.nc',\n",
       " '/scen3/scenario/netcdf/ouranos/cb-oura-1.0/tasmax_day_CanESM2_rcp45_r1i1p1_na10kgrid_qm-moving-50bins-detrend_2099.nc',\n",
       " '/scen3/scenario/netcdf/ouranos/cb-oura-1.0/tasmax_day_CanESM2_rcp45_r1i1p1_na10kgrid_qm-moving-50bins-detrend_2100.nc']"
      ]
     },
     "execution_count": 11,
     "metadata": {},
     "output_type": "execute_result"
    }
   ],
   "source": [
    "sim_files"
   ]
  },
  {
   "cell_type": "code",
   "execution_count": 12,
   "metadata": {},
   "outputs": [
    {
     "name": "stdout",
     "output_type": "stream",
     "text": [
      "<xarray.Dataset>\n",
      "Dimensions:  (lat: 700, lon: 1064, time: 55115)\n",
      "Coordinates:\n",
      "  * lat      (lat) float32 83.28931 83.20598 83.12265 ... 25.12497 25.04164\n",
      "  * lon      (lon) float32 -141.04314 -140.9598 ... -52.54667 -52.46334\n",
      "  * time     (time) object 1950-01-01 00:00:00 ... 2100-12-31 00:00:00\n",
      "Data variables:\n",
      "    tasmax   (time, lat, lon) float32 dask.array<shape=(55115, 700, 1064), chunksize=(365, 100, 112)>\n",
      "Attributes:\n",
      "    Conventions:     CF-1.5\n",
      "    title:           CanESM2 model output prepared for CMIP5 historical\n",
      "    history:         2011-04-14T00:21:01Z CMOR rewrote data to comply with CF...\n",
      "    institution:     CCCma (Canadian Centre for Climate Modelling and Analysi...\n",
      "    source:          CanESM2 2010 atmosphere: CanAM4 (AGCM15i, T63L35) ocean:...\n",
      "    redistribution:  Redistribution prohibited. For internal use only.\n"
     ]
    }
   ],
   "source": [
    "# create multifile data & chunks \n",
    "ds = xr.open_mfdataset(sim_files, chunks={'time':365, 'lat':50*2, 'lon':56*2})\n",
    "ds = ds.drop('time_vectors')\n",
    "ds = ds.drop('ts')\n",
    "print(ds)"
   ]
  },
  {
   "cell_type": "markdown",
   "metadata": {},
   "source": [
    "## 5. Subsetting utilities\n",
    "### Using latitude longitude bounds"
   ]
  },
  {
   "cell_type": "code",
   "execution_count": 13,
   "metadata": {},
   "outputs": [
    {
     "name": "stdout",
     "output_type": "stream",
     "text": [
      "<xarray.Dataset>\n",
      "Dimensions:  (lat: 180, lon: 324, time: 55115)\n",
      "Coordinates:\n",
      "  * lat      (lat) float64 59.96 59.87 59.79 59.71 ... 45.29 45.21 45.12 45.04\n",
      "  * lon      (lon) float64 -81.96 -81.88 -81.8 -81.71 ... -55.21 -55.13 -55.05\n",
      "  * time     (time) object 1950-01-01 00:00:00 ... 2100-12-31 00:00:00\n",
      "Data variables:\n",
      "    tasmax   (time, lat, lon) float32 dask.array<shape=(55115, 180, 324), chunksize=(365, 20, 75)>\n",
      "Attributes:\n",
      "    Conventions:     CF-1.5\n",
      "    title:           CanESM2 model output prepared for CMIP5 historical\n",
      "    history:         2011-04-14T00:21:01Z CMOR rewrote data to comply with CF...\n",
      "    institution:     CCCma (Canadian Centre for Climate Modelling and Analysi...\n",
      "    source:          CanESM2 2010 atmosphere: CanAM4 (AGCM15i, T63L35) ocean:...\n",
      "    redistribution:  Redistribution prohibited. For internal use only.\n"
     ]
    }
   ],
   "source": [
    "from xclim import subset\n",
    "lat_bnds = [45, 60]\n",
    "lon_bnds = [-55, -82]\n",
    "\n",
    "ds1 = subset.subset_bbox(ds,lat_bnds=lat_bnds,lon_bnds=lon_bnds)\n",
    "print(ds1)"
   ]
  },
  {
   "cell_type": "markdown",
   "metadata": {},
   "source": [
    "### Add start and/or end years "
   ]
  },
  {
   "cell_type": "code",
   "execution_count": 14,
   "metadata": {},
   "outputs": [
    {
     "name": "stdout",
     "output_type": "stream",
     "text": [
      "<xarray.Dataset>\n",
      "Dimensions:  (lat: 180, lon: 324, time: 10950)\n",
      "Coordinates:\n",
      "  * lat      (lat) float64 59.96 59.87 59.79 59.71 ... 45.29 45.21 45.12 45.04\n",
      "  * lon      (lon) float64 -81.96 -81.88 -81.8 -81.71 ... -55.21 -55.13 -55.05\n",
      "  * time     (time) object 1981-01-01 00:00:00 ... 2010-12-31 00:00:00\n",
      "Data variables:\n",
      "    tasmax   (time, lat, lon) float32 dask.array<shape=(10950, 180, 324), chunksize=(365, 20, 75)>\n",
      "Attributes:\n",
      "    Conventions:     CF-1.5\n",
      "    title:           CanESM2 model output prepared for CMIP5 historical\n",
      "    history:         2011-04-14T00:21:01Z CMOR rewrote data to comply with CF...\n",
      "    institution:     CCCma (Canadian Centre for Climate Modelling and Analysi...\n",
      "    source:          CanESM2 2010 atmosphere: CanAM4 (AGCM15i, T63L35) ocean:...\n",
      "    redistribution:  Redistribution prohibited. For internal use only.\n",
      " \n",
      "<xarray.Dataset>\n",
      "Dimensions:  (lat: 700, lon: 1064, time: 10950)\n",
      "Coordinates:\n",
      "  * lat      (lat) float64 83.29 83.21 83.12 83.04 ... 25.29 25.21 25.12 25.04\n",
      "  * lon      (lon) float64 -141.0 -141.0 -140.9 -140.8 ... -52.63 -52.55 -52.46\n",
      "  * time     (time) object 1981-01-01 00:00:00 ... 2010-12-31 00:00:00\n",
      "Data variables:\n",
      "    tasmax   (time, lat, lon) float32 dask.array<shape=(10950, 700, 1064), chunksize=(365, 100, 112)>\n",
      "Attributes:\n",
      "    Conventions:     CF-1.5\n",
      "    title:           CanESM2 model output prepared for CMIP5 historical\n",
      "    history:         2011-04-14T00:21:01Z CMOR rewrote data to comply with CF...\n",
      "    institution:     CCCma (Canadian Centre for Climate Modelling and Analysi...\n",
      "    source:          CanESM2 2010 atmosphere: CanAM4 (AGCM15i, T63L35) ocean:...\n",
      "    redistribution:  Redistribution prohibited. For internal use only.\n"
     ]
    }
   ],
   "source": [
    "ds2 = subset.subset_bbox(ds,lat_bnds=lat_bnds,lon_bnds=lon_bnds, start_yr=1981, end_yr=2010)\n",
    "print(ds2)\n",
    "print(' ')\n",
    "\n",
    "# subset years only\n",
    "ds2 = subset.subset_bbox(ds, start_yr=1981, end_yr=2010)\n",
    "print(ds2)"
   ]
  },
  {
   "cell_type": "markdown",
   "metadata": {},
   "source": [
    "### Select a single grid point "
   ]
  },
  {
   "cell_type": "code",
   "execution_count": 15,
   "metadata": {},
   "outputs": [
    {
     "name": "stdout",
     "output_type": "stream",
     "text": [
      "<xarray.Dataset>\n",
      "Dimensions:  (time: 43800)\n",
      "Coordinates:\n",
      "    lat      float32 50.04064\n",
      "    lon      float32 -69.96264\n",
      "  * time     (time) object 1981-01-01 00:00:00 ... 2100-12-31 00:00:00\n",
      "Data variables:\n",
      "    tasmax   (time) float32 dask.array<shape=(43800,), chunksize=(365,)>\n",
      "Attributes:\n",
      "    Conventions:     CF-1.5\n",
      "    title:           CanESM2 model output prepared for CMIP5 historical\n",
      "    history:         2011-04-14T00:21:01Z CMOR rewrote data to comply with CF...\n",
      "    institution:     CCCma (Canadian Centre for Climate Modelling and Analysi...\n",
      "    source:          CanESM2 2010 atmosphere: CanAM4 (AGCM15i, T63L35) ocean:...\n",
      "    redistribution:  Redistribution prohibited. For internal use only.\n"
     ]
    }
   ],
   "source": [
    "lon_pt = -70.0\n",
    "lat_pt = 50.0\n",
    "\n",
    "ds3 = subset.subset_gridpoint(ds,lon=lon_pt,lat=lat_pt, start_yr=1981)\n",
    "print(ds3)"
   ]
  },
  {
   "cell_type": "markdown",
   "metadata": {},
   "source": [
    "## 6. Climate index calculation & Resampling frequencies\n",
    "http://pandas.pydata.org/pandas-docs/stable/user_guide/timeseries.html#timeseries-offset-aliases\n",
    "\n",
    "**Example : Maximum of daily tasmax (tx_max)**"
   ]
  },
  {
   "cell_type": "code",
   "execution_count": 16,
   "metadata": {
    "scrolled": true
   },
   "outputs": [
    {
     "name": "stderr",
     "output_type": "stream",
     "text": [
      "WARNING:py.warnings:/usr/local/DEV/anaconda3/envs/python36/lib/python3.6/site-packages/xclim/checks.py:30: UserWarning: Variable does not have a `cell_methods` attribute.\n",
      "  warn(e)\n",
      "\n"
     ]
    },
    {
     "name": "stdout",
     "output_type": "stream",
     "text": [
      "Number of time-steps using freq ==  YS  :  151 \n",
      "\n",
      "<xarray.DataArray 'time' (time: 151)>\n",
      "array([cftime.DatetimeNoLeap(1950, 1, 1, 0, 0, 0, 0, 4, 1),\n",
      "       cftime.DatetimeNoLeap(1951, 1, 1, 0, 0, 0, 0, 5, 1),\n",
      "       cftime.DatetimeNoLeap(1952, 1, 1, 0, 0, 0, 0, 6, 1),\n",
      "       cftime.DatetimeNoLeap(1953, 1, 1, 0, 0, 0, 0, 0, 1),\n",
      "       cftime.DatetimeNoLeap(1954, 1, 1, 0, 0, 0, 0, 1, 1),\n",
      "       cftime.DatetimeNoLeap(1955, 1, 1, 0, 0, 0, 0, 2, 1),\n",
      "       cftime.DatetimeNoLeap(1956, 1, 1, 0, 0, 0, 0, 3, 1),\n",
      "       cftime.DatetimeNoLeap(1957, 1, 1, 0, 0, 0, 0, 4, 1),\n",
      "       cftime.DatetimeNoLeap(1958, 1, 1, 0, 0, 0, 0, 5, 1),\n",
      "       cftime.DatetimeNoLeap(1959, 1, 1, 0, 0, 0, 0, 6, 1),\n",
      "       cftime.DatetimeNoLeap(1960, 1, 1, 0, 0, 0, 0, 0, 1),\n",
      "       cftime.DatetimeNoLeap(1961, 1, 1, 0, 0, 0, 0, 1, 1),\n",
      "       cftime.DatetimeNoLeap(1962, 1, 1, 0, 0, 0, 0, 2, 1),\n",
      "       cftime.DatetimeNoLeap(1963, 1, 1, 0, 0, 0, 0, 3, 1),\n",
      "       cftime.DatetimeNoLeap(1964, 1, 1, 0, 0, 0, 0, 4, 1),\n",
      "       cftime.DatetimeNoLeap(1965, 1, 1, 0, 0, 0, 0, 5, 1),\n",
      "       cftime.DatetimeNoLeap(1966, 1, 1, 0, 0, 0, 0, 6, 1),\n",
      "       cftime.DatetimeNoLeap(1967, 1, 1, 0, 0, 0, 0, 0, 1),\n",
      "       cftime.DatetimeNoLeap(1968, 1, 1, 0, 0, 0, 0, 1, 1),\n",
      "       cftime.DatetimeNoLeap(1969, 1, 1, 0, 0, 0, 0, 2, 1),\n",
      "       cftime.DatetimeNoLeap(1970, 1, 1, 0, 0, 0, 0, 3, 1),\n",
      "       cftime.DatetimeNoLeap(1971, 1, 1, 0, 0, 0, 0, 4, 1),\n",
      "       cftime.DatetimeNoLeap(1972, 1, 1, 0, 0, 0, 0, 5, 1),\n",
      "       cftime.DatetimeNoLeap(1973, 1, 1, 0, 0, 0, 0, 6, 1),\n",
      "       cftime.DatetimeNoLeap(1974, 1, 1, 0, 0, 0, 0, 0, 1),\n",
      "       cftime.DatetimeNoLeap(1975, 1, 1, 0, 0, 0, 0, 1, 1),\n",
      "       cftime.DatetimeNoLeap(1976, 1, 1, 0, 0, 0, 0, 2, 1),\n",
      "       cftime.DatetimeNoLeap(1977, 1, 1, 0, 0, 0, 0, 3, 1),\n",
      "       cftime.DatetimeNoLeap(1978, 1, 1, 0, 0, 0, 0, 4, 1),\n",
      "       cftime.DatetimeNoLeap(1979, 1, 1, 0, 0, 0, 0, 5, 1),\n",
      "       cftime.DatetimeNoLeap(1980, 1, 1, 0, 0, 0, 0, 6, 1),\n",
      "       cftime.DatetimeNoLeap(1981, 1, 1, 0, 0, 0, 0, 0, 1),\n",
      "       cftime.DatetimeNoLeap(1982, 1, 1, 0, 0, 0, 0, 1, 1),\n",
      "       cftime.DatetimeNoLeap(1983, 1, 1, 0, 0, 0, 0, 2, 1),\n",
      "       cftime.DatetimeNoLeap(1984, 1, 1, 0, 0, 0, 0, 3, 1),\n",
      "       cftime.DatetimeNoLeap(1985, 1, 1, 0, 0, 0, 0, 4, 1),\n",
      "       cftime.DatetimeNoLeap(1986, 1, 1, 0, 0, 0, 0, 5, 1),\n",
      "       cftime.DatetimeNoLeap(1987, 1, 1, 0, 0, 0, 0, 6, 1),\n",
      "       cftime.DatetimeNoLeap(1988, 1, 1, 0, 0, 0, 0, 0, 1),\n",
      "       cftime.DatetimeNoLeap(1989, 1, 1, 0, 0, 0, 0, 1, 1),\n",
      "       cftime.DatetimeNoLeap(1990, 1, 1, 0, 0, 0, 0, 2, 1),\n",
      "       cftime.DatetimeNoLeap(1991, 1, 1, 0, 0, 0, 0, 3, 1),\n",
      "       cftime.DatetimeNoLeap(1992, 1, 1, 0, 0, 0, 0, 4, 1),\n",
      "       cftime.DatetimeNoLeap(1993, 1, 1, 0, 0, 0, 0, 5, 1),\n",
      "       cftime.DatetimeNoLeap(1994, 1, 1, 0, 0, 0, 0, 6, 1),\n",
      "       cftime.DatetimeNoLeap(1995, 1, 1, 0, 0, 0, 0, 0, 1),\n",
      "       cftime.DatetimeNoLeap(1996, 1, 1, 0, 0, 0, 0, 1, 1),\n",
      "       cftime.DatetimeNoLeap(1997, 1, 1, 0, 0, 0, 0, 2, 1),\n",
      "       cftime.DatetimeNoLeap(1998, 1, 1, 0, 0, 0, 0, 3, 1),\n",
      "       cftime.DatetimeNoLeap(1999, 1, 1, 0, 0, 0, 0, 4, 1),\n",
      "       cftime.DatetimeNoLeap(2000, 1, 1, 0, 0, 0, 0, 5, 1),\n",
      "       cftime.DatetimeNoLeap(2001, 1, 1, 0, 0, 0, 0, 6, 1),\n",
      "       cftime.DatetimeNoLeap(2002, 1, 1, 0, 0, 0, 0, 0, 1),\n",
      "       cftime.DatetimeNoLeap(2003, 1, 1, 0, 0, 0, 0, 1, 1),\n",
      "       cftime.DatetimeNoLeap(2004, 1, 1, 0, 0, 0, 0, 2, 1),\n",
      "       cftime.DatetimeNoLeap(2005, 1, 1, 0, 0, 0, 0, 3, 1),\n",
      "       cftime.DatetimeNoLeap(2006, 1, 1, 0, 0, 0, 0, 4, 1),\n",
      "       cftime.DatetimeNoLeap(2007, 1, 1, 0, 0, 0, 0, 5, 1),\n",
      "       cftime.DatetimeNoLeap(2008, 1, 1, 0, 0, 0, 0, 6, 1),\n",
      "       cftime.DatetimeNoLeap(2009, 1, 1, 0, 0, 0, 0, 0, 1),\n",
      "       cftime.DatetimeNoLeap(2010, 1, 1, 0, 0, 0, 0, 1, 1),\n",
      "       cftime.DatetimeNoLeap(2011, 1, 1, 0, 0, 0, 0, 2, 1),\n",
      "       cftime.DatetimeNoLeap(2012, 1, 1, 0, 0, 0, 0, 3, 1),\n",
      "       cftime.DatetimeNoLeap(2013, 1, 1, 0, 0, 0, 0, 4, 1),\n",
      "       cftime.DatetimeNoLeap(2014, 1, 1, 0, 0, 0, 0, 5, 1),\n",
      "       cftime.DatetimeNoLeap(2015, 1, 1, 0, 0, 0, 0, 6, 1),\n",
      "       cftime.DatetimeNoLeap(2016, 1, 1, 0, 0, 0, 0, 0, 1),\n",
      "       cftime.DatetimeNoLeap(2017, 1, 1, 0, 0, 0, 0, 1, 1),\n",
      "       cftime.DatetimeNoLeap(2018, 1, 1, 0, 0, 0, 0, 2, 1),\n",
      "       cftime.DatetimeNoLeap(2019, 1, 1, 0, 0, 0, 0, 3, 1),\n",
      "       cftime.DatetimeNoLeap(2020, 1, 1, 0, 0, 0, 0, 4, 1),\n",
      "       cftime.DatetimeNoLeap(2021, 1, 1, 0, 0, 0, 0, 5, 1),\n",
      "       cftime.DatetimeNoLeap(2022, 1, 1, 0, 0, 0, 0, 6, 1),\n",
      "       cftime.DatetimeNoLeap(2023, 1, 1, 0, 0, 0, 0, 0, 1),\n",
      "       cftime.DatetimeNoLeap(2024, 1, 1, 0, 0, 0, 0, 1, 1),\n",
      "       cftime.DatetimeNoLeap(2025, 1, 1, 0, 0, 0, 0, 2, 1),\n",
      "       cftime.DatetimeNoLeap(2026, 1, 1, 0, 0, 0, 0, 3, 1),\n",
      "       cftime.DatetimeNoLeap(2027, 1, 1, 0, 0, 0, 0, 4, 1),\n",
      "       cftime.DatetimeNoLeap(2028, 1, 1, 0, 0, 0, 0, 5, 1),\n",
      "       cftime.DatetimeNoLeap(2029, 1, 1, 0, 0, 0, 0, 6, 1),\n",
      "       cftime.DatetimeNoLeap(2030, 1, 1, 0, 0, 0, 0, 0, 1),\n",
      "       cftime.DatetimeNoLeap(2031, 1, 1, 0, 0, 0, 0, 1, 1),\n",
      "       cftime.DatetimeNoLeap(2032, 1, 1, 0, 0, 0, 0, 2, 1),\n",
      "       cftime.DatetimeNoLeap(2033, 1, 1, 0, 0, 0, 0, 3, 1),\n",
      "       cftime.DatetimeNoLeap(2034, 1, 1, 0, 0, 0, 0, 4, 1),\n",
      "       cftime.DatetimeNoLeap(2035, 1, 1, 0, 0, 0, 0, 5, 1),\n",
      "       cftime.DatetimeNoLeap(2036, 1, 1, 0, 0, 0, 0, 6, 1),\n",
      "       cftime.DatetimeNoLeap(2037, 1, 1, 0, 0, 0, 0, 0, 1),\n",
      "       cftime.DatetimeNoLeap(2038, 1, 1, 0, 0, 0, 0, 1, 1),\n",
      "       cftime.DatetimeNoLeap(2039, 1, 1, 0, 0, 0, 0, 2, 1),\n",
      "       cftime.DatetimeNoLeap(2040, 1, 1, 0, 0, 0, 0, 3, 1),\n",
      "       cftime.DatetimeNoLeap(2041, 1, 1, 0, 0, 0, 0, 4, 1),\n",
      "       cftime.DatetimeNoLeap(2042, 1, 1, 0, 0, 0, 0, 5, 1),\n",
      "       cftime.DatetimeNoLeap(2043, 1, 1, 0, 0, 0, 0, 6, 1),\n",
      "       cftime.DatetimeNoLeap(2044, 1, 1, 0, 0, 0, 0, 0, 1),\n",
      "       cftime.DatetimeNoLeap(2045, 1, 1, 0, 0, 0, 0, 1, 1),\n",
      "       cftime.DatetimeNoLeap(2046, 1, 1, 0, 0, 0, 0, 2, 1),\n",
      "       cftime.DatetimeNoLeap(2047, 1, 1, 0, 0, 0, 0, 3, 1),\n",
      "       cftime.DatetimeNoLeap(2048, 1, 1, 0, 0, 0, 0, 4, 1),\n",
      "       cftime.DatetimeNoLeap(2049, 1, 1, 0, 0, 0, 0, 5, 1),\n",
      "       cftime.DatetimeNoLeap(2050, 1, 1, 0, 0, 0, 0, 6, 1),\n",
      "       cftime.DatetimeNoLeap(2051, 1, 1, 0, 0, 0, 0, 0, 1),\n",
      "       cftime.DatetimeNoLeap(2052, 1, 1, 0, 0, 0, 0, 1, 1),\n",
      "       cftime.DatetimeNoLeap(2053, 1, 1, 0, 0, 0, 0, 2, 1),\n",
      "       cftime.DatetimeNoLeap(2054, 1, 1, 0, 0, 0, 0, 3, 1),\n",
      "       cftime.DatetimeNoLeap(2055, 1, 1, 0, 0, 0, 0, 4, 1),\n",
      "       cftime.DatetimeNoLeap(2056, 1, 1, 0, 0, 0, 0, 5, 1),\n",
      "       cftime.DatetimeNoLeap(2057, 1, 1, 0, 0, 0, 0, 6, 1),\n",
      "       cftime.DatetimeNoLeap(2058, 1, 1, 0, 0, 0, 0, 0, 1),\n",
      "       cftime.DatetimeNoLeap(2059, 1, 1, 0, 0, 0, 0, 1, 1),\n",
      "       cftime.DatetimeNoLeap(2060, 1, 1, 0, 0, 0, 0, 2, 1),\n",
      "       cftime.DatetimeNoLeap(2061, 1, 1, 0, 0, 0, 0, 3, 1),\n",
      "       cftime.DatetimeNoLeap(2062, 1, 1, 0, 0, 0, 0, 4, 1),\n",
      "       cftime.DatetimeNoLeap(2063, 1, 1, 0, 0, 0, 0, 5, 1),\n",
      "       cftime.DatetimeNoLeap(2064, 1, 1, 0, 0, 0, 0, 6, 1),\n",
      "       cftime.DatetimeNoLeap(2065, 1, 1, 0, 0, 0, 0, 0, 1),\n",
      "       cftime.DatetimeNoLeap(2066, 1, 1, 0, 0, 0, 0, 1, 1),\n",
      "       cftime.DatetimeNoLeap(2067, 1, 1, 0, 0, 0, 0, 2, 1),\n",
      "       cftime.DatetimeNoLeap(2068, 1, 1, 0, 0, 0, 0, 3, 1),\n",
      "       cftime.DatetimeNoLeap(2069, 1, 1, 0, 0, 0, 0, 4, 1),\n",
      "       cftime.DatetimeNoLeap(2070, 1, 1, 0, 0, 0, 0, 5, 1),\n",
      "       cftime.DatetimeNoLeap(2071, 1, 1, 0, 0, 0, 0, 6, 1),\n",
      "       cftime.DatetimeNoLeap(2072, 1, 1, 0, 0, 0, 0, 0, 1),\n",
      "       cftime.DatetimeNoLeap(2073, 1, 1, 0, 0, 0, 0, 1, 1),\n",
      "       cftime.DatetimeNoLeap(2074, 1, 1, 0, 0, 0, 0, 2, 1),\n",
      "       cftime.DatetimeNoLeap(2075, 1, 1, 0, 0, 0, 0, 3, 1),\n",
      "       cftime.DatetimeNoLeap(2076, 1, 1, 0, 0, 0, 0, 4, 1),\n",
      "       cftime.DatetimeNoLeap(2077, 1, 1, 0, 0, 0, 0, 5, 1),\n",
      "       cftime.DatetimeNoLeap(2078, 1, 1, 0, 0, 0, 0, 6, 1),\n",
      "       cftime.DatetimeNoLeap(2079, 1, 1, 0, 0, 0, 0, 0, 1),\n",
      "       cftime.DatetimeNoLeap(2080, 1, 1, 0, 0, 0, 0, 1, 1),\n",
      "       cftime.DatetimeNoLeap(2081, 1, 1, 0, 0, 0, 0, 2, 1),\n",
      "       cftime.DatetimeNoLeap(2082, 1, 1, 0, 0, 0, 0, 3, 1),\n",
      "       cftime.DatetimeNoLeap(2083, 1, 1, 0, 0, 0, 0, 4, 1),\n",
      "       cftime.DatetimeNoLeap(2084, 1, 1, 0, 0, 0, 0, 5, 1),\n",
      "       cftime.DatetimeNoLeap(2085, 1, 1, 0, 0, 0, 0, 6, 1),\n",
      "       cftime.DatetimeNoLeap(2086, 1, 1, 0, 0, 0, 0, 0, 1),\n",
      "       cftime.DatetimeNoLeap(2087, 1, 1, 0, 0, 0, 0, 1, 1),\n",
      "       cftime.DatetimeNoLeap(2088, 1, 1, 0, 0, 0, 0, 2, 1),\n",
      "       cftime.DatetimeNoLeap(2089, 1, 1, 0, 0, 0, 0, 3, 1),\n",
      "       cftime.DatetimeNoLeap(2090, 1, 1, 0, 0, 0, 0, 4, 1),\n",
      "       cftime.DatetimeNoLeap(2091, 1, 1, 0, 0, 0, 0, 5, 1),\n",
      "       cftime.DatetimeNoLeap(2092, 1, 1, 0, 0, 0, 0, 6, 1),\n",
      "       cftime.DatetimeNoLeap(2093, 1, 1, 0, 0, 0, 0, 0, 1),\n",
      "       cftime.DatetimeNoLeap(2094, 1, 1, 0, 0, 0, 0, 1, 1),\n",
      "       cftime.DatetimeNoLeap(2095, 1, 1, 0, 0, 0, 0, 2, 1),\n",
      "       cftime.DatetimeNoLeap(2096, 1, 1, 0, 0, 0, 0, 3, 1),\n",
      "       cftime.DatetimeNoLeap(2097, 1, 1, 0, 0, 0, 0, 4, 1),\n",
      "       cftime.DatetimeNoLeap(2098, 1, 1, 0, 0, 0, 0, 5, 1),\n",
      "       cftime.DatetimeNoLeap(2099, 1, 1, 0, 0, 0, 0, 6, 1),\n",
      "       cftime.DatetimeNoLeap(2100, 1, 1, 0, 0, 0, 0, 0, 1)], dtype=object)\n",
      "Coordinates:\n",
      "  * time     (time) object 1950-01-01 00:00:00 ... 2100-01-01 00:00:00\n",
      "<xarray.Dataset>\n",
      "Dimensions:  (lat: 180, lon: 324, time: 151)\n",
      "Coordinates:\n",
      "  * lat      (lat) float64 59.96 59.87 59.79 59.71 ... 45.29 45.21 45.12 45.04\n",
      "  * lon      (lon) float64 -81.96 -81.88 -81.8 -81.71 ... -55.21 -55.13 -55.05\n",
      "  * time     (time) object 1950-01-01 00:00:00 ... 2100-01-01 00:00:00\n",
      "Data variables:\n",
      "    tx_max   (time, lat, lon) float32 dask.array<shape=(151, 180, 324), chunksize=(1, 20, 75)>\n",
      "Attributes:\n",
      "    Conventions:     CF-1.5\n",
      "    title:           CanESM2 model output prepared for CMIP5 historical\n",
      "    history:         2011-04-14T00:21:01Z CMOR rewrote data to comply with CF...\n",
      "    institution:     CCCma (Canadian Centre for Climate Modelling and Analysi...\n",
      "    source:          CanESM2 2010 atmosphere: CanAM4 (AGCM15i, T63L35) ocean:...\n",
      "    redistribution:  Redistribution prohibited. For internal use only.\n"
     ]
    },
    {
     "ename": "PermissionError",
     "evalue": "[Errno 13] Permission denied: '/home/logan'",
     "output_type": "error",
     "traceback": [
      "\u001b[0;31m---------------------------------------------------------------------------\u001b[0m",
      "\u001b[0;31mPermissionError\u001b[0m                           Traceback (most recent call last)",
      "\u001b[0;32m<ipython-input-16-5b8a0c525dc1>\u001b[0m in \u001b[0;36m<module>\u001b[0;34m\u001b[0m\n\u001b[1;32m     10\u001b[0m \u001b[0moutfile\u001b[0m \u001b[0;34m=\u001b[0m \u001b[0;34m'/home/logan/boreas/testdata/XCLIM_workshop/Exercise1/rcp45/tx_max/test.nc'\u001b[0m\u001b[0;34m\u001b[0m\u001b[0m\n\u001b[1;32m     11\u001b[0m \u001b[0;32mif\u001b[0m \u001b[0;32mnot\u001b[0m \u001b[0mos\u001b[0m\u001b[0;34m.\u001b[0m\u001b[0mpath\u001b[0m\u001b[0;34m.\u001b[0m\u001b[0mexists\u001b[0m\u001b[0;34m(\u001b[0m\u001b[0mos\u001b[0m\u001b[0;34m.\u001b[0m\u001b[0mpath\u001b[0m\u001b[0;34m.\u001b[0m\u001b[0mdirname\u001b[0m\u001b[0;34m(\u001b[0m\u001b[0moutfile\u001b[0m\u001b[0;34m)\u001b[0m\u001b[0;34m)\u001b[0m\u001b[0;34m:\u001b[0m\u001b[0;34m\u001b[0m\u001b[0m\n\u001b[0;32m---> 12\u001b[0;31m     \u001b[0mos\u001b[0m\u001b[0;34m.\u001b[0m\u001b[0mmakedirs\u001b[0m\u001b[0;34m(\u001b[0m\u001b[0mos\u001b[0m\u001b[0;34m.\u001b[0m\u001b[0mpath\u001b[0m\u001b[0;34m.\u001b[0m\u001b[0mdirname\u001b[0m\u001b[0;34m(\u001b[0m\u001b[0moutfile\u001b[0m\u001b[0;34m)\u001b[0m\u001b[0;34m)\u001b[0m\u001b[0;34m\u001b[0m\u001b[0m\n\u001b[0m\u001b[1;32m     13\u001b[0m \u001b[0mprint\u001b[0m\u001b[0;34m(\u001b[0m\u001b[0moutfile\u001b[0m\u001b[0;34m)\u001b[0m\u001b[0;34m\u001b[0m\u001b[0m\n",
      "\u001b[0;32m/usr/local/DEV/anaconda3/envs/python36/lib/python3.6/os.py\u001b[0m in \u001b[0;36mmakedirs\u001b[0;34m(name, mode, exist_ok)\u001b[0m\n\u001b[1;32m    208\u001b[0m     \u001b[0;32mif\u001b[0m \u001b[0mhead\u001b[0m \u001b[0;32mand\u001b[0m \u001b[0mtail\u001b[0m \u001b[0;32mand\u001b[0m \u001b[0;32mnot\u001b[0m \u001b[0mpath\u001b[0m\u001b[0;34m.\u001b[0m\u001b[0mexists\u001b[0m\u001b[0;34m(\u001b[0m\u001b[0mhead\u001b[0m\u001b[0;34m)\u001b[0m\u001b[0;34m:\u001b[0m\u001b[0;34m\u001b[0m\u001b[0m\n\u001b[1;32m    209\u001b[0m         \u001b[0;32mtry\u001b[0m\u001b[0;34m:\u001b[0m\u001b[0;34m\u001b[0m\u001b[0m\n\u001b[0;32m--> 210\u001b[0;31m             \u001b[0mmakedirs\u001b[0m\u001b[0;34m(\u001b[0m\u001b[0mhead\u001b[0m\u001b[0;34m,\u001b[0m \u001b[0mmode\u001b[0m\u001b[0;34m,\u001b[0m \u001b[0mexist_ok\u001b[0m\u001b[0;34m)\u001b[0m\u001b[0;34m\u001b[0m\u001b[0m\n\u001b[0m\u001b[1;32m    211\u001b[0m         \u001b[0;32mexcept\u001b[0m \u001b[0mFileExistsError\u001b[0m\u001b[0;34m:\u001b[0m\u001b[0;34m\u001b[0m\u001b[0m\n\u001b[1;32m    212\u001b[0m             \u001b[0;31m# Defeats race condition when another thread created the path\u001b[0m\u001b[0;34m\u001b[0m\u001b[0;34m\u001b[0m\u001b[0m\n",
      "\u001b[0;32m/usr/local/DEV/anaconda3/envs/python36/lib/python3.6/os.py\u001b[0m in \u001b[0;36mmakedirs\u001b[0;34m(name, mode, exist_ok)\u001b[0m\n\u001b[1;32m    208\u001b[0m     \u001b[0;32mif\u001b[0m \u001b[0mhead\u001b[0m \u001b[0;32mand\u001b[0m \u001b[0mtail\u001b[0m \u001b[0;32mand\u001b[0m \u001b[0;32mnot\u001b[0m \u001b[0mpath\u001b[0m\u001b[0;34m.\u001b[0m\u001b[0mexists\u001b[0m\u001b[0;34m(\u001b[0m\u001b[0mhead\u001b[0m\u001b[0;34m)\u001b[0m\u001b[0;34m:\u001b[0m\u001b[0;34m\u001b[0m\u001b[0m\n\u001b[1;32m    209\u001b[0m         \u001b[0;32mtry\u001b[0m\u001b[0;34m:\u001b[0m\u001b[0;34m\u001b[0m\u001b[0m\n\u001b[0;32m--> 210\u001b[0;31m             \u001b[0mmakedirs\u001b[0m\u001b[0;34m(\u001b[0m\u001b[0mhead\u001b[0m\u001b[0;34m,\u001b[0m \u001b[0mmode\u001b[0m\u001b[0;34m,\u001b[0m \u001b[0mexist_ok\u001b[0m\u001b[0;34m)\u001b[0m\u001b[0;34m\u001b[0m\u001b[0m\n\u001b[0m\u001b[1;32m    211\u001b[0m         \u001b[0;32mexcept\u001b[0m \u001b[0mFileExistsError\u001b[0m\u001b[0;34m:\u001b[0m\u001b[0;34m\u001b[0m\u001b[0m\n\u001b[1;32m    212\u001b[0m             \u001b[0;31m# Defeats race condition when another thread created the path\u001b[0m\u001b[0;34m\u001b[0m\u001b[0;34m\u001b[0m\u001b[0m\n",
      "\u001b[0;32m/usr/local/DEV/anaconda3/envs/python36/lib/python3.6/os.py\u001b[0m in \u001b[0;36mmakedirs\u001b[0;34m(name, mode, exist_ok)\u001b[0m\n\u001b[1;32m    208\u001b[0m     \u001b[0;32mif\u001b[0m \u001b[0mhead\u001b[0m \u001b[0;32mand\u001b[0m \u001b[0mtail\u001b[0m \u001b[0;32mand\u001b[0m \u001b[0;32mnot\u001b[0m \u001b[0mpath\u001b[0m\u001b[0;34m.\u001b[0m\u001b[0mexists\u001b[0m\u001b[0;34m(\u001b[0m\u001b[0mhead\u001b[0m\u001b[0;34m)\u001b[0m\u001b[0;34m:\u001b[0m\u001b[0;34m\u001b[0m\u001b[0m\n\u001b[1;32m    209\u001b[0m         \u001b[0;32mtry\u001b[0m\u001b[0;34m:\u001b[0m\u001b[0;34m\u001b[0m\u001b[0m\n\u001b[0;32m--> 210\u001b[0;31m             \u001b[0mmakedirs\u001b[0m\u001b[0;34m(\u001b[0m\u001b[0mhead\u001b[0m\u001b[0;34m,\u001b[0m \u001b[0mmode\u001b[0m\u001b[0;34m,\u001b[0m \u001b[0mexist_ok\u001b[0m\u001b[0;34m)\u001b[0m\u001b[0;34m\u001b[0m\u001b[0m\n\u001b[0m\u001b[1;32m    211\u001b[0m         \u001b[0;32mexcept\u001b[0m \u001b[0mFileExistsError\u001b[0m\u001b[0;34m:\u001b[0m\u001b[0;34m\u001b[0m\u001b[0m\n\u001b[1;32m    212\u001b[0m             \u001b[0;31m# Defeats race condition when another thread created the path\u001b[0m\u001b[0;34m\u001b[0m\u001b[0;34m\u001b[0m\u001b[0m\n",
      "\u001b[0;32m/usr/local/DEV/anaconda3/envs/python36/lib/python3.6/os.py\u001b[0m in \u001b[0;36mmakedirs\u001b[0;34m(name, mode, exist_ok)\u001b[0m\n\u001b[1;32m    208\u001b[0m     \u001b[0;32mif\u001b[0m \u001b[0mhead\u001b[0m \u001b[0;32mand\u001b[0m \u001b[0mtail\u001b[0m \u001b[0;32mand\u001b[0m \u001b[0;32mnot\u001b[0m \u001b[0mpath\u001b[0m\u001b[0;34m.\u001b[0m\u001b[0mexists\u001b[0m\u001b[0;34m(\u001b[0m\u001b[0mhead\u001b[0m\u001b[0;34m)\u001b[0m\u001b[0;34m:\u001b[0m\u001b[0;34m\u001b[0m\u001b[0m\n\u001b[1;32m    209\u001b[0m         \u001b[0;32mtry\u001b[0m\u001b[0;34m:\u001b[0m\u001b[0;34m\u001b[0m\u001b[0m\n\u001b[0;32m--> 210\u001b[0;31m             \u001b[0mmakedirs\u001b[0m\u001b[0;34m(\u001b[0m\u001b[0mhead\u001b[0m\u001b[0;34m,\u001b[0m \u001b[0mmode\u001b[0m\u001b[0;34m,\u001b[0m \u001b[0mexist_ok\u001b[0m\u001b[0;34m)\u001b[0m\u001b[0;34m\u001b[0m\u001b[0m\n\u001b[0m\u001b[1;32m    211\u001b[0m         \u001b[0;32mexcept\u001b[0m \u001b[0mFileExistsError\u001b[0m\u001b[0;34m:\u001b[0m\u001b[0;34m\u001b[0m\u001b[0m\n\u001b[1;32m    212\u001b[0m             \u001b[0;31m# Defeats race condition when another thread created the path\u001b[0m\u001b[0;34m\u001b[0m\u001b[0;34m\u001b[0m\u001b[0m\n",
      "\u001b[0;32m/usr/local/DEV/anaconda3/envs/python36/lib/python3.6/os.py\u001b[0m in \u001b[0;36mmakedirs\u001b[0;34m(name, mode, exist_ok)\u001b[0m\n\u001b[1;32m    208\u001b[0m     \u001b[0;32mif\u001b[0m \u001b[0mhead\u001b[0m \u001b[0;32mand\u001b[0m \u001b[0mtail\u001b[0m \u001b[0;32mand\u001b[0m \u001b[0;32mnot\u001b[0m \u001b[0mpath\u001b[0m\u001b[0;34m.\u001b[0m\u001b[0mexists\u001b[0m\u001b[0;34m(\u001b[0m\u001b[0mhead\u001b[0m\u001b[0;34m)\u001b[0m\u001b[0;34m:\u001b[0m\u001b[0;34m\u001b[0m\u001b[0m\n\u001b[1;32m    209\u001b[0m         \u001b[0;32mtry\u001b[0m\u001b[0;34m:\u001b[0m\u001b[0;34m\u001b[0m\u001b[0m\n\u001b[0;32m--> 210\u001b[0;31m             \u001b[0mmakedirs\u001b[0m\u001b[0;34m(\u001b[0m\u001b[0mhead\u001b[0m\u001b[0;34m,\u001b[0m \u001b[0mmode\u001b[0m\u001b[0;34m,\u001b[0m \u001b[0mexist_ok\u001b[0m\u001b[0;34m)\u001b[0m\u001b[0;34m\u001b[0m\u001b[0m\n\u001b[0m\u001b[1;32m    211\u001b[0m         \u001b[0;32mexcept\u001b[0m \u001b[0mFileExistsError\u001b[0m\u001b[0;34m:\u001b[0m\u001b[0;34m\u001b[0m\u001b[0m\n\u001b[1;32m    212\u001b[0m             \u001b[0;31m# Defeats race condition when another thread created the path\u001b[0m\u001b[0;34m\u001b[0m\u001b[0;34m\u001b[0m\u001b[0m\n",
      "\u001b[0;32m/usr/local/DEV/anaconda3/envs/python36/lib/python3.6/os.py\u001b[0m in \u001b[0;36mmakedirs\u001b[0;34m(name, mode, exist_ok)\u001b[0m\n\u001b[1;32m    208\u001b[0m     \u001b[0;32mif\u001b[0m \u001b[0mhead\u001b[0m \u001b[0;32mand\u001b[0m \u001b[0mtail\u001b[0m \u001b[0;32mand\u001b[0m \u001b[0;32mnot\u001b[0m \u001b[0mpath\u001b[0m\u001b[0;34m.\u001b[0m\u001b[0mexists\u001b[0m\u001b[0;34m(\u001b[0m\u001b[0mhead\u001b[0m\u001b[0;34m)\u001b[0m\u001b[0;34m:\u001b[0m\u001b[0;34m\u001b[0m\u001b[0m\n\u001b[1;32m    209\u001b[0m         \u001b[0;32mtry\u001b[0m\u001b[0;34m:\u001b[0m\u001b[0;34m\u001b[0m\u001b[0m\n\u001b[0;32m--> 210\u001b[0;31m             \u001b[0mmakedirs\u001b[0m\u001b[0;34m(\u001b[0m\u001b[0mhead\u001b[0m\u001b[0;34m,\u001b[0m \u001b[0mmode\u001b[0m\u001b[0;34m,\u001b[0m \u001b[0mexist_ok\u001b[0m\u001b[0;34m)\u001b[0m\u001b[0;34m\u001b[0m\u001b[0m\n\u001b[0m\u001b[1;32m    211\u001b[0m         \u001b[0;32mexcept\u001b[0m \u001b[0mFileExistsError\u001b[0m\u001b[0;34m:\u001b[0m\u001b[0;34m\u001b[0m\u001b[0m\n\u001b[1;32m    212\u001b[0m             \u001b[0;31m# Defeats race condition when another thread created the path\u001b[0m\u001b[0;34m\u001b[0m\u001b[0;34m\u001b[0m\u001b[0m\n",
      "\u001b[0;32m/usr/local/DEV/anaconda3/envs/python36/lib/python3.6/os.py\u001b[0m in \u001b[0;36mmakedirs\u001b[0;34m(name, mode, exist_ok)\u001b[0m\n\u001b[1;32m    218\u001b[0m             \u001b[0;32mreturn\u001b[0m\u001b[0;34m\u001b[0m\u001b[0m\n\u001b[1;32m    219\u001b[0m     \u001b[0;32mtry\u001b[0m\u001b[0;34m:\u001b[0m\u001b[0;34m\u001b[0m\u001b[0m\n\u001b[0;32m--> 220\u001b[0;31m         \u001b[0mmkdir\u001b[0m\u001b[0;34m(\u001b[0m\u001b[0mname\u001b[0m\u001b[0;34m,\u001b[0m \u001b[0mmode\u001b[0m\u001b[0;34m)\u001b[0m\u001b[0;34m\u001b[0m\u001b[0m\n\u001b[0m\u001b[1;32m    221\u001b[0m     \u001b[0;32mexcept\u001b[0m \u001b[0mOSError\u001b[0m\u001b[0;34m:\u001b[0m\u001b[0;34m\u001b[0m\u001b[0m\n\u001b[1;32m    222\u001b[0m         \u001b[0;31m# Cannot rely on checking for EEXIST, since the operating system\u001b[0m\u001b[0;34m\u001b[0m\u001b[0;34m\u001b[0m\u001b[0m\n",
      "\u001b[0;31mPermissionError\u001b[0m: [Errno 13] Permission denied: '/home/logan'"
     ]
    }
   ],
   "source": [
    "fr = 'YS' #MS #QS-DEC #AS-AUG #W #2W #5D\n",
    "out = atmos.tx_max(ds1.tasmax, freq=fr)\n",
    "dsOut = ds1.drop(ds1.data_vars)\n",
    "dsOut = dsOut.drop('time')\n",
    "dsOut[out.name] = out\n",
    "print('Number of time-steps using freq == ', fr, ' : ', len(out.time),'\\n')\n",
    "print(out.time)\n",
    "print(dsOut)\n",
    "\n",
    "outfile = '/home/logan/boreas/testdata/XCLIM_workshop/Exercise1/rcp45/tx_max/test.nc'\n",
    "if not os.path.exists(os.path.dirname(outfile)):\n",
    "    os.makedirs(os.path.dirname(outfile))\n",
    "print(outfile)\n"
   ]
  },
  {
   "cell_type": "markdown",
   "metadata": {
    "scrolled": true
   },
   "source": [
    "## 7. Lazy computation\n",
    "\n",
    "**Up until now we have ony created a schedule of tasks with a small preview.**\n",
    "\n",
    "**Writing the file to netcdf will actually calculate the values for all years.**"
   ]
  },
  {
   "cell_type": "code",
   "execution_count": 17,
   "metadata": {
    "scrolled": true
   },
   "outputs": [
    {
     "ename": "PermissionError",
     "evalue": "[Errno 13] Permission denied: b'/scen3/logan/testdata/XCLIM_workshop/Exercise1/test.nc'",
     "output_type": "error",
     "traceback": [
      "\u001b[0;31m---------------------------------------------------------------------------\u001b[0m",
      "\u001b[0;31mKeyError\u001b[0m                                  Traceback (most recent call last)",
      "\u001b[0;32m/usr/local/DEV/anaconda3/envs/python36/lib/python3.6/site-packages/xarray/backends/file_manager.py\u001b[0m in \u001b[0;36macquire\u001b[0;34m(self, needs_lock)\u001b[0m\n\u001b[1;32m    166\u001b[0m             \u001b[0;32mtry\u001b[0m\u001b[0;34m:\u001b[0m\u001b[0;34m\u001b[0m\u001b[0m\n\u001b[0;32m--> 167\u001b[0;31m                 \u001b[0mfile\u001b[0m \u001b[0;34m=\u001b[0m \u001b[0mself\u001b[0m\u001b[0;34m.\u001b[0m\u001b[0m_cache\u001b[0m\u001b[0;34m[\u001b[0m\u001b[0mself\u001b[0m\u001b[0;34m.\u001b[0m\u001b[0m_key\u001b[0m\u001b[0;34m]\u001b[0m\u001b[0;34m\u001b[0m\u001b[0m\n\u001b[0m\u001b[1;32m    168\u001b[0m             \u001b[0;32mexcept\u001b[0m \u001b[0mKeyError\u001b[0m\u001b[0;34m:\u001b[0m\u001b[0;34m\u001b[0m\u001b[0m\n",
      "\u001b[0;32m/usr/local/DEV/anaconda3/envs/python36/lib/python3.6/site-packages/xarray/backends/lru_cache.py\u001b[0m in \u001b[0;36m__getitem__\u001b[0;34m(self, key)\u001b[0m\n\u001b[1;32m     41\u001b[0m         \u001b[0;32mwith\u001b[0m \u001b[0mself\u001b[0m\u001b[0;34m.\u001b[0m\u001b[0m_lock\u001b[0m\u001b[0;34m:\u001b[0m\u001b[0;34m\u001b[0m\u001b[0m\n\u001b[0;32m---> 42\u001b[0;31m             \u001b[0mvalue\u001b[0m \u001b[0;34m=\u001b[0m \u001b[0mself\u001b[0m\u001b[0;34m.\u001b[0m\u001b[0m_cache\u001b[0m\u001b[0;34m[\u001b[0m\u001b[0mkey\u001b[0m\u001b[0;34m]\u001b[0m\u001b[0;34m\u001b[0m\u001b[0m\n\u001b[0m\u001b[1;32m     43\u001b[0m             \u001b[0mself\u001b[0m\u001b[0;34m.\u001b[0m\u001b[0m_cache\u001b[0m\u001b[0;34m.\u001b[0m\u001b[0mmove_to_end\u001b[0m\u001b[0;34m(\u001b[0m\u001b[0mkey\u001b[0m\u001b[0;34m)\u001b[0m\u001b[0;34m\u001b[0m\u001b[0m\n",
      "\u001b[0;31mKeyError\u001b[0m: [<function _open_netcdf4_group at 0x7fc6e9a5f2f0>, ('/scen3/logan/testdata/XCLIM_workshop/Exercise1/test.nc', CombinedLock([<distributed.lock.Lock object at 0x7fc675ce2128>, <SerializableLock: 6c16b795-9ead-43cb-baae-0d44f7e9e6ed>, <SerializableLock: 4cab7838-eef7-4988-b45b-63c644d556b0>])), 'a', (('clobber', True), ('diskless', False), ('format', 'NETCDF4'), ('group', None), ('persist', False))]",
      "\nDuring handling of the above exception, another exception occurred:\n",
      "\u001b[0;31mPermissionError\u001b[0m                           Traceback (most recent call last)",
      "\u001b[0;32m<ipython-input-17-b8997f251976>\u001b[0m in \u001b[0;36m<module>\u001b[0;34m\u001b[0m\n\u001b[1;32m      2\u001b[0m \u001b[0mstart\u001b[0m\u001b[0;34m=\u001b[0m \u001b[0mtime\u001b[0m\u001b[0;34m.\u001b[0m\u001b[0mtime\u001b[0m\u001b[0;34m(\u001b[0m\u001b[0;34m)\u001b[0m\u001b[0;34m\u001b[0m\u001b[0m\n\u001b[1;32m      3\u001b[0m \u001b[0;34m\u001b[0m\u001b[0m\n\u001b[0;32m----> 4\u001b[0;31m \u001b[0mdsOut\u001b[0m\u001b[0;34m.\u001b[0m\u001b[0mto_netcdf\u001b[0m\u001b[0;34m(\u001b[0m \u001b[0moutfile\u001b[0m\u001b[0;34m,\u001b[0m\u001b[0mformat\u001b[0m\u001b[0;34m=\u001b[0m\u001b[0;34m'NETCDF4'\u001b[0m\u001b[0;34m)\u001b[0m\u001b[0;34m\u001b[0m\u001b[0m\n\u001b[0m\u001b[1;32m      5\u001b[0m \u001b[0;34m\u001b[0m\u001b[0m\n\u001b[1;32m      6\u001b[0m \u001b[0mend\u001b[0m \u001b[0;34m=\u001b[0m \u001b[0mtime\u001b[0m\u001b[0;34m.\u001b[0m\u001b[0mtime\u001b[0m\u001b[0;34m(\u001b[0m\u001b[0;34m)\u001b[0m\u001b[0;34m\u001b[0m\u001b[0m\n",
      "\u001b[0;32m/usr/local/DEV/anaconda3/envs/python36/lib/python3.6/site-packages/xarray/core/dataset.py\u001b[0m in \u001b[0;36mto_netcdf\u001b[0;34m(self, path, mode, format, group, engine, encoding, unlimited_dims, compute)\u001b[0m\n\u001b[1;32m   1321\u001b[0m                          \u001b[0mengine\u001b[0m\u001b[0;34m=\u001b[0m\u001b[0mengine\u001b[0m\u001b[0;34m,\u001b[0m \u001b[0mencoding\u001b[0m\u001b[0;34m=\u001b[0m\u001b[0mencoding\u001b[0m\u001b[0;34m,\u001b[0m\u001b[0;34m\u001b[0m\u001b[0m\n\u001b[1;32m   1322\u001b[0m                          \u001b[0munlimited_dims\u001b[0m\u001b[0;34m=\u001b[0m\u001b[0munlimited_dims\u001b[0m\u001b[0;34m,\u001b[0m\u001b[0;34m\u001b[0m\u001b[0m\n\u001b[0;32m-> 1323\u001b[0;31m                          compute=compute)\n\u001b[0m\u001b[1;32m   1324\u001b[0m \u001b[0;34m\u001b[0m\u001b[0m\n\u001b[1;32m   1325\u001b[0m     def to_zarr(self, store=None, mode='w-', synchronizer=None, group=None,\n",
      "\u001b[0;32m/usr/local/DEV/anaconda3/envs/python36/lib/python3.6/site-packages/xarray/backends/api.py\u001b[0m in \u001b[0;36mto_netcdf\u001b[0;34m(dataset, path_or_file, mode, format, group, engine, encoding, unlimited_dims, compute, multifile)\u001b[0m\n\u001b[1;32m    791\u001b[0m     \u001b[0mtarget\u001b[0m \u001b[0;34m=\u001b[0m \u001b[0mpath_or_file\u001b[0m \u001b[0;32mif\u001b[0m \u001b[0mpath_or_file\u001b[0m \u001b[0;32mis\u001b[0m \u001b[0;32mnot\u001b[0m \u001b[0;32mNone\u001b[0m \u001b[0;32melse\u001b[0m \u001b[0mBytesIO\u001b[0m\u001b[0;34m(\u001b[0m\u001b[0;34m)\u001b[0m\u001b[0;34m\u001b[0m\u001b[0m\n\u001b[1;32m    792\u001b[0m     \u001b[0mkwargs\u001b[0m \u001b[0;34m=\u001b[0m \u001b[0mdict\u001b[0m\u001b[0;34m(\u001b[0m\u001b[0mautoclose\u001b[0m\u001b[0;34m=\u001b[0m\u001b[0;32mTrue\u001b[0m\u001b[0;34m)\u001b[0m \u001b[0;32mif\u001b[0m \u001b[0mautoclose\u001b[0m \u001b[0;32melse\u001b[0m \u001b[0;34m{\u001b[0m\u001b[0;34m}\u001b[0m\u001b[0;34m\u001b[0m\u001b[0m\n\u001b[0;32m--> 793\u001b[0;31m     \u001b[0mstore\u001b[0m \u001b[0;34m=\u001b[0m \u001b[0mstore_open\u001b[0m\u001b[0;34m(\u001b[0m\u001b[0mtarget\u001b[0m\u001b[0;34m,\u001b[0m \u001b[0mmode\u001b[0m\u001b[0;34m,\u001b[0m \u001b[0mformat\u001b[0m\u001b[0;34m,\u001b[0m \u001b[0mgroup\u001b[0m\u001b[0;34m,\u001b[0m \u001b[0;34m**\u001b[0m\u001b[0mkwargs\u001b[0m\u001b[0;34m)\u001b[0m\u001b[0;34m\u001b[0m\u001b[0m\n\u001b[0m\u001b[1;32m    794\u001b[0m \u001b[0;34m\u001b[0m\u001b[0m\n\u001b[1;32m    795\u001b[0m     \u001b[0;32mif\u001b[0m \u001b[0munlimited_dims\u001b[0m \u001b[0;32mis\u001b[0m \u001b[0;32mNone\u001b[0m\u001b[0;34m:\u001b[0m\u001b[0;34m\u001b[0m\u001b[0m\n",
      "\u001b[0;32m/usr/local/DEV/anaconda3/envs/python36/lib/python3.6/site-packages/xarray/backends/netCDF4_.py\u001b[0m in \u001b[0;36mopen\u001b[0;34m(cls, filename, mode, format, group, clobber, diskless, persist, lock, lock_maker, autoclose)\u001b[0m\n\u001b[1;32m    350\u001b[0m             kwargs=dict(group=group, clobber=clobber, diskless=diskless,\n\u001b[1;32m    351\u001b[0m                         persist=persist, format=format))\n\u001b[0;32m--> 352\u001b[0;31m         \u001b[0;32mreturn\u001b[0m \u001b[0mcls\u001b[0m\u001b[0;34m(\u001b[0m\u001b[0mmanager\u001b[0m\u001b[0;34m,\u001b[0m \u001b[0mlock\u001b[0m\u001b[0;34m=\u001b[0m\u001b[0mlock\u001b[0m\u001b[0;34m,\u001b[0m \u001b[0mautoclose\u001b[0m\u001b[0;34m=\u001b[0m\u001b[0mautoclose\u001b[0m\u001b[0;34m)\u001b[0m\u001b[0;34m\u001b[0m\u001b[0m\n\u001b[0m\u001b[1;32m    353\u001b[0m \u001b[0;34m\u001b[0m\u001b[0m\n\u001b[1;32m    354\u001b[0m     \u001b[0;34m@\u001b[0m\u001b[0mproperty\u001b[0m\u001b[0;34m\u001b[0m\u001b[0m\n",
      "\u001b[0;32m/usr/local/DEV/anaconda3/envs/python36/lib/python3.6/site-packages/xarray/backends/netCDF4_.py\u001b[0m in \u001b[0;36m__init__\u001b[0;34m(self, manager, lock, autoclose)\u001b[0m\n\u001b[1;32m    309\u001b[0m \u001b[0;34m\u001b[0m\u001b[0m\n\u001b[1;32m    310\u001b[0m         \u001b[0mself\u001b[0m\u001b[0;34m.\u001b[0m\u001b[0m_manager\u001b[0m \u001b[0;34m=\u001b[0m \u001b[0mmanager\u001b[0m\u001b[0;34m\u001b[0m\u001b[0m\n\u001b[0;32m--> 311\u001b[0;31m         \u001b[0mself\u001b[0m\u001b[0;34m.\u001b[0m\u001b[0mformat\u001b[0m \u001b[0;34m=\u001b[0m \u001b[0mself\u001b[0m\u001b[0;34m.\u001b[0m\u001b[0mds\u001b[0m\u001b[0;34m.\u001b[0m\u001b[0mdata_model\u001b[0m\u001b[0;34m\u001b[0m\u001b[0m\n\u001b[0m\u001b[1;32m    312\u001b[0m         \u001b[0mself\u001b[0m\u001b[0;34m.\u001b[0m\u001b[0m_filename\u001b[0m \u001b[0;34m=\u001b[0m \u001b[0mself\u001b[0m\u001b[0;34m.\u001b[0m\u001b[0mds\u001b[0m\u001b[0;34m.\u001b[0m\u001b[0mfilepath\u001b[0m\u001b[0;34m(\u001b[0m\u001b[0;34m)\u001b[0m\u001b[0;34m\u001b[0m\u001b[0m\n\u001b[1;32m    313\u001b[0m         \u001b[0mself\u001b[0m\u001b[0;34m.\u001b[0m\u001b[0mis_remote\u001b[0m \u001b[0;34m=\u001b[0m \u001b[0mis_remote_uri\u001b[0m\u001b[0;34m(\u001b[0m\u001b[0mself\u001b[0m\u001b[0;34m.\u001b[0m\u001b[0m_filename\u001b[0m\u001b[0;34m)\u001b[0m\u001b[0;34m\u001b[0m\u001b[0m\n",
      "\u001b[0;32m/usr/local/DEV/anaconda3/envs/python36/lib/python3.6/site-packages/xarray/backends/netCDF4_.py\u001b[0m in \u001b[0;36mds\u001b[0;34m(self)\u001b[0m\n\u001b[1;32m    354\u001b[0m     \u001b[0;34m@\u001b[0m\u001b[0mproperty\u001b[0m\u001b[0;34m\u001b[0m\u001b[0m\n\u001b[1;32m    355\u001b[0m     \u001b[0;32mdef\u001b[0m \u001b[0mds\u001b[0m\u001b[0;34m(\u001b[0m\u001b[0mself\u001b[0m\u001b[0;34m)\u001b[0m\u001b[0;34m:\u001b[0m\u001b[0;34m\u001b[0m\u001b[0m\n\u001b[0;32m--> 356\u001b[0;31m         \u001b[0;32mreturn\u001b[0m \u001b[0mself\u001b[0m\u001b[0;34m.\u001b[0m\u001b[0m_manager\u001b[0m\u001b[0;34m.\u001b[0m\u001b[0macquire\u001b[0m\u001b[0;34m(\u001b[0m\u001b[0;34m)\u001b[0m\u001b[0;34m.\u001b[0m\u001b[0mvalue\u001b[0m\u001b[0;34m\u001b[0m\u001b[0m\n\u001b[0m\u001b[1;32m    357\u001b[0m \u001b[0;34m\u001b[0m\u001b[0m\n\u001b[1;32m    358\u001b[0m     \u001b[0;32mdef\u001b[0m \u001b[0mopen_store_variable\u001b[0m\u001b[0;34m(\u001b[0m\u001b[0mself\u001b[0m\u001b[0;34m,\u001b[0m \u001b[0mname\u001b[0m\u001b[0;34m,\u001b[0m \u001b[0mvar\u001b[0m\u001b[0;34m)\u001b[0m\u001b[0;34m:\u001b[0m\u001b[0;34m\u001b[0m\u001b[0m\n",
      "\u001b[0;32m/usr/local/DEV/anaconda3/envs/python36/lib/python3.6/site-packages/xarray/backends/file_manager.py\u001b[0m in \u001b[0;36macquire\u001b[0;34m(self, needs_lock)\u001b[0m\n\u001b[1;32m    171\u001b[0m                     \u001b[0mkwargs\u001b[0m \u001b[0;34m=\u001b[0m \u001b[0mkwargs\u001b[0m\u001b[0;34m.\u001b[0m\u001b[0mcopy\u001b[0m\u001b[0;34m(\u001b[0m\u001b[0;34m)\u001b[0m\u001b[0;34m\u001b[0m\u001b[0m\n\u001b[1;32m    172\u001b[0m                     \u001b[0mkwargs\u001b[0m\u001b[0;34m[\u001b[0m\u001b[0;34m'mode'\u001b[0m\u001b[0;34m]\u001b[0m \u001b[0;34m=\u001b[0m \u001b[0mself\u001b[0m\u001b[0;34m.\u001b[0m\u001b[0m_mode\u001b[0m\u001b[0;34m\u001b[0m\u001b[0m\n\u001b[0;32m--> 173\u001b[0;31m                 \u001b[0mfile\u001b[0m \u001b[0;34m=\u001b[0m \u001b[0mself\u001b[0m\u001b[0;34m.\u001b[0m\u001b[0m_opener\u001b[0m\u001b[0;34m(\u001b[0m\u001b[0;34m*\u001b[0m\u001b[0mself\u001b[0m\u001b[0;34m.\u001b[0m\u001b[0m_args\u001b[0m\u001b[0;34m,\u001b[0m \u001b[0;34m**\u001b[0m\u001b[0mkwargs\u001b[0m\u001b[0;34m)\u001b[0m\u001b[0;34m\u001b[0m\u001b[0m\n\u001b[0m\u001b[1;32m    174\u001b[0m                 \u001b[0;32mif\u001b[0m \u001b[0mself\u001b[0m\u001b[0;34m.\u001b[0m\u001b[0m_mode\u001b[0m \u001b[0;34m==\u001b[0m \u001b[0;34m'w'\u001b[0m\u001b[0;34m:\u001b[0m\u001b[0;34m\u001b[0m\u001b[0m\n\u001b[1;32m    175\u001b[0m                     \u001b[0;31m# ensure file doesn't get overriden when opened again\u001b[0m\u001b[0;34m\u001b[0m\u001b[0;34m\u001b[0m\u001b[0m\n",
      "\u001b[0;32m/usr/local/DEV/anaconda3/envs/python36/lib/python3.6/site-packages/xarray/backends/netCDF4_.py\u001b[0m in \u001b[0;36m_open_netcdf4_group\u001b[0;34m(filename, lock, mode, group, **kwargs)\u001b[0m\n\u001b[1;32m    242\u001b[0m     \u001b[0;32mimport\u001b[0m \u001b[0mnetCDF4\u001b[0m \u001b[0;32mas\u001b[0m \u001b[0mnc4\u001b[0m\u001b[0;34m\u001b[0m\u001b[0m\n\u001b[1;32m    243\u001b[0m \u001b[0;34m\u001b[0m\u001b[0m\n\u001b[0;32m--> 244\u001b[0;31m     \u001b[0mds\u001b[0m \u001b[0;34m=\u001b[0m \u001b[0mnc4\u001b[0m\u001b[0;34m.\u001b[0m\u001b[0mDataset\u001b[0m\u001b[0;34m(\u001b[0m\u001b[0mfilename\u001b[0m\u001b[0;34m,\u001b[0m \u001b[0mmode\u001b[0m\u001b[0;34m=\u001b[0m\u001b[0mmode\u001b[0m\u001b[0;34m,\u001b[0m \u001b[0;34m**\u001b[0m\u001b[0mkwargs\u001b[0m\u001b[0;34m)\u001b[0m\u001b[0;34m\u001b[0m\u001b[0m\n\u001b[0m\u001b[1;32m    245\u001b[0m \u001b[0;34m\u001b[0m\u001b[0m\n\u001b[1;32m    246\u001b[0m     \u001b[0;32mwith\u001b[0m \u001b[0mclose_on_error\u001b[0m\u001b[0;34m(\u001b[0m\u001b[0mds\u001b[0m\u001b[0;34m)\u001b[0m\u001b[0;34m:\u001b[0m\u001b[0;34m\u001b[0m\u001b[0m\n",
      "\u001b[0;32mnetCDF4/_netCDF4.pyx\u001b[0m in \u001b[0;36mnetCDF4._netCDF4.Dataset.__init__\u001b[0;34m()\u001b[0m\n",
      "\u001b[0;32mnetCDF4/_netCDF4.pyx\u001b[0m in \u001b[0;36mnetCDF4._netCDF4._ensure_nc_success\u001b[0;34m()\u001b[0m\n",
      "\u001b[0;31mPermissionError\u001b[0m: [Errno 13] Permission denied: b'/scen3/logan/testdata/XCLIM_workshop/Exercise1/test.nc'"
     ]
    }
   ],
   "source": [
    "outfile = os.path.join(outfolder, 'test.nc')\n",
    "start= time.time()\n",
    "\n",
    "dsOut.to_netcdf( outfile,format='NETCDF4')\n",
    "\n",
    "end = time.time()\n",
    "print('calculation took ',end-start, 's')"
   ]
  },
  {
   "cell_type": "markdown",
   "metadata": {
    "scrolled": true
   },
   "source": [
    "### Rechunk data - bigger memory chunks"
   ]
  },
  {
   "cell_type": "code",
   "execution_count": 14,
   "metadata": {},
   "outputs": [
    {
     "name": "stdout",
     "output_type": "stream",
     "text": [
      "<xarray.Dataset>\n",
      "Dimensions:  (lat: 180, lon: 324, time: 55115)\n",
      "Coordinates:\n",
      "  * lat      (lat) float64 59.96 59.87 59.79 59.71 ... 45.29 45.21 45.12 45.04\n",
      "  * lon      (lon) float64 -81.96 -81.88 -81.8 -81.71 ... -55.21 -55.13 -55.05\n",
      "  * time     (time) object 1950-01-01 00:00:00 ... 2100-12-31 00:00:00\n",
      "Data variables:\n",
      "    tasmax   (time, lat, lon) float32 dask.array<shape=(55115, 180, 324), chunksize=(365, 20, 75)>\n",
      "Attributes:\n",
      "    Conventions:     CF-1.5\n",
      "    title:           CanESM2 model output prepared for CMIP5 historical\n",
      "    history:         2011-04-14T00:21:01Z CMOR rewrote data to comply with CF...\n",
      "    institution:     CCCma (Canadian Centre for Climate Modelling and Analysi...\n",
      "    source:          CanESM2 2010 atmosphere: CanAM4 (AGCM15i, T63L35) ocean:...\n",
      "    redistribution:  Redistribution prohibited. For internal use only.\n"
     ]
    }
   ],
   "source": [
    "print(ds1)\n"
   ]
  },
  {
   "cell_type": "code",
   "execution_count": 15,
   "metadata": {},
   "outputs": [
    {
     "name": "stdout",
     "output_type": "stream",
     "text": [
      "<xarray.Dataset>\n",
      "Dimensions:  (lat: 180, lon: 324, time: 55115)\n",
      "Coordinates:\n",
      "  * lat      (lat) float64 59.96 59.87 59.79 59.71 ... 45.29 45.21 45.12 45.04\n",
      "  * lon      (lon) float64 -81.96 -81.88 -81.8 -81.71 ... -55.21 -55.13 -55.05\n",
      "  * time     (time) object 1950-01-01 00:00:00 ... 2100-12-31 00:00:00\n",
      "Data variables:\n",
      "    tasmax   (time, lat, lon) float32 dask.array<shape=(55115, 180, 324), chunksize=(365, 180, 324)>\n",
      "Attributes:\n",
      "    Conventions:     CF-1.5\n",
      "    title:           CanESM2 model output prepared for CMIP5 historical\n",
      "    history:         2011-04-14T00:21:01Z CMOR rewrote data to comply with CF...\n",
      "    institution:     CCCma (Canadian Centre for Climate Modelling and Analysi...\n",
      "    source:          CanESM2 2010 atmosphere: CanAM4 (AGCM15i, T63L35) ocean:...\n",
      "    redistribution:  Redistribution prohibited. For internal use only.\n"
     ]
    }
   ],
   "source": [
    "ds1 = ds1.chunk(chunks={'time':365, 'lon':-1, 'lat':-1})\n",
    "print(ds1)"
   ]
  },
  {
   "cell_type": "code",
   "execution_count": 16,
   "metadata": {},
   "outputs": [
    {
     "name": "stderr",
     "output_type": "stream",
     "text": [
      "WARNING:py.warnings:/usr/local/DEV/anaconda3/envs/python36/lib/python3.6/site-packages/xclim/checks.py:30: UserWarning: Variable does not have a `cell_methods` attribute.\n",
      "  warn(e)\n",
      "\n"
     ]
    },
    {
     "name": "stdout",
     "output_type": "stream",
     "text": [
      "calculation took  114.31398057937622 s\n"
     ]
    }
   ],
   "source": [
    "out = atmos.tx_max(ds1.tasmax, freq=fr)\n",
    "dsOut = ds1.drop(ds1.data_vars)\n",
    "dsOut = dsOut.drop('time')\n",
    "dsOut[out.name] = out\n",
    "outfile = os.path.join(outfolder, 'test.nc')\n",
    "start= time.time()\n",
    "\n",
    "dsOut.to_netcdf( outfile,format='NETCDF4')\n",
    "\n",
    "end = time.time()\n",
    "print('calculation took ',end-start, 's')"
   ]
  },
  {
   "cell_type": "code",
   "execution_count": null,
   "metadata": {},
   "outputs": [],
   "source": []
  }
 ],
 "metadata": {
  "kernelspec": {
   "display_name": "Python 3",
   "language": "python",
   "name": "python3"
  },
  "language_info": {
   "codemirror_mode": {
    "name": "ipython",
    "version": 3
   },
   "file_extension": ".py",
   "mimetype": "text/x-python",
   "name": "python",
   "nbconvert_exporter": "python",
   "pygments_lexer": "ipython3",
   "version": "3.6.6"
  }
 },
 "nbformat": 4,
 "nbformat_minor": 2
}
