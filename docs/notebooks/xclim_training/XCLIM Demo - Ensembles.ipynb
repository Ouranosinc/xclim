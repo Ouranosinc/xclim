{
 "cells": [
  {
   "cell_type": "markdown",
   "metadata": {},
   "source": [
    "# Ensemble statistics\n",
    "\n",
    "This notebook presents functions designed to work with simulation ensembles. "
   ]
  },
  {
   "cell_type": "code",
   "execution_count": null,
   "metadata": {},
   "outputs": [],
   "source": [
    "%matplotlib inline\n",
    "from __future__ import annotations\n",
    "\n",
    "import glob\n",
    "import logging\n",
    "\n",
    "import matplotlib.pyplot as plt\n",
    "\n",
    "mpl_logger = logging.getLogger(\"matplotlib\")\n",
    "mpl_logger.setLevel(logging.WARNING)\n",
    "\n",
    "import dask\n",
    "\n",
    "# XCLIM and xarray\n",
    "import numpy as np\n",
    "import xarray as xr\n",
    "from distributed import Client"
   ]
  },
  {
   "cell_type": "markdown",
   "metadata": {},
   "source": [
    "## 1. Set up Dask client - Parallel processing / workers"
   ]
  },
  {
   "cell_type": "code",
   "execution_count": null,
   "metadata": {},
   "outputs": [],
   "source": [
    "# start client\n",
    "client = Client(\n",
    "    n_workers=2, threads_per_worker=10, dashboard_address=8788, memory_limit=\"10GB\"\n",
    ")\n",
    "client"
   ]
  },
  {
   "cell_type": "markdown",
   "metadata": {},
   "source": [
    "## Ensemble creation & analysis\n",
    "**Use precalculated annual tx_max index using bias-corrected climate scenarios**"
   ]
  },
  {
   "cell_type": "code",
   "execution_count": null,
   "metadata": {},
   "outputs": [],
   "source": [
    "# create dictionary with list of rcp 4.5 and 8.5 files\n",
    "inrep = \"<path_to_data>/testdata/XCLIM_workshop/ensemble_data/\"\n",
    "rcps = [\"rcp45\", \"rcp85\"]\n",
    "v = \"tx_max\"\n",
    "ncfiles = {}\n",
    "for r in rcps:\n",
    "    ncfiles[r] = glob.glob(glob.os.path.join(inrep, r, v, \"*.nc\"))\n",
    "print(ncfiles[r])"
   ]
  },
  {
   "cell_type": "markdown",
   "metadata": {},
   "source": [
    "### 1. Create ensemble dataset - concatenation of overlapping time-steps of the different models along a new axis 'realization'\n",
    "\n",
    "Using `xarray` a very simple way of creating an ensemble dataset would be :\n",
    "```python\n",
    "open_mfdataset(files, concat_dim='ensemble') \n",
    "```\n",
    "\n",
    "However, this is only successful when the dimensions of all the files are identical AND only if the calendar type of each netcdf file is the same\n",
    "\n",
    "xclim's `create_ensemble()` function overcomes these constraints selecting the common time period to all files and assigns a standard calendar type to the dataset. \n",
    "\n",
    "-----\n",
    "Notes\n",
    "\n",
    "Input netcdf files still require equal spatial dimension size (e.g. lon, lat dimensions) <br />\n",
    "If input data contains multiple cftime calendar types they must not be at daily frequency"
   ]
  },
  {
   "cell_type": "code",
   "execution_count": null,
   "metadata": {},
   "outputs": [],
   "source": [
    "from xclim import ensembles as xens\n",
    "\n",
    "print(\"Creating RCP 4.5 ensemble\")\n",
    "ens_rcp45 = xens.create_ensemble(ncfiles[\"rcp45\"])\n",
    "print(\"\\nCreating RCP 8.5 ensemble\")\n",
    "ens_rcp85 = xens.create_ensemble(ncfiles[\"rcp85\"])"
   ]
  },
  {
   "cell_type": "markdown",
   "metadata": {},
   "source": [
    "### 2. Ensemble data sets have an additional dimension 'realization'"
   ]
  },
  {
   "cell_type": "code",
   "execution_count": null,
   "metadata": {},
   "outputs": [],
   "source": [
    "print(\"RCP 4.5 dataset dimensions: \\t\", ens_rcp45.tx_max.dims)\n",
    "print(\"RCP 4.5 dataset size: \\t\\t\", ens_rcp45.tx_max.shape)"
   ]
  },
  {
   "cell_type": "markdown",
   "metadata": {},
   "source": [
    "### 3. Simple plots\n",
    "-----\n",
    "**Time series plot of each simulation : Average of spatial domain ['lon','lat']**"
   ]
  },
  {
   "cell_type": "code",
   "execution_count": null,
   "metadata": {},
   "outputs": [],
   "source": [
    "plt.rcParams[\"figure.figsize\"] = [9.5 * 1.5, 6 * 1.5]\n",
    "ens_rcp45[\"tx_max\"].mean([\"lon\", \"lat\"]).plot.line(\n",
    "    x=\"time\", color=\"blue\", lw=0.3, alpha=0.5, add_legend=False\n",
    ")\n",
    "ens_rcp85[\"tx_max\"].mean([\"lon\", \"lat\"]).plot.line(\n",
    "    x=\"time\", color=\"red\", lw=0.3, alpha=0.5, add_legend=False\n",
    ")"
   ]
  },
  {
   "cell_type": "markdown",
   "metadata": {},
   "source": [
    "### 4. Ensemble statistics\n",
    "Beyond creating ensemble dataset the `xclim.ensembles` module contains functions for calculating statistics between realizations\n",
    "\n",
    "**Ensemble mean, standard-deviation, max & min**\n",
    "\n",
    "In the example below we use xclim's `ensemble_mean_std_max_min()` to calculate statistics across the 11 realizations in our test dataset. Output variables are created combining the original variable name `tx_max` with addtional ending indicating the statistic calculated on the realization dimension : `_mean`, `_stdev`, `_min`, `_max`\n",
    "\n",
    "The resulting output now contains 4 derived variables from the original single variable in our ensemble dataset"
   ]
  },
  {
   "cell_type": "code",
   "execution_count": null,
   "metadata": {},
   "outputs": [],
   "source": [
    "ens_stats = {}\n",
    "ens_stats[\"rcp85\"] = xens.ensemble_mean_std_max_min(ens_rcp85)\n",
    "ens_stats[\"rcp45\"] = xens.ensemble_mean_std_max_min(ens_rcp45)\n",
    "print(ens_stats[\"rcp85\"].data_vars)"
   ]
  },
  {
   "cell_type": "markdown",
   "metadata": {},
   "source": [
    "**Ensemble time-series figures**\n",
    "\n",
    "Using `matplotlib` we can employ the `fill_between()` function to create our classic ensemble time-series figures "
   ]
  },
  {
   "cell_type": "code",
   "execution_count": null,
   "metadata": {},
   "outputs": [],
   "source": [
    "plt.rcParams[\"figure.figsize\"] = [9.5 * 1.5, 6 * 1.5]\n",
    "for r in rcps:\n",
    "    if \"rcp45\" in r:\n",
    "        col1 = \"blue\"\n",
    "    else:\n",
    "        col1 = \"red\"\n",
    "    # Uncertainty Envelope (max, min)\n",
    "    x = ens_stats[r][\"tx_max_mean\"].time.dt.year\n",
    "    y1 = ens_stats[r][\"tx_max_max\"].mean([\"lon\", \"lat\"])\n",
    "    y2 = ens_stats[r][\"tx_max_min\"].mean([\"lon\", \"lat\"])\n",
    "    plt.fill_between(x, y1, y2, facecolor=col1, alpha=0.25)\n",
    "\n",
    "    # Plot ensemble mean\n",
    "    plt.plot(\n",
    "        x, ens_stats[r][\"tx_max_mean\"].mean([\"lon\", \"lat\"]), color=col1, linewidth=1\n",
    "    )\n",
    "plt.xlabel(\"year\")\n",
    "plt.ylabel(ens_rcp45[v].units)"
   ]
  },
  {
   "cell_type": "markdown",
   "metadata": {},
   "source": [
    "### 4b. Ensemble percentiles\n",
    "\n",
    "**Ensemble percentile calculation**\n",
    "\n",
    "Here we use xclim's `ensemble_percentiles()` to calculate percentile values across the 11 realizations. \n",
    "Output variables are created for combining the original variable name `tx_max` with the addtional ending `_p{x}` where x are the input percentile values `default = [10, 50, 90]`"
   ]
  },
  {
   "cell_type": "code",
   "execution_count": null,
   "metadata": {},
   "outputs": [],
   "source": [
    "ens_perc = {}\n",
    "ens_perc[\"rcp85\"] = xens.ensemble_percentiles(ens_rcp85)\n",
    "ens_perc[\"rcp45\"] = xens.ensemble_percentiles(ens_rcp45)\n",
    "print(ens_perc[\"rcp85\"].data_vars)"
   ]
  },
  {
   "cell_type": "code",
   "execution_count": null,
   "metadata": {},
   "outputs": [],
   "source": [
    "plt.rcParams[\"figure.figsize\"] = [9.5 * 1.5, 6 * 1.5]\n",
    "\n",
    "for r in rcps:\n",
    "    if \"rcp45\" in r:\n",
    "        col1 = \"blue\"\n",
    "    else:\n",
    "        col1 = \"red\"\n",
    "\n",
    "    # Uncertainty 10-90th band\n",
    "    y1 = ens_perc[r][\"tx_max_p90\"].mean([\"lon\", \"lat\"])\n",
    "    y2 = ens_perc[r][\"tx_max_p10\"].mean([\"lon\", \"lat\"])\n",
    "    plt.fill_between(x, y1, y2, facecolor=col1, alpha=0.2)\n",
    "\n",
    "    plt.plot(x, ens_perc[r][\"tx_max_p50\"].mean([\"lon\", \"lat\"]), color=col1, linewidth=1)\n",
    "plt.xlabel(\"year\")\n",
    "plt.ylabel(ens_rcp45[v].units)"
   ]
  },
  {
   "cell_type": "markdown",
   "metadata": {},
   "source": [
    "**User's can optionally use custom percentile values**"
   ]
  },
  {
   "cell_type": "code",
   "execution_count": null,
   "metadata": {},
   "outputs": [],
   "source": [
    "ens_perc = {}\n",
    "ens_perc[\"rcp85\"] = xens.ensemble_percentiles(ens_rcp85, values=[10, 25, 50, 75, 90])\n",
    "ens_perc[\"rcp45\"] = xens.ensemble_percentiles(ens_rcp45, values=[10, 25, 50, 75, 90])\n",
    "print(ens_perc[\"rcp85\"].data_vars)"
   ]
  },
  {
   "cell_type": "markdown",
   "metadata": {},
   "source": [
    "**Subplot by RCP**\n",
    "\n",
    "Plot with double uncertainty bands (10<sup>th</sup> to 90<sup>th</sup> & 25<sup>th</sup> to 75<sup>th</sup>)"
   ]
  },
  {
   "cell_type": "code",
   "execution_count": null,
   "metadata": {},
   "outputs": [],
   "source": [
    "plt.rcParams[\"figure.figsize\"] = [9.5 * 1.5, 6 * 1.5]\n",
    "ax = {}\n",
    "ylim_vals = []\n",
    "for r in rcps:\n",
    "    if \"rcp45\" in r:\n",
    "        col1 = \"blue\"\n",
    "        ax[r] = plt.subplot(212)\n",
    "    else:\n",
    "        col1 = \"red\"\n",
    "        ax[r] = plt.subplot(211)\n",
    "\n",
    "    # Uncertainty 10-90th band\n",
    "    y1 = ens_perc[r][\"tx_max_p90\"].mean([\"lon\", \"lat\"])\n",
    "    y2 = ens_perc[r][\"tx_max_p10\"].mean([\"lon\", \"lat\"])\n",
    "    plt.fill_between(x, y1, y2, facecolor=col1, alpha=0.15)\n",
    "\n",
    "    # Uncertainty 25th-75th band\n",
    "    y1 = ens_perc[r][\"tx_max_p75\"].mean([\"lon\", \"lat\"])\n",
    "    y2 = ens_perc[r][\"tx_max_p25\"].mean([\"lon\", \"lat\"])\n",
    "    plt.fill_between(x, y1, y2, facecolor=col1, alpha=0.2)\n",
    "    plt.plot(x, ens_perc[r][\"tx_max_p50\"].mean([\"lon\", \"lat\"]), color=col1, linewidth=1)\n",
    "    plt.title(r)\n",
    "    plt.xlabel(\"year\")\n",
    "    plt.ylabel(ens_perc[r][\"tx_max_p50\"].units)\n",
    "    ylim_vals.extend(ax[r].get_ylim())\n",
    "\n",
    "\n",
    "# Adjust y-axis to common values\n",
    "for r in rcps:\n",
    "    ax[r].set_ylim(np.min(ylim_vals), np.max(ylim_vals))"
   ]
  },
  {
   "cell_type": "markdown",
   "metadata": {},
   "source": [
    "### 5. Climatologies and delta calculations\n",
    "\n",
    "`xarray` has many ways to allow us to select and average data.  \n",
    "The following example employ `rolling()` in order to create 30 year moving averages and `sel()` for selecting time periods\n",
    "\n",
    "Other `xarray` functions that could potentially be use include `coarsen()` or `groupby()`  \n",
    "http://xarray.pydata.org/en/stable/generated/xarray.DataArray.coarsen.html?highlight=coarsen  \n",
    "http://xarray.pydata.org/en/stable/groupby.html"
   ]
  },
  {
   "cell_type": "code",
   "execution_count": null,
   "metadata": {},
   "outputs": [],
   "source": [
    "# 30 year averages\n",
    "ens30y = ens_rcp85.rolling(time=30, center=False).mean()\n",
    "print(ens30y)"
   ]
  },
  {
   "cell_type": "markdown",
   "metadata": {},
   "source": [
    "-----\n",
    "Notes - with center==False the output dates represents the end of the moving average"
   ]
  },
  {
   "cell_type": "markdown",
   "metadata": {},
   "source": [
    "### Selecting reference period : 1981-2010 \n",
    "The `xarray.DataArray.sel()` method is a convenient way to select data.  \n",
    "Here we select the 1981-2010 average from our data simply using a datestring without having to use traditional indexing \n",
    "\n",
    "see http://xarray.pydata.org/en/stable/indexing.html for more info on selecting and indexing data with `xarray`"
   ]
  },
  {
   "cell_type": "code",
   "execution_count": null,
   "metadata": {},
   "outputs": [],
   "source": [
    "# select reference period\n",
    "ref_per = ens30y.sel(time=\"2010-01-01\")\n",
    "print(ref_per[\"tx_max\"].dims)\n",
    "print(ref_per[\"tx_max\"].shape)"
   ]
  },
  {
   "cell_type": "markdown",
   "metadata": {},
   "source": [
    "### Mapping the 1981-2010 average for a single model\n",
    "The `isel()` method is another `xarray` selection method. It still relies on indexes but without needing to know the dimension order \n",
    "\n",
    "Here we display the reference period values for the first model  of the ensemble (index == 0)"
   ]
  },
  {
   "cell_type": "code",
   "execution_count": null,
   "metadata": {},
   "outputs": [],
   "source": [
    "# map of single model\n",
    "ref_per[\"tx_max\"].isel(realization=0).plot.imshow()"
   ]
  },
  {
   "cell_type": "markdown",
   "metadata": {},
   "source": [
    "### Calculate delta values \n",
    " \n",
    "substracting our reference `ref_per` from our 30 year moving averages `ens30y` will calculate delta values for all moving windows and all (n=11) models in a single step"
   ]
  },
  {
   "cell_type": "code",
   "execution_count": null,
   "metadata": {},
   "outputs": [],
   "source": [
    "ensDeltas = ens30y - ref_per\n",
    "print(ensDeltas.data_vars)"
   ]
  },
  {
   "cell_type": "markdown",
   "metadata": {},
   "source": [
    "**Ensemble statistics on 30 year deltas**  "
   ]
  },
  {
   "cell_type": "code",
   "execution_count": null,
   "metadata": {},
   "outputs": [],
   "source": [
    "ens_percDeltas = xens.ensemble_percentiles(ensDeltas)\n",
    "print(ens_percDeltas.data_vars)"
   ]
  },
  {
   "cell_type": "markdown",
   "metadata": {},
   "source": [
    "**Map of ensemble median delta RCP 8.5 : 2071-2100 vs 1981-2010**"
   ]
  },
  {
   "cell_type": "code",
   "execution_count": null,
   "metadata": {},
   "outputs": [],
   "source": [
    "ens_percDeltas[\"tx_max_p50\"].sel(time=\"2100-01-01\").plot.imshow()\n",
    "plt.title(\"Delta tx_max 2071-2100 versus 1981-2010 : RCP 8.5\")"
   ]
  },
  {
   "cell_type": "code",
   "execution_count": null,
   "metadata": {},
   "outputs": [],
   "source": []
  }
 ],
 "metadata": {
  "kernelspec": {
   "display_name": "Python 3",
   "language": "python",
   "name": "python3"
  },
  "language_info": {
   "codemirror_mode": {
    "name": "ipython",
    "version": 3
   },
   "file_extension": ".py",
   "mimetype": "text/x-python",
   "name": "python",
   "nbconvert_exporter": "python",
   "pygments_lexer": "ipython3",
   "version": "3.6.7"
  }
 },
 "nbformat": 4,
 "nbformat_minor": 2
}
