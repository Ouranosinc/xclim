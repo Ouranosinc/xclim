{
 "cells": [
  {
   "cell_type": "markdown",
   "metadata": {},
   "source": [
    "# Exercices pratiques\n",
    "\n",
    "Pour le reste de la formation, on vous demande d'utiliser xclim pour reproduire des analyses standards que vous faites régulièrement, que vous avez déjà fait ou que vous devrez faire. \n",
    "\n",
    "\n",
    "Notez les problèmes que vous rencontrez, les opérations non-intuitives, les limitations que vous percevez. On se servira de vos commentaires pour compléter notre documentation et améliorer xclim.  \n",
    "\n",
    "- Documentation xclim: https://xclim.readthedocs.io/en/latest/\n",
    "- Documentation xarray: http://xarray.pydata.org/en/stable/\n",
    "\n",
    "Pour rapporter un problème avec xclim ou faire une suggestion: https://github.com/Ouranosinc/xclim/issues\n",
    "\n",
    "\n",
    "Vous pouvez travailler dans un notebook en lançant dans votre environnement python36 la commande\n",
    "\n",
    "```bash\n",
    "$ jupyter notebook\n",
    "```\n",
    "\n",
    "SVP réduisez les dimensions de vos calculs afin de donner une chance à nos machines !\n"
   ]
  },
  {
   "cell_type": "markdown",
   "metadata": {},
   "source": [
    "## Quelques trucs\n",
    "\n",
    "### Wildcards dans les chemins \n",
    "\n",
    "Vous pouvez vous servir des wildcards pour ouvrir plusieurs fichiers à la fois. "
   ]
  },
  {
   "cell_type": "code",
   "execution_count": null,
   "metadata": {
    "tags": [
     "skip"
    ]
   },
   "outputs": [],
   "source": [
    "from __future__ import annotations\n",
    "\n",
    "import xarray as xr\n",
    "\n",
    "from xclim.testing import ope\n",
    "\n",
    "# Pour ouvrir tous les mois d'une année:\n",
    "ds = xr.open_mfdataset(\"<path_to_file>/tas_bch_2032??_se.nc\")"
   ]
  },
  {
   "cell_type": "markdown",
   "metadata": {},
   "source": [
    "### Propager les unités\n",
    "\n",
    "xclim vérifie que les unités sont compatibles avec l'indicateur à calculer. Par contre, les opérations xarray ne conservent pas les unités par défaut. Pour propager les attributs d'un object, utilisez `keep_attrs=True`. "
   ]
  },
  {
   "cell_type": "code",
   "execution_count": null,
   "metadata": {
    "tags": [
     "skip"
    ]
   },
   "outputs": [],
   "source": [
    "ts = (\n",
    "    ds.tas.isel(rlat=slice(0, 2), rlon=slice(0, 2))\n",
    "    .resample(time=\"D\")\n",
    "    .mean(dim=\"time\", keep_attrs=True)\n",
    ")"
   ]
  }
 ],
 "metadata": {
  "kernelspec": {
   "display_name": "Python 3",
   "language": "python",
   "name": "python3"
  },
  "language_info": {
   "codemirror_mode": {
    "name": "ipython",
    "version": 3
   },
   "file_extension": ".py",
   "mimetype": "text/x-python",
   "name": "python",
   "nbconvert_exporter": "python",
   "pygments_lexer": "ipython3",
   "version": "3.8.5"
  }
 },
 "nbformat": 4,
 "nbformat_minor": 2
}
