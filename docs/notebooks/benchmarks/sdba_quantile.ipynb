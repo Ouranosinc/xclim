{
 "cells": [
  {
   "cell_type": "code",
   "execution_count": null,
   "metadata": {},
   "outputs": [],
   "source": [
    "from __future__ import annotations\n",
    "\n",
    "import time\n",
    "\n",
    "import numpy as np\n",
    "\n",
    "from xclim import sdba\n",
    "from xclim.testing import open_dataset\n",
    "\n",
    "ds = open_dataset(\"sdba/CanESM2_1950-2100.nc\")\n",
    "tx = ds.sel(time=slice(\"1950\", \"1980\")).tasmax\n",
    "kws = {\"dim\": \"time\", \"q\": np.linspace(0, 1, 50)}"
   ]
  },
  {
   "cell_type": "markdown",
   "metadata": {},
   "source": [
    "## Tests with %%timeit (full 30 years)\n",
    "\n",
    "Here `fastnanquantile` is the best algorithm out of \n",
    "* `xr.DataArray.quantile`\n",
    "* `nbutils.quantile`, using: \n",
    "  * `xclim.core.utils.nan_quantile`\n",
    "  * `fastnanquantile`\n"
   ]
  },
  {
   "cell_type": "code",
   "execution_count": null,
   "metadata": {},
   "outputs": [],
   "source": [
    "%%timeit\n",
    "tx.quantile(**kws).compute()"
   ]
  },
  {
   "cell_type": "code",
   "execution_count": null,
   "metadata": {},
   "outputs": [],
   "source": [
    "%%timeit\n",
    "sdba.nbutils.USE_FASTNANQUANTILE = False\n",
    "sdba.nbutils.quantile(tx, **kws).compute()"
   ]
  },
  {
   "cell_type": "code",
   "execution_count": null,
   "metadata": {},
   "outputs": [],
   "source": [
    "! pip install fastnanquantile"
   ]
  },
  {
   "cell_type": "code",
   "execution_count": null,
   "metadata": {},
   "outputs": [],
   "source": [
    "%%timeit\n",
    "sdba.nbutils.USE_FASTNANQUANTILE = True\n",
    "sdba.nbutils.quantile(tx, **kws).compute()"
   ]
  },
  {
   "cell_type": "markdown",
   "metadata": {},
   "source": [
    "## Test computation time as a function of number of points\n",
    "\n",
    "For a smaller number of time steps <=2000, `_sortquantile` is the best algorithm in general"
   ]
  },
  {
   "cell_type": "code",
   "execution_count": null,
   "metadata": {},
   "outputs": [],
   "source": [
    "import matplotlib.pyplot as plt\n",
    "import xarray as xr\n",
    "\n",
    "num_tests = 500\n",
    "timed = {}\n",
    "# fastnanquantile has nothing to do with sortquantile\n",
    "# I just added a third step using this variable\n",
    "\n",
    "for use_fnq in [True, False]:\n",
    "    sdba.nbutils.USE_FASTNANQUANTILE = use_fnq\n",
    "    # heat-up the jit\n",
    "    sdba.nbutils.quantile(xr.DataArray(np.array([0, 1.5])), dim=\"dim_0\", q=np.array([0.5]))\n",
    "    for size in np.arange(250, 2000 + 250, 250):\n",
    "        da = tx.isel(time=slice(0, size))\n",
    "        t0 = time.time()\n",
    "        for _i in range(num_tests):\n",
    "            sdba.nbutils.quantile(da, **kws).compute()\n",
    "        timed[use_fnq].append([size, time.time() - t0])\n",
    "\n",
    "for k, lab in zip([True, False], [\"xclim.core.utils.nan_quantile\", \"fastnanquantile\"], strict=False):\n",
    "    arr = np.array(timed[k])\n",
    "    plt.plot(arr[:, 0], arr[:, 1] / num_tests, label=lab)\n",
    "plt.legend()\n",
    "plt.title(\"Quantile computation, average time vs array size, for 50 quantiles\")\n",
    "plt.xlabel(\"Number of time steps in the distribution\")\n",
    "plt.ylabel(\"Computation time (s)\")"
   ]
  }
 ],
 "metadata": {
  "language_info": {
   "codemirror_mode": {
    "name": "ipython",
    "version": 3
   },
   "file_extension": ".py",
   "mimetype": "text/x-python",
   "name": "python",
   "nbconvert_exporter": "python",
   "pygments_lexer": "ipython3",
   "version": "3.12.3"
  }
 },
 "nbformat": 4,
 "nbformat_minor": 2
}
